{
 "cells": [
  {
   "attachments": {},
   "cell_type": "markdown",
   "metadata": {},
   "source": [
    "### Doolittle Algorithm (LU Decomposition)"
   ]
  },
  {
   "cell_type": "code",
   "execution_count": 1,
   "metadata": {},
   "outputs": [],
   "source": [
    "# Load packages:\n",
    "\n",
    "# this package allows to work efficiently with arrays\n",
    "import numpy as np\n",
    "# this package is used to draw graphs\n",
    "import matplotlib.pyplot as plt\n",
    "# for the numerical application in the end, we will use pi\n",
    "from math import pi"
   ]
  },
  {
   "cell_type": "code",
   "execution_count": 10,
   "metadata": {},
   "outputs": [],
   "source": [
    "def LU_decomposition(A,b):\n",
    "    n=len(A[0])\n",
    "    L = np.zeros([n,n])\n",
    "    U = np.zeros([n, n])\n",
    "    for i in range(n):\n",
    "        L[i][i]=1\n",
    "        if i==0:\n",
    "            U[0][0] = A[0][0]\n",
    "            for j in range(1,n):\n",
    "                U[0][j]=A[0][j]\n",
    "                L[j][0]=A[j][0]/U[0][0]\n",
    "        else:\n",
    "                for j in range(i, n):#U\n",
    "                    temp=0\n",
    "                    for k in range(0, i):\n",
    "                        temp = temp+L[i][k] * U[k][j]\n",
    "                    U[i][j]=A[i][j]-temp\n",
    "                for j in range(i+1, n):#L\n",
    "                    temp = 0\n",
    "                    for k in range(0, i ):\n",
    "                        temp = temp + L[j][k] * U[k][i]\n",
    "                    L[j][i] = (A[j][i] - temp)/U[i][i]\n",
    "    \n",
    "    Z=linalg.solve(L, b)\n",
    "    x=linalg.solve(U, Z)\n",
    "    \n",
    "    print(\"L=\",L)\n",
    "    print(\"U=\",U)\n",
    "    print(\"Z=\",Z)\n",
    "    print(\"Exact solution: x=\",x)\n",
    "    \n",
    "    return"
   ]
  },
  {
   "cell_type": "code",
   "execution_count": 11,
   "metadata": {},
   "outputs": [
    {
     "name": "stdout",
     "output_type": "stream",
     "text": [
      "[[1.         1.         1.        ]\n",
      " [0.         1.         0.        ]\n",
      " [0.         1.66666667 1.        ]]\n"
     ]
    }
   ],
   "source": [
    "# test\n",
    "A = np.array([[1, 1, 1], [2, 3, 1], [4, 5, 6]])\n",
    "print(Doolittle(A)[0])"
   ]
  }
 ],
 "metadata": {
  "kernelspec": {
   "display_name": "base",
   "language": "python",
   "name": "python3"
  },
  "language_info": {
   "codemirror_mode": {
    "name": "ipython",
    "version": 3
   },
   "file_extension": ".py",
   "mimetype": "text/x-python",
   "name": "python",
   "nbconvert_exporter": "python",
   "pygments_lexer": "ipython3",
   "version": "3.9.7"
  },
  "orig_nbformat": 4,
  "vscode": {
   "interpreter": {
    "hash": "40d3a090f54c6569ab1632332b64b2c03c39dcf918b08424e98f38b5ae0af88f"
   }
  }
 },
 "nbformat": 4,
 "nbformat_minor": 2
}
