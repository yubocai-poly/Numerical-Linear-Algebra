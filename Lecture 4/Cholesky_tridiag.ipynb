{
 "cells": [
  {
   "cell_type": "markdown",
   "id": "young-examination",
   "metadata": {},
   "source": [
    "# Tutorial 4:"
   ]
  },
  {
   "cell_type": "code",
   "execution_count": 2,
   "id": "efficient-state",
   "metadata": {},
   "outputs": [],
   "source": [
    "# Load packages:\n",
    "\n",
    "# this package allows to work efficiently with arrays\n",
    "import numpy as np\n",
    "# this package is used to draw graphs\n",
    "import matplotlib.pyplot as plt"
   ]
  },
  {
   "cell_type": "markdown",
   "id": "stupid-thanks",
   "metadata": {},
   "source": [
    "---\n",
    "\n",
    "## Solving tridiagonal systems\n",
    "\n",
    "In this section, we want to construct an algorithm to solve a linear problem $TV = b$ where the matrix $T$ is invertible, symmetric and tridiagonal, i.e. $T_{i,j} = T_{j,i}$ and $T_{i,j} = 0$ if $|i-j|>1$, or equivalently it is of the form \n",
    "\n",
    "$$ T = \\left(\\begin{array}{ccccc}\n",
    "\\alpha_{1} & \\beta_{1} & 0       & \\dots  &  0 \\\\ \n",
    "\\beta_{1} & \\alpha_{2} & \\beta_{2} & \\ddots & \\vdots \\\\\n",
    "0 & \\ddots & \\ddots & \\ddots & 0 \\\\ \n",
    "\\vdots & \\ddots & \\beta_{N-2} & \\alpha_{N-1} & \\beta_{N-1} \\\\\n",
    "0 & \\dots & 0 & \\beta_{N-1} & \\alpha_{N}\n",
    "\\end{array}\\right).$$\n"
   ]
  },
  {
   "cell_type": "markdown",
   "id": "alpine-tuning",
   "metadata": {},
   "source": [
    "Let us construct a Cholesky decomposition for such matrices. We will suppose that no forbidden operations (division by zero and square roots of negative value) occur.   \n",
    "\n",
    "**Question 1**\n",
    "\n",
    "a) Compute the coefficients of the first column of the matrix $L$ of the Cholesky decomposition $T = LL^T$ as functions of $\\alpha_1$ and $\\beta_1$. What do you observe? \n",
    "\n",
    "b) Compute the coefficients of the second column using those values and $\\alpha_2$ and $\\beta_2$. What do you observe again? \n",
    "\n",
    "c) Asuming that this property holds again for all $i$ first column, prove that it holds again for the $i+1$-th. \n",
    "\n",
    "d) Let us denote $\\gamma = (\\gamma_i)_{i=1,\\dots,N}$ and $\\kappa=(\\kappa_i)_{i=1,\\dots,N-1}$ the diagonal and subdiagonal terms of $L$. Write down the iterative sequence satisfied by $(\\gamma_i,\\kappa_i)$, i.e. write $(\\gamma_{i+1},\\kappa_{i+1})$ as a function of the previously computed values $(\\gamma_i,\\kappa_i)$ and on the $(\\alpha_i,\\beta_i)$. "
   ]
  },
  {
   "attachments": {},
   "cell_type": "markdown",
   "id": "premium-dispatch",
   "metadata": {},
   "source": [
    "<table>\n",
    "<tr>   \n",
    "<td bgcolor = lightblue ><font color = white >Answer</td>\n",
    "</tr>\n",
    "</table>\n",
    "\n",
    "---\n",
    "a) We start from the first column of $L$: we have $L_{1,1} = \\sqrt{\\alpha_1}$. Therefore, we have the second equation $L_{2,1} = \\frac{\\beta_1}{\\sqrt{\\alpha_1}}$. Then we have the third equation $L_{3,1} = \\frac{0}{\\sqrt{\\alpha_1}}$. We can see that the first column of $L$ is a vector of the form $(\\sqrt{\\alpha_1},\\frac{\\beta_1}{\\sqrt{\\alpha_1}},0,\\dots,0)^T$.\n",
    "\n",
    "b) Apply the Cholesky decomposition to compute, we have $L_{2,2}=\\sqrt{T_{2,2}-T_{1,2}^2} = \\sqrt{\\alpha_2 - \\frac{\\beta_{1}^2}{\\alpha_1}}$. Then, we try to compute $L_{3,2} = \\frac{A_{3,2}-L_{2,1}L_{3,1}}{L_{2,2}} = \\frac{\\beta_2}{\\sqrt{\\alpha_2 - \\frac{\\beta_{1}^2}{\\alpha_1}}}$. Therefore, we have the vector for the second column of $L$ as $(0,\\sqrt{\\alpha_2 - \\frac{\\beta_{1}^2}{\\alpha_1}},\\frac{\\beta_2}{\\sqrt{\\alpha_2 - \\frac{\\beta_{1}^2}{\\alpha_1}}},0,\\dots,0)^T$.\n",
    "\n",
    "c) Assume that we know $i$ first column of matrix $L$, then the non-zero number of $C_i$ is $L_{i,i}$ and $L_{i+1,i}$. From the formula of Cholesky decomposition, we have\n",
    "$$\n",
    "L_{i+1,i+1} = \\sqrt{A_{i+1,i+1}-\\sum_{k=1}^{i}L_{i+1,k}^2} = \\sqrt{\\alpha_{i+1}-L_{i+1,i}^2}\n",
    "$$\n",
    "Then, we can compute the position $L_{i+2,i+1}$ as\n",
    "$$\n",
    "L_{i+2,i+1} = \\frac{A_{i+2,i+1}-\\sum_{k=1}^{i}L_{i+2,k}L_{i+1,k}}{L_{i+1,i+1}} = \\frac{\\beta_{i+1}}{\\sqrt{\\alpha_{i+1}-L_{i+1,i}^2}} = \\frac{\\beta_{i+1}}{L_{i+1,i+1}} \n",
    "$$\n",
    "\n",
    "d) Assume that we have the vector $(\\gamma_i,\\kappa_i)$, then we can compute the vector $(\\gamma_{i+1},\\kappa_{i+1})$ as\n",
    "$$\n",
    "\\gamma_{i+1} = L_{i+1,i+1} = \\sqrt{\\alpha_{i+1}-\\kappa_i^2}\n",
    "$$\n",
    "Also, we have for $\\kappa_i$\n",
    "$$\n",
    "\\kappa_{i+1} = L_{i+2,i+1} = \\frac{\\beta_{i+1}}{L_{i+1,i+1}} = \\frac{\\beta_{i+1}}{\\sqrt{\\alpha_{i+1}-\\kappa_i^2}}\n",
    "$$\n",
    "Therefore, we have the iterative sequence satisfied by $(\\gamma_i,\\kappa_i)$ as\n",
    "$$\n",
    "(\\gamma_i,\\kappa_i) = (\\sqrt{\\alpha_{i+1}-\\kappa_i^2}, \\frac{\\beta_{i+1}}{\\sqrt{\\alpha_{i+1}-\\kappa_i^2}})\n",
    "$$\n",
    "\n",
    "---\n"
   ]
  },
  {
   "cell_type": "markdown",
   "id": "pleased-occasions",
   "metadata": {},
   "source": [
    "Now, we will exploit this property to implement the Cholesky algorithm without performing the multiplications and additions by zeros.  \n",
    "\n",
    "In practice, only the non-zero coefficients of $T$ are stored, and only once, i.e. $T$ is represented by the two vectors $\\alpha = (\\alpha_i)_{i=1,\\dots,N}$ and $\\beta=(\\beta_i)_{i=1,\\dots,N-1}$.\n",
    "\n",
    "Similarly, only the non-zero coefficients of $L$ are stored, i.e. the two vectors $\\gamma = (\\gamma_i)_{i=1,\\dots,N}$ and $\\kappa=(\\kappa_i)_{i=1,\\dots,N-1}$. \n",
    "\n",
    "**Question 2**\n",
    "\n",
    "a) In the test below, we will use the matrix \n",
    "\n",
    "$$T = \\left( \\begin{array}{ccc} 1 & -1 & 0 \\\\ -1 & 5 & 6 \\\\ 0 & 6 & 10\\end{array} \\right). $$\n",
    "\n",
    "Compute the Cholesky decomposition of this matrix. \n",
    "\n",
    "b) Implement a function that returns the Cholesky decomposition in this format. It should take $\\alpha$ and $\\beta$ as arguments and return $\\gamma$ and $\\kappa$.  \n",
    "\n",
    "c) Test your algorithm with the matrix given in a) and verify your result."
   ]
  },
  {
   "cell_type": "code",
   "execution_count": 4,
   "id": "e18af269",
   "metadata": {},
   "outputs": [
    {
     "name": "stdout",
     "output_type": "stream",
     "text": [
      "The result of Cholesky decomposition is \n",
      " [[ 1.  0.  0.]\n",
      " [-1.  2.  0.]\n",
      " [ 0.  3.  1.]]\n"
     ]
    }
   ],
   "source": [
    "def Cholesky_decomp(B):\n",
    "    N = len(B[0, :])\n",
    "    L = np.eye(N)\n",
    "    for i in range(N):\n",
    "        for j in range(i):\n",
    "            L[i, j] = (B[i, j] - np.sum([L[i, k] * L[j, k]\n",
    "                                         for k in range(j)])) / L[j, j]\n",
    "        L[i,\n",
    "          i] = np.sqrt(B[i, i] - np.sum([L[i, k] * L[i, k] for k in range(i)]))\n",
    "\n",
    "    return L\n",
    "\n",
    "\n",
    "print('The result of Cholesky decomposition is \\n', Cholesky_decomp(np.array([[1, -1, 0], [-1, 5, 6], [0, 6, 10]])))\n"
   ]
  },
  {
   "attachments": {},
   "cell_type": "markdown",
   "id": "meaning-tension",
   "metadata": {},
   "source": [
    "<table>\n",
    "<tr>   \n",
    "<td bgcolor = lightblue ><font color = white >Answer</td>\n",
    "</tr>\n",
    "</table>\n",
    "\n",
    "---\n",
    "a) $$L = \\left( \\begin{array}{ccc} 1 & 0 & 0 \\\\ -1 & 2 & 0 \\\\ 0 & 3 & 1\\end{array} \\right). $$\n",
    "\n",
    "---"
   ]
  },
  {
   "cell_type": "code",
   "execution_count": 15,
   "id": "charitable-empty",
   "metadata": {},
   "outputs": [],
   "source": [
    "#b)\n",
    "def Cholesky_Tridiag(alpha, beta):\n",
    "    \"\"\"\n",
    "    Compute the Cholesky decomposition of a tridiagonal matrix\n",
    "    ----------   \n",
    "    parameters:\n",
    "    alpha : vector of diagonal coefficients of T (numpy array of size N)\n",
    "    beta  : vector of subdiagonal coefficients of T (numpy array of size N-1)\n",
    "    \n",
    "    returns:\n",
    "    gamma : vector of diagonal coefficients of L (numpy array of size N)\n",
    "    kappa : vector of subdiagonal coefficients of L (numpy array of size N-1)\n",
    "    \"\"\"\n",
    "\n",
    "    ### write your algorithm here\n",
    "    gamma = np.copy(alpha)\n",
    "    kappa = np.copy(beta)\n",
    "    N = len(alpha)\n",
    "    gamma[0] = np.sqrt(alpha[0])\n",
    "    kappa[0] = beta[0] / gamma[0]\n",
    "    for i in range(1, N):\n",
    "        gamma[i] = np.sqrt(alpha[i] - kappa[i - 1]**2)\n",
    "        if i < N - 1:\n",
    "            kappa[i] = beta[i] / gamma[i]\n",
    "\n",
    "    return gamma, kappa"
   ]
  },
  {
   "cell_type": "code",
   "execution_count": 17,
   "id": "pursuant-warehouse",
   "metadata": {},
   "outputs": [
    {
     "name": "stdout",
     "output_type": "stream",
     "text": [
      "alpha = [ 1.  5. 10.]\n",
      "beta = [-1.  6.]\n",
      "gamma = [1. 2. 1.]\n",
      "kappa = [-1.  3.]\n"
     ]
    }
   ],
   "source": [
    "#c)\n",
    "\n",
    "### test your algorithm here\n",
    "T = np.array([[1, -1, 0], [-1, 5, 6], [0, 6, 10]])\n",
    "N = len(T)\n",
    "\n",
    "alpha = np.zeros(N)\n",
    "beta = np.zeros(N - 1)\n",
    "\n",
    "for i in range(N):\n",
    "    alpha[i] = T[i][i]\n",
    "for j in range(N - 1):\n",
    "    beta[j] = T[j + 1][j]\n",
    "\n",
    "gamma, kappa = Cholesky_Tridiag(alpha, beta)\n",
    "\n",
    "print('alpha =', alpha)\n",
    "print('beta =', beta)\n",
    "\n",
    "print('gamma =', gamma)\n",
    "print('kappa =', kappa)"
   ]
  },
  {
   "cell_type": "markdown",
   "id": "correct-illness",
   "metadata": {},
   "source": [
    "Similarly, we will exploit this format to solve a tridiagonal linear system. \n",
    "Consider a lower triangular matrix $L$ which only possesses a non-zero diagonal $\\gamma$ and subdiagonal $\\kappa$. \n",
    "\n",
    "**Question 3**\n",
    "\n",
    "a) Write down every component $V_i$ of the solution of the problem $LV = b$ as a function of $\\gamma$ and $\\kappa$ and $b$ as given by the forward substitution algorithm.  \n",
    "\n",
    "b) Write down every component $V_i$ of the solution of the problem $L^T V = b$ as a function of $\\gamma$ and $\\kappa$ and $b$ as given by the back substitution algorithm.  "
   ]
  },
  {
   "attachments": {},
   "cell_type": "markdown",
   "id": "classical-mason",
   "metadata": {},
   "source": [
    "<table>\n",
    "<tr>   \n",
    "<td bgcolor = lightblue ><font color = white >Answer</td>\n",
    "</tr>\n",
    "</table>\n",
    "\n",
    "---\n",
    "a) From the previous question, we have the representation of $L$ as\n",
    "$$\n",
    "L = \\left(\\begin{array}{ccccc}\n",
    "\\gamma_{1} & 0 & 0       & \\dots  &  0 \\\\ \n",
    "\\kappa_{1} & \\gamma_{2} & 0& \\ddots & \\vdots \\\\\n",
    "0 & \\ddots & \\ddots & \\ddots & 0 \\\\ \n",
    "\\vdots & \\ddots & \\kappa_{N-2} & \\gamma_{N-1} & 0 \\\\\n",
    "0 & \\dots & 0 & \\kappa_{N-1} & \\gamma_{N}\n",
    "\\end{array}\\right).\n",
    "$$\n",
    "Therefore, we have the representation of $V$ as\n",
    "$$\n",
    "V_{i} = \\frac{b_{i}-\\kappa_{i-1}V_{i-1}}{\\gamma_{i}}\n",
    "$$\n",
    "\n",
    "b) Similarly, we have the representation of $V$ as\n",
    "$$\n",
    "V_i = \\frac{b_{i+1}-(\\kappa_{i}V_{i+1})}{\\gamma_i}\n",
    "$$\n",
    "\n",
    "---\n"
   ]
  },
  {
   "cell_type": "markdown",
   "id": "smooth-observer",
   "metadata": {},
   "source": [
    "**Question 4**\n",
    "\n",
    "a) In the test below, we will use the parameters\n",
    "\n",
    "$$L = \\left( \\begin{array}{ccc} 1 & 0 & 0 \\\\ -1 & 2 & 0 \\\\ 0 & 3 & 1 \\end{array}\\right), \\qquad b = \\left(\\begin{array}{ccc} 1 \\\\ 2 \\\\ 3 \\end{array}\\right).$$\n",
    "\n",
    "Compute the solutions of $LV = b$ and $L^T V = b$\n",
    "\n",
    "b) Implement a function that solves a tridiagonal lower triangular system using the tridiagonal format. It should take $\\gamma$, $\\kappa$ and $b$ as arguments and return $V$.  \n",
    "\n",
    "c) Implement a function that solves a tridiagonal lower triangular system using the tridiagonal format. It should take $\\gamma$, $\\kappa$ and $b$ as arguments and return $V$.  \n",
    "\n",
    "d) Test both of them with the parameters in a) and verify your results. "
   ]
  },
  {
   "attachments": {},
   "cell_type": "markdown",
   "id": "cosmetic-mortality",
   "metadata": {},
   "source": [
    "<table>\n",
    "<tr>   \n",
    "<td bgcolor = lightblue ><font color = white >Answer</td>\n",
    "</tr>\n",
    "</table>\n",
    "\n",
    "---\n",
    "a) From computation, we have $V_1 = \\left(\\begin{array}{ccc} 1 \\\\ \\frac{3}{2} \\\\ -\\frac{3}{2} \\end{array}\\right)$ and $V_2 = \\left(\\begin{array}{ccc} -\\frac{5}{2} \\\\ -\\frac{7}{2} \\\\ 3 \\end{array}\\right)$.\n",
    "\n",
    "---"
   ]
  },
  {
   "cell_type": "code",
   "execution_count": 30,
   "id": "chicken-louisville",
   "metadata": {},
   "outputs": [],
   "source": [
    "#b)\n",
    "def forward_Tridiag(gamma, kappa, b):\n",
    "    \"\"\"\n",
    "    Compute the solution of a lower triangular tridiagonal system LV=b\n",
    "    ----------   \n",
    "    parameters:\n",
    "    gamma : vector of diagonal coefficients of L (numpy array of size N)\n",
    "    kappa : vector of subdiagonal coefficients of L (numpy array of size N-1)\n",
    "    b     : RHS of the problem LV = b (numpy array of size N)\n",
    "    \n",
    "    returns:\n",
    "    V     : solution of the problem LV = b (numpy array of size N)\n",
    "    \"\"\"\n",
    "\n",
    "    ### write your algorithm here\n",
    "    N = len(gamma)\n",
    "    V = np.zeros(N)\n",
    "    ###\n",
    "    V[0] = b[0] / gamma[0]\n",
    "    for i in range(1, N):\n",
    "        V[i] = (b[i] - kappa[i - 1] * V[i - 1]) / gamma[i]\n",
    "\n",
    "    return V"
   ]
  },
  {
   "cell_type": "code",
   "execution_count": 32,
   "id": "sunrise-puppy",
   "metadata": {},
   "outputs": [],
   "source": [
    "#c)\n",
    "def back_Tridiag(gamma, kappa, b):\n",
    "    \"\"\"\n",
    "    Compute the solution of a lower triangular tridiagonal system L^T V = b\n",
    "    ----------   \n",
    "    parameters:\n",
    "    gamma : vector of diagonal coefficients of L (numpy array of size N)\n",
    "    kappa : vector of subdiagonal coefficients of L (numpy array of size N-1)\n",
    "    b     : RHS of the problem L^T V = b (numpy array of size N)\n",
    "    \n",
    "    returns:\n",
    "    V     : solution of the problem L^T V = b (numpy array of size N)\n",
    "    \"\"\"\n",
    "\n",
    "    ### write your algorithm here\n",
    "    N = len(gamma)\n",
    "    V = np.zeros(N)\n",
    "    ###\n",
    "    V[N - 1] = b[N - 1] / gamma[N - 1]\n",
    "    for i in range(N - 2, -1, -1):\n",
    "        V[i] = (b[i] - kappa[i] * V[i + 1]) / gamma[i]\n",
    "\n",
    "    return V"
   ]
  },
  {
   "cell_type": "code",
   "execution_count": 33,
   "id": "unnecessary-piece",
   "metadata": {},
   "outputs": [
    {
     "name": "stdout",
     "output_type": "stream",
     "text": [
      "forward: V = [ 1.   1.5 -1.5]\n",
      "back:    V = [-2.5 -3.5  3. ]\n"
     ]
    }
   ],
   "source": [
    "#d)\n",
    "### test your algorithm here\n",
    "gamma = [1, 2, 1]\n",
    "kappa = [-1, 3]\n",
    "b = [1, 2, 3]\n",
    "\n",
    "print('forward: V =', forward_Tridiag(gamma, kappa, b))\n",
    "\n",
    "print('back:    V =', back_Tridiag(gamma, kappa, b))"
   ]
  },
  {
   "cell_type": "markdown",
   "id": "brief-bearing",
   "metadata": {},
   "source": [
    "**Question 5**\n",
    "\n",
    "a) In the test below, we will use the parameters of 2)a). \n",
    "Compute the solutions of $T V = b$ with $b = (1,2,3)^T$. \n",
    "\n",
    "b) Implement a function that that solves the problem $L L^T V = b$ where $L$ is a tridiagonal lower triangular matrix (given by a Cholesky decomposition). \n",
    "\n",
    "c) Test it with the parameters in a) and verify your computations. "
   ]
  },
  {
   "cell_type": "code",
   "execution_count": 35,
   "id": "7c5afa0e",
   "metadata": {},
   "outputs": [
    {
     "name": "stdout",
     "output_type": "stream",
     "text": [
      "V1 = [ 1.   1.5 -1.5]\n",
      "V = [ 4.   3.  -1.5]\n"
     ]
    }
   ],
   "source": [
    "V1 = forward_Tridiag(gamma, kappa, b)\n",
    "print('V1 =', V1)\n",
    "\n",
    "V = back_Tridiag(gamma, kappa, V1)\n",
    "print('V =', V)"
   ]
  },
  {
   "attachments": {},
   "cell_type": "markdown",
   "id": "simplified-format",
   "metadata": {},
   "source": [
    "<table>\n",
    "<tr>   \n",
    "<td bgcolor = lightblue ><font color = white >Answer</td>\n",
    "</tr>\n",
    "</table>\n",
    "\n",
    "---\n",
    "a) We have $TV=b \\Rightarrow LL^{T}V=b$. Since we have $L^{T}V \\in \\mathbb{R}^3$. Then, we can transfer the question to we first compute $LV_{1}=b$ then we compute $L^{T}V_{2}=V_{1}$. Therefore, we have the result for\n",
    "$$\n",
    "V = \\left(\\begin{array}{ccc} 4 \\\\ 3 \\\\ -\\frac{3}{2} \\end{array}\\right)\n",
    "$$\n",
    "\n",
    "---"
   ]
  },
  {
   "cell_type": "code",
   "execution_count": 42,
   "id": "quantitative-pillow",
   "metadata": {},
   "outputs": [],
   "source": [
    "#b)\n",
    "def solve_tridiag(gamma,kappa,b):\n",
    "    \"\"\"\n",
    "    Compute the solution of a lower triangular tridiagonal system L L^T V = b\n",
    "    ----------   \n",
    "    parameters:\n",
    "    gamma : vector of diagonal coefficients of L (numpy array of size N)\n",
    "    kappa : vector of subdiagonal coefficients of L (numpy array of size N-1)\n",
    "    b     : RHS of the problem L^T V = b (numpy array of size N)\n",
    "    \n",
    "    returns:\n",
    "    V     : solution of the problem L^T V = b (numpy array of size N)\n",
    "    \"\"\"\n",
    "    \n",
    "    ### write your algorithm here\n",
    "    V = np.zeros(len(gamma))\n",
    "    V1 = forward_Tridiag(gamma, kappa, b)\n",
    "    V = back_Tridiag(gamma, kappa, V1)\n",
    "    ###\n",
    "    \n",
    "    return V"
   ]
  },
  {
   "cell_type": "code",
   "execution_count": 43,
   "id": "focal-somewhere",
   "metadata": {},
   "outputs": [
    {
     "name": "stdout",
     "output_type": "stream",
     "text": [
      "V= [ 4.   3.  -1.5]\n"
     ]
    }
   ],
   "source": [
    "#c)\n",
    "### test your algorithm here\n",
    "T = np.array([[1, -1, 0], [-1, 5, 6], [0, 6, 10]])\n",
    "b = np.array([[1], [2], [3]])\n",
    "gamma, kappa = Cholesky_Tridiag(T.diagonal(), T.diagonal(offset=-1))\n",
    "print(\"V=\", solve_tridiag(gamma, kappa, b))\n"
   ]
  },
  {
   "cell_type": "markdown",
   "id": "through-orlando",
   "metadata": {},
   "source": [
    "## Application: a Legendre like equation\n",
    "\n",
    "Consider a 2nd order differential equation of the form \n",
    "\n",
    "$$\\frac{d}{dx}\\left( (1-x^2) \\frac{d}{dx} f(x) \\right) - f(x) = S(x), \\quad \\forall x\\in]-1,+1[,$$\n",
    "\n",
    "for some source term $S(x)$.\n",
    "We consider a discretization of this equation under the form \n",
    "\n",
    "$$ \\frac{(1-x_{i+1/2}^2) \\frac{V_{i+1}-V_i}{h} - (1-x_{i-1/2}^2) \\frac{V_{i}-V_{i-1}}{h} }{2h} - V_i = S_i, \\quad \\forall i=1,\\dots,N,$$\n",
    "\n",
    "where $V_i$ is supposed to approximate $f(x_i)$, and we have fixed $h = \\frac{2}{N}$ and $x_i = -1 + (i-1/2) h$ and $x_{i+1/2} = -1 + ih$ such that $x_{1-1/2} = x_{1/2} = -1$ and $x_{N+1/2} = 1$. "
   ]
  },
  {
   "cell_type": "markdown",
   "id": "green-architect",
   "metadata": {},
   "source": [
    "**Question 6**\n",
    "\n",
    "Write the linear system satisfied by the vector $V = (V_i)_{i=1,\\dots,N}$ under the form $AV = b$. Show that the matrix $A$ is symmetric tridiagonal and give its components as function of $x_{i\\pm1/2}$, $h$ and $K$. Using this notation, $b_i = S_i$."
   ]
  },
  {
   "attachments": {},
   "cell_type": "markdown",
   "id": "bronze-operation",
   "metadata": {},
   "source": [
    "<table>\n",
    "<tr>   \n",
    "<td bgcolor = lightblue ><font color = white >Answer</td>\n",
    "</tr>\n",
    "</table>\n",
    "\n",
    "---\n",
    "$\\forall i=1,\\dots,N$, we have $$S_i = \\frac{1-x_{i-1/2}^2}{2h^2} V_{i-1}+\\frac{1-x_{i+1/2}^2}{2h^2} V_{i+1} + \\left(\\frac{x_{i+1/2}^2 + x_{i-1/2}^2 - 2}{2h^2} - 1 \\right) V_{i}$$. \n",
    "\n",
    "One observe that if $i = j + 1$,$$(A)_{i,j} = \\frac{1-x_{i+1/2}^2}{2h^2} = \\frac{1-x_{(j+1)+1/2}^2}{2h^2} = (A)_{j,i}.$$ In addition, $$(A)_{i,j} = 0, \\quad if |i-j| > 2.$$ Therefore $A$ is symmetric tridiagonal.\n",
    "$$\n",
    "A = \n",
    "\\begin{pmatrix}\n",
    "\\frac{x_{1+1/2}^2 + x_{1-1/2}^2 - 2}{2h^2} - 1 & (1-x_{1+1/2}^2)/2h^2 & 0 & \\dots & 0  \\\\\n",
    "(1-x_{1+1/2}^2)/2h^2 & \\frac{x_{2+1/2}^2 + x_{2-1/2}^2 - 2}{2h^2} - 1 & (1-x_{2+1/2}^2)/2h^2  & \\dots & 0 \\\\\n",
    "0 & (1-x_{2+1/2}^2) & \\frac{x_{3+1/2}^2 + x_{3-1/2}^2 - 2}{2h^2} - 1 \\\\\n",
    "0 & 0 & \\dots & 0 \\\\\n",
    "\\dots \\\\\n",
    "0 & 0 & \\dots & 0 & (1-x_{N+1/2}^2)/2h^2 \\\\\n",
    "0 & 0 & \\dots & (1-x_{N+1/2}^2)/2h^2 & \\frac{x_{N+1/2}^2 + x_{N-1/2}^2 - 2}{2h^2} - 1\n",
    "\\end{pmatrix}\n",
    "$$\n",
    "\n",
    "---"
   ]
  },
  {
   "cell_type": "markdown",
   "id": "educational-address",
   "metadata": {},
   "source": [
    "**Question 7**\n",
    "\n",
    "For the test below, we fix $N = 100$ and $S_i = S(x_i) = 10 \\exp(-10 x_i^2)$. \n",
    "\n",
    "a) Implement a function that constructs the matrix $A$ in the tridiagonal format of the last part. \n",
    "\n",
    "b) One can prove that the matrix $A$ is symmetric negative definite (this is admitted here). Then, we will solve $(-A)V = -b$ as the matrix $-A$ is symmetric positive definite. Use the functions of the previous to solve this system $(-A)V = -b$.\n",
    "\n",
    "c) Plot the graph $(V_i,x_i)_{i=1,\\dots,N}$ which is suppose to approximate the function $f$. "
   ]
  },
  {
   "cell_type": "code",
   "execution_count": 44,
   "id": "vietnamese-polymer",
   "metadata": {},
   "outputs": [],
   "source": [
    "# a)\n",
    "def construct_matrix(N):\n",
    "    \"\"\"\n",
    "    Construct the matrix A of size NxN in the tridiagonal format\n",
    "    ----------   \n",
    "    parameters:\n",
    "    N     : size of the matrix \n",
    "    \n",
    "    returns:\n",
    "    alpha : diagonal of the considered tridiagonal matrix (numpy array of size N)\n",
    "    beta  : subdiagonal of the considered tridiagonal matrix (numpy array of size N-1)\n",
    "    \"\"\"\n",
    "\n",
    "    ### write your algorithm here\n",
    "    alpha = np.zeros(N)\n",
    "    beta = np.zeros(N)\n",
    "    ###\n",
    "    for i in range(N):\n",
    "        alpha[i] = (xi[i + 1 / 2]**2 + xi[i - 1 / 2]**2 - 2) / (2 * h ^ 2)\n",
    "        if i < N - 2:\n",
    "            beta[i] = (1 - xi[i + 1 / 2] ^ 2) / (2 * h ^ 2)\n",
    "\n",
    "    return alpha, beta"
   ]
  },
  {
   "cell_type": "code",
   "execution_count": 45,
   "id": "matched-listing",
   "metadata": {},
   "outputs": [],
   "source": [
    "#b) \n",
    "N  = 100\n",
    "xi = np.linspace(0,N,N)*2./N-1.\n",
    "b  = np.exp(-xi**2)\n",
    "\n",
    "### test your algorithm here\n",
    "V = np.copy(xi) \n",
    "###"
   ]
  },
  {
   "cell_type": "code",
   "execution_count": 48,
   "id": "diagnostic-review",
   "metadata": {},
   "outputs": [
    {
     "data": {
      "text/plain": [
       "<Figure size 432x288 with 0 Axes>"
      ]
     },
     "metadata": {},
     "output_type": "display_data"
    },
    {
     "data": {
      "image/png": "[encoded data removed]",
      "text/plain": [
       "<Figure size 720x504 with 1 Axes>"
      ]
     },
     "metadata": {
      "needs_background": "light"
     },
     "output_type": "display_data"
    }
   ],
   "source": [
    "#c)\n",
    "plt.figure()\n",
    "plt.figure(figsize=(10,7))\n",
    "plt.plot(xi,V, color='blue', label=\"f(x)\")\n",
    "plt.xlabel(\"x\")\n",
    "plt.ylabel(\"f(x)\")\n",
    "plt.grid()\n",
    "plt.legend()\n",
    "plt.show()"
   ]
  }
 ],
 "metadata": {
  "kernelspec": {
   "display_name": "Python 3 (ipykernel)",
   "language": "python",
   "name": "python3"
  },
  "language_info": {
   "codemirror_mode": {
    "name": "ipython",
    "version": 3
   },
   "file_extension": ".py",
   "mimetype": "text/x-python",
   "name": "python",
   "nbconvert_exporter": "python",
   "pygments_lexer": "ipython3",
   "version": "3.9.7"
  },
  "toc": {
   "base_numbering": 1,
   "nav_menu": {},
   "number_sections": true,
   "sideBar": true,
   "skip_h1_title": true,
   "title_cell": "Table of Contents",
   "title_sidebar": "Contents",
   "toc_cell": false,
   "toc_position": {},
   "toc_section_display": true,
   "toc_window_display": false
  },
  "varInspector": {
   "cols": {
    "lenName": 16,
    "lenType": 16,
    "lenVar": 40
   },
   "kernels_config": {
    "python": {
     "delete_cmd_postfix": "",
     "delete_cmd_prefix": "del ",
     "library": "var_list.py",
     "varRefreshCmd": "print(var_dic_list())"
    },
    "r": {
     "delete_cmd_postfix": ") ",
     "delete_cmd_prefix": "rm(",
     "library": "var_list.r",
     "varRefreshCmd": "cat(var_dic_list()) "
    }
   },
   "types_to_exclude": [
    "module",
    "function",
    "builtin_function_or_method",
    "instance",
    "_Feature"
   ],
   "window_display": false
  },
  "vscode": {
   "interpreter": {
    "hash": "40d3a090f54c6569ab1632332b64b2c03c39dcf918b08424e98f38b5ae0af88f"
   }
  }
 },
 "nbformat": 4,
 "nbformat_minor": 5
}
