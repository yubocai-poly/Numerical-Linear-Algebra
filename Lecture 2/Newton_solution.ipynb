{
 "cells": [
  {
   "cell_type": "markdown",
   "metadata": {},
   "source": [
    "# Tutorial 2: Triangular systems and Newton interpolation"
   ]
  },
  {
   "cell_type": "code",
   "execution_count": null,
   "metadata": {},
   "outputs": [],
   "source": [
    "# Load packages:\n",
    "\n",
    "# this package allows to work efficiently with arrays\n",
    "import numpy as np\n",
    "# this package is used to draw graphs\n",
    "import matplotlib.pyplot as plt"
   ]
  },
  {
   "cell_type": "markdown",
   "metadata": {},
   "source": [
    "We study here numerical methods for the computation of monovariate interpolation polynomials based on an arbitrarily high number of points.  "
   ]
  },
  {
   "cell_type": "markdown",
   "metadata": {},
   "source": [
    "---\n",
    "\n",
    "## Construction of the polynomials\n",
    "\n",
    "We consider an interpolation polynomial $P_N$ of degree $N$ mapping the points $\\mathbf{x} = (x_0, ..., x_N)^T$ onto $\\mathbf{y} = (y_0, ..., y_N)^T$, i.e. such that \n",
    "\n",
    "$$P_N(x_i)=y_i \\quad\\text{for all} \\quad i=0,\\dots,N.$$\n",
    "\n",
    "For a given basis of polynomials $\\mathbf{b}(x) = (b_0(x),..., b_N(x))^T$, we are looking for the coefficients $\\mathbf{c} = (c_0, ..., c_N)^T$ such that \n",
    "\n",
    "$$P_N = \\sum\\limits_{i=0}^N c_i b_i.$$\n",
    "\n",
    "The vector $\\mathbf{c}$ satisfies a linear problem of the form $A \\mathbf{c} = \\mathbf{y}.$ \n",
    "\n",
    "1) Write down the entries of the matrix $A$ in terms of the basis $\\mathbf{b}$ and of the positions $\\mathbf{x}$."
   ]
  },
  {
   "cell_type": "markdown",
   "metadata": {},
   "source": [
    "**Answer:** \n",
    "\n",
    "$$ A = \\left( \\mathbf{b}(x_0),\\mathbf{b}(x_1), \\dots, \\mathbf{b}(x_N)\\right)^T$$ such that $\\mathbf{b}(x_i)^T \\mathbf{c} = y_i$ for all $i$."
   ]
  },
  {
   "cell_type": "markdown",
   "metadata": {},
   "source": [
    "2) **Monomial decomposition**: Write down the entries of the matrix $A$ when the basis $\\mathbf{b} = \\mathbf{m}$ is the canonical basis $\\mathbf{m}(x) = (1, x, ..., x^N)^T$. Is the computation of $\\mathbf{c}$ straightforward?"
   ]
  },
  {
   "cell_type": "markdown",
   "metadata": {},
   "source": [
    "**Answer:**\n",
    "\n",
    "$$A = \\left(\\begin{array}{cccc} 1 & x_0 & \\dots & x_0^N \\\\ 1 & x_1 & \\dots & x_1^N  \\\\ \\vdots & & & \\vdots \\\\ 1 & x_N & \\dots & x_N^N \\end{array}\\right)$$\n",
    "\n",
    "No, we need to invert a Van der Monde matrix."
   ]
  },
  {
   "cell_type": "markdown",
   "metadata": {},
   "source": [
    "3) **Lagrange decomposition**: Recall how the Lagrange polynomials $\\mathbf{l} = (l_0, ..., l_N)^T$ associated with the points $\\mathbf{x}$ are defined (e.g. from MAA106). Write down the entries of the matrix $A$ when $\\mathbf{b} = \\mathbf{l}$."
   ]
  },
  {
   "cell_type": "markdown",
   "metadata": {},
   "source": [
    "**Answer:**\n",
    "\n",
    "$$l_j(x) = \\prod_{1 \\leq i \\leq N, i \\neq j} \\frac{x-x_i}{x_j-x_i} $$ \n",
    "\n",
    "We have: $A c = b$ with $A_{ij} = l_j(x_i)$, i.e. $A=I_N$, and $c=b$"
   ]
  },
  {
   "cell_type": "markdown",
   "metadata": {},
   "source": [
    "4) Try to add one new point $(x_{N+1},y_{N+1})$. Can you easily express the new interpolation polynomial $P_{N+1}$ based on the previous one $P_N$?"
   ]
  },
  {
   "cell_type": "markdown",
   "metadata": {},
   "source": [
    "**Answer:**\n",
    "\n",
    "With a new point, $\\forall j \\neq N+1$,\n",
    "$$l^{(N+1)}_j(x) := \\prod_{1 \\leq i \\leq N+1, i \\neq j} \\frac{x-x_i}{x_j-x_i} = l^{(N)}_j(x).  \\frac{x-x_{N+1}}{x_j-x_{N+1}}$$\n",
    "And\n",
    "$$l^{(N+1)}_{N+1}(x) := \\prod_{1 \\leq i \\leq N} \\frac{x-x_i}{x_{N+1}-x_i}$$\n",
    "There are no further simplifications that would allow us to express easily $P_{N+1}$ as function of $P_N$"
   ]
  },
  {
   "cell_type": "markdown",
   "metadata": {},
   "source": [
    "5) **Newton decomposition:** Newton suggested to work with a basis of polynomials $\\mathbf{N} = (N_0, N_1, \\dots, N_N)^T$ of the form \n",
    "\n",
    "$$ N_0(x) = 1, \\qquad  N_i(x) := \\prod_{j=0}^{i-1} (x-x_j). $$\n",
    "\n",
    "Write down the entries of the matrix $A$ when $\\mathbf{b} = \\mathbf{N}$. "
   ]
  },
  {
   "cell_type": "markdown",
   "metadata": {},
   "source": [
    "**Answer:**\n",
    "\n",
    "$$A = \\left( \\begin{array}{cccc} 1 & 0 & \\dots & & 0 \\\\ 1 & x_1-x_0 & 0 & \\dots & 0 \\\\ \\vdots &  & & & \\vdots \\\\  1 & x_N-x_{j} & \\dots & & \\prod\\limits_{j=0}^{N-1} (x_N-x_j) \\end{array}\\right)$$"
   ]
  },
  {
   "cell_type": "markdown",
   "metadata": {},
   "source": [
    "6) Express $P_{N+1}$ as a function of $P_N$, $x_0,...,x_{N+1}$ and $y_{N+1}$? "
   ]
  },
  {
   "cell_type": "markdown",
   "metadata": {},
   "source": [
    "**Answer:**\n",
    " \n",
    "The polynomial $P_N \\in \\mathbb{R}_{N}[X]$ already satisfies $P_N(x_i) = y_i$ for $i=0,\\dots,N$. But a priori $P_N(x_{N+1}) \\neq y_{N+1}$. \n",
    "\n",
    "In order to find a polynomial of degree $N+1$ satisfying $P_N(x_i) = y_i$ for $i=0,\\dots,N+1$, we can simply add to $P_N$ a polynomial that annihilates in $x_i$ for $i=0,\\dots,N$ and that corrects its value in $x_{N+1}$. One of these candidates is simply $N_{N+1}$, and in order to correct the value in $x_{N+1}$, we can write \n",
    "\n",
    "$$ P_{N+1}(x_{N+1}) = P_N(x_N) + c_{N+1} N_{N+1}(x_{N+1})$$\n",
    "\n",
    "which leads to (the \"divided difference\" formula)\n",
    "\n",
    "$$c_{N+1} = \\frac{P_{N+1}(x_{N+1}) - P_N(x_{N+1})}{N_{N+1}(x_{N+1})} = \\frac{y_{N+1} - P_N(x_{N+1})}{N_{N+1}(x_{N+1})}.$$"
   ]
  },
  {
   "cell_type": "markdown",
   "metadata": {},
   "source": [
    "7)  What property does $A$ satisfy ?"
   ]
  },
  {
   "cell_type": "markdown",
   "metadata": {},
   "source": [
    "**Answer:**\n",
    "\n",
    "It is triangular!"
   ]
  },
  {
   "cell_type": "markdown",
   "metadata": {},
   "source": [
    "## Solving linear problem"
   ]
  },
  {
   "cell_type": "markdown",
   "metadata": {},
   "source": [
    "1) a) In the following, we test our algorithm on the matrices \n",
    "\n",
    "$$ L = \\left( \\begin{array}{ccc} 1 & 0 & 0 \\\\ 2 & 2 & 0 \\\\ 3 & 5 & 1 \\end{array} \\right),\\qquad U = \\left( \\begin{array}{ccc} 5 & 1 & 3 \\\\ 0 & 2 & 1 \\\\ 0 & 0 & 1 \\end{array} \\right).$$\n",
    "\n",
    "Compute $L^{-1}$, $U^{-1}$ and $L^{-1}b^1$ and $U^{-1} b^2$ for $b^1 = (1,2,4)^T$ and $b^2 = (3,2,1)^T$. \n",
    "\n",
    "b) Implement the forward substitution algorithm to solve the problem $Lv=b$ with a lower triangular matrix $L$.\n",
    "\n",
    "c) Test your algorithm with the matrix $L$ and the vector $b^1$ and compare your solution with the one obtained in 1.a.\n",
    "\n",
    "d) Implement also the back substitution algorithm for $Uv=b$ with an upper triangular matrix $U$.\n",
    "\n",
    "e) Test your algorithm with the matrix $U$ and the vector $b^2$ and compare your solution with the one obtained in 1.a."
   ]
  },
  {
   "cell_type": "code",
   "execution_count": null,
   "metadata": {},
   "outputs": [],
   "source": [
    "def forward_substitution(L,b):\n",
    "    \"\"\"\n",
    "    Compute the solution of a lower triangular system\n",
    "    ----------   \n",
    "    parameters:\n",
    "    L : lower triangular matrix (numpy array of size N,N)\n",
    "    b : matrix (numpy array of size N)\n",
    "    \n",
    "    returns:\n",
    "    V : solution of the linear problem (numpy array of size N)\n",
    "    \"\"\"\n",
    "    N = len(b)\n",
    "    V = np.zeros(N)\n",
    "    for i in range(N):\n",
    "        if(L[i,i] != 0):\n",
    "            V[i] = (b[i] - sum(L[i,j]*V[j] for j in range(i))) / L[i,i]\n",
    "        else:\n",
    "            return \"L is not invertible\"\n",
    "    return V"
   ]
  },
  {
   "cell_type": "code",
   "execution_count": null,
   "metadata": {},
   "outputs": [],
   "source": [
    "#Test the function forward substitution with the following parameters\n",
    "L    = np.array([[1,0,0],[2,2,0],[3,5,1]])\n",
    "b1   = np.array([1,2,4])\n",
    "\n",
    "sol1 = forward_substitution(L,b1)\n",
    "\n",
    "print(\"solution V = \", sol1)\n",
    "print(\"L V = \", np.matmul(L,sol1), \"  b = \", b1)"
   ]
  },
  {
   "cell_type": "code",
   "execution_count": null,
   "metadata": {},
   "outputs": [],
   "source": [
    "def back_substitution(U,b):\n",
    "    \"\"\"\n",
    "    Compute the solution of an upper triangular system\n",
    "    ----------   \n",
    "    parameters:\n",
    "    U : upper triangular matrix (numpy array of size N,N)\n",
    "    b : matrix (numpy array of size N)\n",
    "    \n",
    "    returns:\n",
    "    V : solution of the linear problem (numpy array of size N)\n",
    "    \"\"\"\n",
    "    N = len(b)\n",
    "    V = np.zeros(N)\n",
    "    for i in range(N-1,-1,-1):\n",
    "        if(U[i,i] != 0):\n",
    "            V[i] = (b[i] - sum(U[i,j]*V[j] for j in range(N-1,i,-1))) / U[i,i]\n",
    "        else:\n",
    "            return \"U is not invertible\"\n",
    "    return V"
   ]
  },
  {
   "cell_type": "code",
   "execution_count": null,
   "metadata": {},
   "outputs": [],
   "source": [
    "#Test the function forward substitution with the following parameters\n",
    "U    = np.array([[5,1,3],[0,2,1],[0,0,1]])\n",
    "b2   = np.array([3,2,1])\n",
    "\n",
    "sol2 = back_substitution(U,b2)\n",
    "\n",
    "print(\"solution V = \", sol2)\n",
    "print(\"U V = \", np.matmul(U,sol2), \"  b = \", b2)"
   ]
  },
  {
   "cell_type": "markdown",
   "metadata": {},
   "source": [
    "2) In this question, we use this algorithm to compute interpolation polynomials based on an arbitrary number of points. \n",
    "\n",
    "a) For the test below, we use for parameters $\\mathbf{x} = (0, 1, 2)^T$ and $\\mathbf{y} = (1, 3, -1)^T$.\n",
    "- With this choice of $\\mathbf{x}$, what are the Newton polynomials $\\mathbf{N}$ (as defined in I.5)?\n",
    "- Compute (on paper) the coefficients $\\mathbf{c}$ in that basis, i.e. such that $P_2 = c_0 N_0 + c_1 N_1 + c_2 N_2$ is the polynomial of degree 2 satisfying $P_2(x_i) = y_i$ for $i=0,1,2$. \n",
    "\n",
    "b) Construct a function that computes the coefficients $\\mathbf{c}$ of the polynomials $P_N$ in the Newton basis $\\mathbf{b} = \\mathbf{N}$. \n",
    "\n",
    "***Indication:*** you can use one of the functions of the last question for solving a triangular system. \n",
    "\n",
    "c) Test your function with the parameters in a) and compare your numerical result with the one expected. \n",
    "\n",
    "d) Construct a function that returns $P_N(x)$ based on the abscissa $x$, the coefficients $\\mathbf{c}$ of the decomposition $P_N$ in the basis $\\mathbf{N}$ and the locations $\\mathbf{x} = (x_0,\\dots,x_N)^T$.\n",
    "\n",
    "e) Plot $P_N(x)$ as a function of $x$ using the parameters given in a) and with the coefficients $\\mathbf{c}$ obtained in c). Does it pass in $y_i$ at $x_i$ at all $i=0,1,2$?"
   ]
  },
  {
   "cell_type": "markdown",
   "metadata": {},
   "source": [
    "**Answer:**\n",
    "\n",
    "a) It is 1, 2 and -3. Indeed, $P_2(x_0) = y_0 = 1 = c_0$, then $P_2(x_1) = y_1 = 3 = c_0 \\times 1 + c_1 \\times (x_1-x_0) = 1 + c_1$, then $c_1 = 2$. Finally, $P_2(x_2) = -1 = 1 + c_1 (x_2-x_0) + c_2 (x_2-x_0)(x_2-x_1) = 1+4+2c_2$ which provides $c_2 = \\frac{-6}{2} = -3$."
   ]
  },
  {
   "cell_type": "code",
   "execution_count": null,
   "metadata": {},
   "outputs": [],
   "source": [
    "#b)\n",
    "def compute_coeff_Newton(vect_x, vect_y):\n",
    "    \"\"\"\n",
    "    Compute the coefficients of the interpolation polynomial that takes value vect_y in vect_x in Newton's basis\n",
    "    ----------   \n",
    "    parameters:\n",
    "    vect_x : vector of abscissa (x_0, ..., x_N)\n",
    "    vect_y : vector of values (y_0, ..., y_N) = (P_N(x_0), ..., P_N(x_N))\n",
    "    \n",
    "    returns:\n",
    "    coeff : vector of coefficients of the interpolation polynomial in Newton's basis \n",
    "    \"\"\"\n",
    "    \n",
    "    N = len(vect_x)\n",
    "    \n",
    "    # compute the lower triangular matrix L\n",
    "    L = np.zeros((N, N))\n",
    "    L[:, 0] = 1\n",
    "    for i in range(1, N):\n",
    "        for j in range(1, i+1):\n",
    "            L[i, j] = L[i, j-1] * (vect_x[i]-vect_x[j-1])\n",
    "            \n",
    "    # solve the problem\n",
    "    coeff= forward_substitution(L,vect_y)\n",
    "     \n",
    "    return coeff"
   ]
  },
  {
   "cell_type": "code",
   "execution_count": null,
   "metadata": {},
   "outputs": [],
   "source": [
    "#c)\n",
    "# Test your algorithm with the following parameters\n",
    "vect_x = np.array([0, 1, 2])\n",
    "vect_y = np.array([1, 3, -1])\n",
    "\n",
    "coeff = compute_coeff_Newton(vect_x, vect_y)\n",
    "print(\"coefficients in Newton's basis\",coeff)"
   ]
  },
  {
   "cell_type": "code",
   "execution_count": null,
   "metadata": {},
   "outputs": [],
   "source": [
    "#d)\n",
    "def interpolation_polynomial(x, coeff, vect_x):\n",
    "    \"\"\"\n",
    "    Compute the coefficients of the interpolation polynomial that takes value vect_y in vect_x in Newton's basis\n",
    "    ----------   \n",
    "    parameters:\n",
    "    x      : vector of abscissa where the function is evaluated in the plot\n",
    "    coeff  : vector of coefficients of the interpolation polynomial in Newton's basis \n",
    "    vect_x : vector of interpolation abscissa (x_0, ..., x_N)\n",
    "    \"\"\"\n",
    "    val = np.array([])\n",
    "    for y in x:\n",
    "        z = coeff[0]\n",
    "        for i in range(1, len(vect_x)):\n",
    "            update = 1\n",
    "            for j in range(i):\n",
    "                update *= (y - vect_x[j])\n",
    "            z += coeff[i]*update\n",
    "        val = np.append(val,z)\n",
    "    return val"
   ]
  },
  {
   "cell_type": "code",
   "execution_count": null,
   "metadata": {},
   "outputs": [],
   "source": [
    "#e)\n",
    "# Test your algorithm with the following parameters\n",
    "vect_x = np.array([0, 1, 2])\n",
    "vect_y = np.array([1, 3, -1])\n",
    "\n",
    "coeff_interp  = compute_coeff_Newton(vect_x, vect_y)\n",
    "\n",
    "\n",
    "# vector of abscissa where the function is evaluated in the plot\n",
    "x_plot = np.linspace(0, 2, 200)\n",
    "# vector of evaluation P_N(x) in the plot\n",
    "y_plot = interpolation_polynomial(x_plot, coeff_interp, vect_x)\n",
    "\n",
    "# plot the interpolation polynomial as a function of x\n",
    "plt.figure(1)\n",
    "plt.plot(   x_plot, y_plot, '--', color='blue', label=\"Your interpolation\")\n",
    "plt.scatter(vect_x, vect_y,       color='red',  label=\"Interpolation points\")\n",
    "plt.legend()\n",
    "plt.show()"
   ]
  },
  {
   "cell_type": "markdown",
   "metadata": {},
   "source": [
    "**To go further**\n",
    "\n",
    "3) Compare the number of operations required to compute this interpolation polynomials in Lagrange and in Newton's basis. What are the advantages and drawbacks of both methods?"
   ]
  },
  {
   "cell_type": "markdown",
   "metadata": {},
   "source": [
    "**Answer:**"
   ]
  },
  {
   "cell_type": "markdown",
   "metadata": {},
   "source": [
    "4) Can you modify the basis polynomials $N_i$ in order to keep the determinant of $A$ independant of $N$.\n",
    "Can you propose other basis to reduce the number of operations? "
   ]
  },
  {
   "cell_type": "markdown",
   "metadata": {},
   "source": [
    "**Answer:**"
   ]
  },
  {
   "cell_type": "markdown",
   "metadata": {},
   "source": [
    "5) For triangular matrices, the condition number is defined as $Cond(A) = \\left(\\max\\limits_i |A_{i,i}|\\right) \\left(\\max\\limits_i \\frac{1}{|A_{i,i}|}\\right)$. Compute the condition number for the Newton interpolation matrix. Play with diagonal coefficients $A_{i,i}$ and write an interpretation of the influence of the condition number on the result of the present algorithm. What is the other advantage of the choice of question 4?"
   ]
  },
  {
   "cell_type": "code",
   "execution_count": null,
   "metadata": {},
   "outputs": [],
   "source": []
  }
 ],
 "metadata": {
  "kernelspec": {
   "display_name": "Python 3 (ipykernel)",
   "language": "python",
   "name": "python3"
  },
  "language_info": {
   "codemirror_mode": {
    "name": "ipython",
    "version": 3
   },
   "file_extension": ".py",
   "mimetype": "text/x-python",
   "name": "python",
   "nbconvert_exporter": "python",
   "pygments_lexer": "ipython3",
   "version": "3.10.6"
  },
  "latex_envs": {
   "LaTeX_envs_menu_present": true,
   "autoclose": false,
   "autocomplete": true,
   "bibliofile": "biblio.bib",
   "cite_by": "apalike",
   "current_citInitial": 1,
   "eqLabelWithNumbers": true,
   "eqNumInitial": 1,
   "hotkeys": {
    "equation": "Ctrl-E",
    "itemize": "Ctrl-I"
   },
   "labels_anchors": false,
   "latex_user_defs": false,
   "report_style_numbering": false,
   "user_envs_cfg": false
  },
  "toc": {
   "base_numbering": 1,
   "nav_menu": {},
   "number_sections": true,
   "sideBar": true,
   "skip_h1_title": true,
   "title_cell": "Table of Contents",
   "title_sidebar": "Contents",
   "toc_cell": false,
   "toc_position": {},
   "toc_section_display": true,
   "toc_window_display": false
  }
 },
 "nbformat": 4,
 "nbformat_minor": 2
}
