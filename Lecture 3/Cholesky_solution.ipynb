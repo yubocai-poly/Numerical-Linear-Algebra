{
 "cells": [
  {
   "cell_type": "markdown",
   "metadata": {},
   "source": [
    "# Tutorial 3: Cholesky method"
   ]
  },
  {
   "cell_type": "code",
   "execution_count": 1,
   "metadata": {},
   "outputs": [],
   "source": [
    "# Load packages:\n",
    "\n",
    "# this package allows to work efficiently with arrays\n",
    "import numpy as np\n",
    "# this package is used to draw graphs\n",
    "import matplotlib.pyplot as plt\n",
    "# for the numerical application in the end, we will use pi\n",
    "from math import pi"
   ]
  },
  {
   "cell_type": "markdown",
   "metadata": {},
   "source": [
    "---\n",
    "\n",
    "## Historical background\n",
    "André-Louis Cholesky (1875-1918), student at the école polytechnique (X1895), originally designed his method for solving linear problems for a problem emerging in the field of topography. He worked on triangulations to draw maps of different countries. \n",
    "\n",
    "A triangulation is of a set of triangles covering the domain to be mapped. To each node of this triangulation is associated its position and its altitude, which are required to draw the map. On the field, only distances and angles can be evaluated, the positions and the altitudes need to be computed based on these observations. One verifies that, using only the length of one side of a triangle and two of its angles, one may reconstruct all the others. To simplify, assuming that the lengths and angles are linear functions of positions and altitude, one rewrites this problem under the form \n",
    "\n",
    "$$A V = b$$\n",
    "\n",
    "where $b$ is a vector of the lengths and angles observed, $A$ is a matrix, and $V$ is the vector of the exact positions and altitudes of the nodes that we seek.  \n",
    " \n",
    "However, in practice, the evaluations of lengths and angles can be inexact due to human or instrument inaccuracy. Thus, more evaluations are performed, e.g. evaluating all the angles and the lengths of all sides of a triangle. In the new problem $AV=b$, we have more data $b\\in\\mathbb{R}^M$ than unknowns $V\\in\\mathbb{R}^N$, i.e. $M>N$ and the matrix $A\\in\\mathbb{R}^{M \\times N}$ is rectangular. This problem does not have a solution in general (only if all observations agrees exactly with each others). Instead, we minimize the error $\\epsilon(V) = \\|A V - b\\|_2^2$, which has a solution. This solution satisfies the so-called normal equation \n",
    "\n",
    "$$ A^T A V = A^T b. $$\n",
    "\n",
    "We discuss here numerical solution of this new linear equation.\n"
   ]
  },
  {
   "cell_type": "markdown",
   "metadata": {},
   "source": [
    "---\n",
    "\n",
    "## Preliminary computations"
   ]
  },
  {
   "cell_type": "markdown",
   "metadata": {},
   "source": [
    "1) Prove that $B = A^T A$ is square, symmetric and positive. Give a condition on the columns $C^{j}$ (s.t. $C_i^j = A_{i,j}$) for $B$ to be definite (this will be assumed in the next questions)."
   ]
  },
  {
   "cell_type": "markdown",
   "metadata": {},
   "source": [
    "**Answer:**\n",
    "\n",
    "As $A$ is an $M\\times N$ matrix, $A^T$ is $N\\times M$ and $A^T\\times A$ is $N\\times N$. Moreover, $(A^T A)^T = A^T(A^T)^T = A^T A$, so $A^TA$ is symmetric.\n",
    "Let $V\\in\\mathbb{R}^N$. $V^TBV = \\|AV\\|_2^2\\geq 0$, thus $B$ is positive.\n",
    "\n",
    "\n",
    "Suppose that the columns $(C_j)_j$ of $A$ are linearly independent. Then for any $V\\in \\mathbb{R}^N$, $A V = \\sum_{j=1}^N V_j C_j$ vanishes if and only if $V=0$. As a result, $V^T A^T A V = \\|AV\\|_2^2$ vanishes only if $V=0$, thus $B$ is definite.\n"
   ]
  },
  {
   "cell_type": "markdown",
   "metadata": {},
   "source": [
    "2) Here, we consider that $A$ is square and $A^T A$ is definite. Prove that $A$ is invertible and that the problems $A V = b$ and $(A^T A) V = A^T b$ have the same solution $V$."
   ]
  },
  {
   "cell_type": "markdown",
   "metadata": {},
   "source": [
    "**Answer:**\n",
    "\n",
    " If $A$ is square, then $det(A)$ is well defined and $det(A^TA) = det(A)^2$. $A$ is thus invertible. In particular, let $U,V\\in\\mathbb{R}^N$ be two vectors such that, respectively, $AU=b$ and $BV=A^Tb$. Then $A^T A U = A^T b$. As $B = A^T A$ is definite, it is injective and $BU = BV$ implies $U=V$: the solution of both problems is the same."
   ]
  },
  {
   "cell_type": "markdown",
   "metadata": {},
   "source": [
    "3) Suppose that $AA^T$ is definite and write $\\bar{V} = (AA^T)^{-1} A^T b$ the solution of the normal equation. Prove that $\\bar{V}$ minimizes the error $\\epsilon(V) = \\|AV-b\\|_2^2$. \n",
    "\n",
    "*Hints*: Consider any perturbation $\\bar{V} + \\delta$ and show that $\\| A(\\bar{V}+\\delta) -b \\|_2^2 \\ge \\| A\\bar{V} -b \\|_2^2$. (Remark also that $\\|V\\|_2^2 = V^T V$)."
   ]
  },
  {
   "cell_type": "markdown",
   "metadata": {},
   "source": [
    "**Answer:**\n",
    "\n",
    "Writing \n",
    "\n",
    "\\begin{align*} \n",
    "    \\epsilon(V+\\delta) &= \\left(A(V+\\delta) - b\\right)^T \\left(A(V+\\delta) - b\\right) \\\\\n",
    "    &= (V+\\delta)^T A^T A (V+\\delta) - b^T A (V+\\delta) - (V+\\delta)^T A^T b + b^T b \\\\\n",
    "    &= \\epsilon(V) + \\delta^T A^T A \\delta + \\delta^T A^T A V + V^T A^T A \\delta - b^T A \\delta - \\delta^T A^T b\\\\\n",
    "    &= \\epsilon(V) + \\delta^T A^T A \\delta + 2 (A^T A V - A^T b)^T \\delta \\\\\n",
    "    &= \\epsilon(V) + \\delta^T A^T A \\delta\n",
    "\\end{align*}\n",
    "\n",
    "where the second term is strictly positive for non zero $\\delta$."
   ]
  },
  {
   "cell_type": "markdown",
   "metadata": {},
   "source": [
    "---\n",
    "\n",
    "## First decomposition\n",
    "\n",
    "*Remark:* This tutorial exploits diagonal and triangular matrices. In the implementation part, all these matrices are constructed and stored entirely, even if most of their coefficients are zero. Such an implementation can easily be improved in order not to store trivial values. The discussion on the storage of such matrices is postponed to a future tutorial."
   ]
  },
  {
   "cell_type": "markdown",
   "metadata": {},
   "source": [
    "4) Cholesky remarked that if $A^T$ was square and lower triangular, then solving $A^T A V = A^T V$ could be performed in two parts very easily (and accessible with the technology of its time). Then, he suggested decomposing any symmetric positive definite $B$ as the product of a lower triangular matrix and its transposed $B = L L^T$. \n",
    "\n",
    "a) Write down the coefficients $(L L^T)_{i,j}$ as a function of the coefficient $L_{i,j}$. \n",
    "\n",
    "b) Write the diagonal coefficient $L_{i,i}$ as a function of $B_{i,i}$ and of $L_{i,j}$ with $j<i$ \n",
    "\n",
    "*Hints*: Represent on paper the matrix $L$. \n",
    "\n",
    "c) Write the non-diagonal coefficient $L_{j,i}$ with $j<i$ as a function of $B$ and of the relevant coefficients of $L$. "
   ]
  },
  {
   "cell_type": "markdown",
   "metadata": {},
   "source": [
    "**Answer:**\n",
    "\n",
    "a) $$(LL^T)_{i,j} = \\sum_{k=1}^N L_{i,k}L^T_{k,j} = \\sum_{k=1}^N L_{i,k}L_{j,k}.$$ As $L$ is lower triangular, $L_{a,b} =0$ if $a<b$. The previous sums thus reduces to: $$(LL^T)_{i,j} = \\sum_{k=1}^{min(i,j)} L_{i,k}L_{j,k}.$$\n",
    "\n",
    "b) In particular if $i=j$, $$B_{i,i} = (LL^T)_{i,i} = \\sum_{k=1}^i L_{i,k}^2,$$ so that:\n",
    "$$L_{i,i} = \\sqrt{B_{i,i} - \\sum_{k=1}^{i-1}L_{i,k}^2}. $$\n",
    "\n",
    "c) Similarly, $$B_{i,j} = \\sum_{k=1}^j L_{i,k}L_{j,k}$$ yields $$L_{i,j} = \\frac{B_{i,j} - \\sum_{k=1}^{j-1} L_{i,k}L_{j,k}}{L_{j,j}}.$$"
   ]
  },
  {
   "cell_type": "markdown",
   "metadata": {},
   "source": [
    "5) Doing the computations in the appropriate order, write an algorithm for the computation of all the entries of $L$. \n",
    "Explain your choice for doing the computations in this order."
   ]
  },
  {
   "cell_type": "markdown",
   "metadata": {},
   "source": [
    "**Answer:**\n",
    "\n",
    "To compute $L_{i,i}$, we need to know how the coefficients of line $i$. To compute these coefficients, i.e. the $L_{i,j}$ with $j<i$, we need to know the previous coefficients of line $i$, i.e. the $L_{i,k}$ for $k<j$; as well as the $L_{j,j}$. The algorithm can thus compute coefficients line by line, and in each line go from left to right to make sure that only already known coefficients of $L$ enter in the computation of the next one. Another possibility would be to compute each column one after other, from left to right."
   ]
  },
  {
   "cell_type": "markdown",
   "metadata": {},
   "source": [
    "6) a) For the test below, we use the following matrix \n",
    "\n",
    "$$ B = \\left( \\begin{array}{ccc} 1 & 2 & 3 \\\\ 2 & 5 & 10 \\\\ 3 & 10 & 26 \\end{array} \\right).$$\n",
    "\n",
    "Compute its Cholesky decomposition if possible.\n",
    "\n",
    "b) Using 5), propose and implement an algorithm to compute a lower triangular matrix $L \\in\\mathbb{R}^{N \\times N}$ such that $L L^T = B$ for any symmetric positive definite matrix $B$. \n",
    "\n",
    "c) Test your algorithm with the matrix in 6)a) and compare the result obtained. \n",
    "\n",
    "d) Test it also with the larger matrix $B\\in\\mathbb{R}^{N\\times N}$ defined such that \n",
    "\n",
    "$$ B_{i,j} = 1 + 2N \\delta_{i,j} $$ \n",
    "\n",
    "for $N=10$. Verify that the obtained matrix satisfies $B=LL^T$ as expected."
   ]
  },
  {
   "cell_type": "markdown",
   "metadata": {},
   "source": [
    "**Answer:**\n",
    "\n",
    "a) $B = L L^T$ with \n",
    "\n",
    "$$ L = \\left( \\begin{array}{ccc} 1 & 0 & 0 \\\\ 2 & 1 & 0 \\\\ 3 & 4 & 1 \\end{array}\\right).$$"
   ]
  },
  {
   "cell_type": "code",
   "execution_count": 2,
   "metadata": {},
   "outputs": [],
   "source": [
    "# b)\n",
    "def Cholesky_decomp(B):\n",
    "    \"\"\"\n",
    "    Compute the Cholesky decomposition of a symmetric positive definite matrix\n",
    "    ----------   \n",
    "    parameters:\n",
    "    B : symmetric positive definite matrix (numpy array of size N,N)\n",
    "        \n",
    "    returns:\n",
    "    L : lower triangular matrix (numpy array of size N,N) such that L L^T = B\n",
    "    \"\"\"\n",
    "    \n",
    "    N = len(B[0,:])\n",
    "    L = np.eye(N)\n",
    "    \n",
    "    for i in range(N):\n",
    "        for j in range(i):\n",
    "            L[i,j] = (B[i,j] - np.sum([L[i,k]*L[j,k] for k in range(j)])) / L[j,j]\n",
    "        L[i,i] = np.sqrt(B[i,i] - np.sum([L[i,k]*L[i,k] for k in range(i)]))           \n",
    "    \n",
    "    return L"
   ]
  },
  {
   "cell_type": "code",
   "execution_count": 26,
   "metadata": {},
   "outputs": [
    {
     "name": "stdout",
     "output_type": "stream",
     "text": [
      "Matrix:\n",
      " [[1 1 1]\n",
      " [2 3 1]\n",
      " [4 5 6]] \n",
      "\n",
      "Cholesky decomposition:\n",
      " [[ 1.  0.  0.]\n",
      " [ 2. nan  0.]\n",
      " [ 4. nan nan]]\n"
     ]
    },
    {
     "name": "stderr",
     "output_type": "stream",
     "text": [
      "/var/folders/rf/3_96g3x522q394xqlyg__5l00000gn/T/ipykernel_99706/2435010302.py:19: RuntimeWarning: invalid value encountered in sqrt\n",
      "  L[i,i] = np.sqrt(B[i,i] - np.sum([L[i,k]*L[i,k] for k in range(i)]))\n"
     ]
    }
   ],
   "source": [
    "# c) Test 1: \n",
    "B = np.array([[1,1,1],[2,3,1],[4,5,6]])\n",
    "# implement your test here\n",
    "\n",
    "print(\"Matrix:\\n\", B,\"\\n\")\n",
    "print(\"Cholesky decomposition:\\n\", Cholesky_decomp(B))"
   ]
  },
  {
   "cell_type": "code",
   "execution_count": 4,
   "metadata": {},
   "outputs": [
    {
     "name": "stdout",
     "output_type": "stream",
     "text": [
      "Matrix:\n",
      " [[21.  1.  1.  1.  1.  1.  1.  1.  1.  1.]\n",
      " [ 1. 21.  1.  1.  1.  1.  1.  1.  1.  1.]\n",
      " [ 1.  1. 21.  1.  1.  1.  1.  1.  1.  1.]\n",
      " [ 1.  1.  1. 21.  1.  1.  1.  1.  1.  1.]\n",
      " [ 1.  1.  1.  1. 21.  1.  1.  1.  1.  1.]\n",
      " [ 1.  1.  1.  1.  1. 21.  1.  1.  1.  1.]\n",
      " [ 1.  1.  1.  1.  1.  1. 21.  1.  1.  1.]\n",
      " [ 1.  1.  1.  1.  1.  1.  1. 21.  1.  1.]\n",
      " [ 1.  1.  1.  1.  1.  1.  1.  1. 21.  1.]\n",
      " [ 1.  1.  1.  1.  1.  1.  1.  1.  1. 21.]] \n",
      "\n",
      "Cholesky decomposition:\n",
      " [[4.58257569 0.         0.         0.         0.         0.\n",
      "  0.         0.         0.         0.        ]\n",
      " [0.21821789 4.57737708 0.         0.         0.         0.\n",
      "  0.         0.         0.         0.        ]\n",
      " [0.21821789 0.20806259 4.57264594 0.         0.         0.\n",
      "  0.         0.         0.         0.        ]\n",
      " [0.21821789 0.20806259 0.19881069 4.56832193 0.         0.\n",
      "  0.         0.         0.         0.        ]\n",
      " [0.21821789 0.20806259 0.19881069 0.19034675 4.56435465 0.\n",
      "  0.         0.         0.         0.        ]\n",
      " [0.21821789 0.20806259 0.19881069 0.19034675 0.18257419 4.5607017\n",
      "  0.         0.         0.         0.        ]\n",
      " [0.21821789 0.20806259 0.19881069 0.19034675 0.18257419 0.1754116\n",
      "  4.55732715 0.         0.         0.        ]\n",
      " [0.21821789 0.20806259 0.19881069 0.19034675 0.18257419 0.1754116\n",
      "  0.16878989 4.55420034 0.         0.        ]\n",
      " [0.21821789 0.20806259 0.19881069 0.19034675 0.18257419 0.1754116\n",
      "  0.16878989 0.16265001 4.55129495 0.        ]\n",
      " [0.21821789 0.20806259 0.19881069 0.19034675 0.18257419 0.1754116\n",
      "  0.16878989 0.16265001 0.15694121 4.54858826]]\n"
     ]
    }
   ],
   "source": [
    "# d) Test 2: \n",
    "N = 10\n",
    "B = np.ones(N) + 2*N*np.eye(N)\n",
    "\n",
    "print(\"Matrix:\\n\", B,\"\\n\")\n",
    "print(\"Cholesky decomposition:\\n\", Cholesky_decomp(B))"
   ]
  },
  {
   "cell_type": "markdown",
   "metadata": {},
   "source": [
    "---\n",
    "\n",
    "## Second decomposition"
   ]
  },
  {
   "cell_type": "markdown",
   "metadata": {},
   "source": [
    "Now, we modify this algorithm such that it works with symmetric matrices that are not necessarily positive definite. In practice, we seek a $L D L^T$ decomposition where $L$ is still lower triangular, it has only ones on the diagonal, and $D$ is a diagonal matrix (not necessarily positive). \n",
    "\n",
    "7) Based on the construction in 4), propose an algorithm that computes $L$ and $D$ for a symmetric matrix $B = L D L^T$. Explain the choice of the order in which you perform all the operations."
   ]
  },
  {
   "cell_type": "markdown",
   "metadata": {},
   "source": [
    "**Answer:**\n",
    "\n",
    "The matrix $LDL^T$ has entry $i,j$ given by: \n",
    "$$ (LDL^T)_{i,j} = \\sum_{k=1}^N L_{i,k} d_kL_{j,k} = \\sum_{k=1}^{\\min(i,j)} L_{i,k}d_k L_{j,k},$$ \n",
    "where $d_k := D_{k,k}$. \n",
    "Here all diagonal coefficients of $L$ are fixed to 1, and it is those of $D$ that will play the role. More precisely, for $i=j=1$ one obtains $d_1 = B_{1,1}$. With this it is possible to get $L_{2,1}$: $$L_{2,1} = \\frac{B_{2,1}}{L_{1,1}d_1} = \\frac{B_{2,1}}{d_1}$$ provided $d_1\\neq 0$. $L_{2,1}$ enables one to get $d_2$, and one can compute coefficients line by line as before. To change a bit, we do it one column after the other instead."
   ]
  },
  {
   "cell_type": "markdown",
   "metadata": {},
   "source": [
    "8) a) In the test below, we use the following matrix \n",
    "\n",
    "$$ B = \\left( \\begin{array}{ccc} 1 & 2 & 3 \\\\ 2 & 2 & -2 \\\\ 3 & -2 & -20 \\end{array} \\right). $$\n",
    "\n",
    "Compute its $LDL^T$ decomposition if possible. \n",
    "\n",
    "b) Using 6) and 7), implement an algorithm to compute a lower triangular matrix $L \\in\\mathbb{R}^{N\\times N}$ and a diagonal matrix $D \\in \\mathbb{R}^{N \\times N}$ such that $L D L^T = B$ for any symmetric matrix 𝐵.\n",
    "\n",
    "c) Test your algorithm with the matrix in 6)a) and 8)a) and compare the result obtained. \n",
    "\n",
    "d) Test it again with the matrix in 6)d) and verify that the matrices you obtain satisfy $LDL^T = B$ as expected. "
   ]
  },
  {
   "cell_type": "markdown",
   "metadata": {},
   "source": [
    "**Answer:** \n",
    "\n",
    "a) $B = LDL^T$ with \n",
    "\n",
    "$$ L = \\left( \\begin{array}{ccc} 1 & 0 & 0 \\\\ 2 & 1 & 0 \\\\ 3 & 4 & 1 \\end{array}\\right), \\qquad D = Diag(1,-2,3)$$"
   ]
  },
  {
   "cell_type": "code",
   "execution_count": 5,
   "metadata": {},
   "outputs": [],
   "source": [
    "# b)\n",
    "def LDL_decomp(B):\n",
    "    \"\"\"\n",
    "    Compute the L D L^T decomposition of a symmetric matrix\n",
    "    ----------   \n",
    "    parameters:\n",
    "    B : symmetric matrix (numpy array of size N,N)\n",
    "        \n",
    "    returns:\n",
    "    L : lower triangular matrix (numpy array of size N,N) such that L D L^T = B\n",
    "    D : diagonal matrix (numpy array of size N,N) such that L D L^T = B\n",
    "    \"\"\"\n",
    "\n",
    "    N = len(B[0,:])\n",
    "    \n",
    "    L = np.eye(N)\n",
    "    D = np.eye(N)\n",
    "    \n",
    "    for j in range(N):\n",
    "        D[j,j] = B[j,j] - np.sum([D[k,k]*L[j,k]**2 for k in range(j)])\n",
    "        for i in range(j+1, N):\n",
    "            L[i,j] = (B[i,j] - np.sum([D[k,k]*L[i,k]*L[j,k] for k in range(j)])) / D[j,j]\n",
    "\n",
    "    return L, D"
   ]
  },
  {
   "cell_type": "code",
   "execution_count": 6,
   "metadata": {},
   "outputs": [
    {
     "name": "stdout",
     "output_type": "stream",
     "text": [
      "Matrix:\n",
      " [[  1   2   3]\n",
      " [  2   2  -2]\n",
      " [  3  -2 -20]] \n",
      "\n",
      "Cholesky decomposition:\n",
      " L =\n",
      " [[1. 0. 0.]\n",
      " [2. 1. 0.]\n",
      " [3. 4. 1.]] \n",
      "\n",
      "D=\n",
      " [[ 1.  0.  0.]\n",
      " [ 0. -2.  0.]\n",
      " [ 0.  0.  3.]]\n"
     ]
    }
   ],
   "source": [
    "# c) Test 1: \n",
    "B = np.array([[1,2,3],[2,2,-2],[3,-2,-20]])\n",
    "\n",
    "L, D = LDL_decomp(B)\n",
    "print(\"Matrix:\\n\", B,\"\\n\")\n",
    "print(\"Cholesky decomposition:\\n L =\\n\", L, \"\\n\\nD=\\n\", D)"
   ]
  },
  {
   "cell_type": "code",
   "execution_count": 7,
   "metadata": {},
   "outputs": [
    {
     "name": "stdout",
     "output_type": "stream",
     "text": [
      "Matrix:\n",
      " [[ 1  2  3]\n",
      " [ 2  5 10]\n",
      " [ 3 10 26]] \n",
      "\n",
      "Cholesky decomposition:\n",
      " L =\n",
      " [[1. 0. 0.]\n",
      " [2. 1. 0.]\n",
      " [3. 4. 1.]] \n",
      "\n",
      "D=\n",
      " [[1. 0. 0.]\n",
      " [0. 1. 0.]\n",
      " [0. 0. 1.]]\n"
     ]
    }
   ],
   "source": [
    "# c) Test 1: \n",
    "B = np.array([[1,2,3],[2,5,10],[3,10,26]])\n",
    "\n",
    "L, D = LDL_decomp(B)\n",
    "print(\"Matrix:\\n\", B,\"\\n\")\n",
    "print(\"Cholesky decomposition:\\n L =\\n\", L, \"\\n\\nD=\\n\", D)"
   ]
  },
  {
   "cell_type": "code",
   "execution_count": 8,
   "metadata": {},
   "outputs": [
    {
     "name": "stdout",
     "output_type": "stream",
     "text": [
      "Matrix:\n",
      " [[21.  1.  1.  1.  1.  1.  1.  1.  1.  1.]\n",
      " [ 1. 21.  1.  1.  1.  1.  1.  1.  1.  1.]\n",
      " [ 1.  1. 21.  1.  1.  1.  1.  1.  1.  1.]\n",
      " [ 1.  1.  1. 21.  1.  1.  1.  1.  1.  1.]\n",
      " [ 1.  1.  1.  1. 21.  1.  1.  1.  1.  1.]\n",
      " [ 1.  1.  1.  1.  1. 21.  1.  1.  1.  1.]\n",
      " [ 1.  1.  1.  1.  1.  1. 21.  1.  1.  1.]\n",
      " [ 1.  1.  1.  1.  1.  1.  1. 21.  1.  1.]\n",
      " [ 1.  1.  1.  1.  1.  1.  1.  1. 21.  1.]\n",
      " [ 1.  1.  1.  1.  1.  1.  1.  1.  1. 21.]] \n",
      "\n",
      "LDL^T decomposition:\n",
      "L=\n",
      " [[1.         0.         0.         0.         0.         0.\n",
      "  0.         0.         0.         0.        ]\n",
      " [0.04761905 1.         0.         0.         0.         0.\n",
      "  0.         0.         0.         0.        ]\n",
      " [0.04761905 0.04545455 1.         0.         0.         0.\n",
      "  0.         0.         0.         0.        ]\n",
      " [0.04761905 0.04545455 0.04347826 1.         0.         0.\n",
      "  0.         0.         0.         0.        ]\n",
      " [0.04761905 0.04545455 0.04347826 0.04166667 1.         0.\n",
      "  0.         0.         0.         0.        ]\n",
      " [0.04761905 0.04545455 0.04347826 0.04166667 0.04       1.\n",
      "  0.         0.         0.         0.        ]\n",
      " [0.04761905 0.04545455 0.04347826 0.04166667 0.04       0.03846154\n",
      "  1.         0.         0.         0.        ]\n",
      " [0.04761905 0.04545455 0.04347826 0.04166667 0.04       0.03846154\n",
      "  0.03703704 1.         0.         0.        ]\n",
      " [0.04761905 0.04545455 0.04347826 0.04166667 0.04       0.03846154\n",
      "  0.03703704 0.03571429 1.         0.        ]\n",
      " [0.04761905 0.04545455 0.04347826 0.04166667 0.04       0.03846154\n",
      "  0.03703704 0.03571429 0.03448276 1.        ]] \n",
      "\n",
      "D=\n",
      " [[21.          0.          0.          0.          0.          0.\n",
      "   0.          0.          0.          0.        ]\n",
      " [ 0.         20.95238095  0.          0.          0.          0.\n",
      "   0.          0.          0.          0.        ]\n",
      " [ 0.          0.         20.90909091  0.          0.          0.\n",
      "   0.          0.          0.          0.        ]\n",
      " [ 0.          0.          0.         20.86956522  0.          0.\n",
      "   0.          0.          0.          0.        ]\n",
      " [ 0.          0.          0.          0.         20.83333333  0.\n",
      "   0.          0.          0.          0.        ]\n",
      " [ 0.          0.          0.          0.          0.         20.8\n",
      "   0.          0.          0.          0.        ]\n",
      " [ 0.          0.          0.          0.          0.          0.\n",
      "  20.76923077  0.          0.          0.        ]\n",
      " [ 0.          0.          0.          0.          0.          0.\n",
      "   0.         20.74074074  0.          0.        ]\n",
      " [ 0.          0.          0.          0.          0.          0.\n",
      "   0.          0.         20.71428571  0.        ]\n",
      " [ 0.          0.          0.          0.          0.          0.\n",
      "   0.          0.          0.         20.68965517]]\n"
     ]
    }
   ],
   "source": [
    "# d) Test 2:  \n",
    "N = 10\n",
    "B = np.ones(N) + 2*N*np.eye(N)\n",
    "\n",
    "L, D = LDL_decomp(B) \n",
    "print(\"Matrix:\\n\", B,\"\\n\")\n",
    "print(\"LDL^T decomposition:\\nL=\\n\",L,\"\\n\\nD=\\n\",D)"
   ]
  },
  {
   "cell_type": "markdown",
   "metadata": {},
   "source": [
    "9) Consider a symmetric positive definite matrix $B$ and its two decompositions \n",
    "\n",
    "$$ L^1 (L^1)^T = B = L^2 D (L^2)^T. $$\n",
    "\n",
    "How can you relate $L^1$ from the Cholesky decomposition to $L^2$ and $D$ from the $LDL^T$ decomposition ?  Express one as a function of the others."
   ]
  },
  {
   "cell_type": "markdown",
   "metadata": {},
   "source": [
    "**Answer:**\n",
    "\n",
    "If $B$ is positive definite, then $D$ must be positive definite as well. \n",
    "Indeed, assume that there is a vector $V\\in\\mathbb{R}^N$ with $V^TDV \\leq 0$. Then as $L^2$ is invertible, there is $U\\in\\mathbb{R}^N$ with $(L^2)^T U = V$. But then $0\\leq U^TBU = V^T D V \\leq 0$, which means equality holds everywhere and $V=0$.\n",
    "\n",
    "As a result, the matrix $\\sqrt{D} = (\\sqrt{D_{i,j}})_{i,j}$ is well-defined, and one can simply write $L^1 = L^2\\sqrt{D}$. \n",
    "\n",
    "Since $LL^T$ and $LDL^T$ decompositions of a given matrix are unique, this is the only way of relating $L^1$ and $L^2$."
   ]
  },
  {
   "cell_type": "markdown",
   "metadata": {},
   "source": [
    "10) a) Compare the number of operations required to compute $L^1 (L^1)^T$ and $L^2 D (L^2)^T$ decompositions (square root is counted as one operation). \n",
    "\n",
    "b) Compare the number of non-zero entries of $L^1$ and of $D$ and $L^2$ that you need to construct these matrices."
   ]
  },
  {
   "cell_type": "markdown",
   "metadata": {},
   "source": [
    "**Answer:**\n",
    "\n",
    "a) For $L^2D(L^2)^T$, the computation of $D^2_{j,j}$ requires 2 multiplications for each of the $j$ terms of the sum, plus one subtraction, thus $2j+1$ in total. \n",
    "\n",
    "Computing $L^2_{i,j}$ for $i>j$ requires as many operations as computing $L^1_{i,j}$ for $i>j$, i.e. 2 mltiplications for each of the $j-1$ terms in the sum, one subtraction and one division, i.e. $2j$ in all (not taking into account the order in which operations are made should it change anything).\n",
    "\n",
    "For $L^1_{i,i}$, again 2 multiplications for each of the $j$ terms of the sum are used, then one subtraction, and a square root, for a total of 2j+2. The difference between the two methods is thus of the order of the size $N$ of the matrix, which is much less than the total number of operations (roughly $N^3$).\n",
    "\n",
    "b) The number of non-trivial entries is the same."
   ]
  },
  {
   "cell_type": "markdown",
   "metadata": {},
   "source": [
    "---\n",
    "\n",
    "## Application to least square problem and curve fitting"
   ]
  },
  {
   "cell_type": "markdown",
   "metadata": {},
   "source": [
    "As in the introduction, suppose now that we try to approach a parametrized curve using data points, such that we have more data than parameters. We aim to construct a curve of the form \n",
    "\n",
    "$$ f(x) = \\exp\\left(\\sum\\limits_{i=0}^{N-1} V_i x^i\\right) $$\n",
    "\n",
    "passing as close as possible to the data $(y_j)_{j=0,\\dots,M}$ at the positions $(x_j)_{j=1,\\dots,M}$. \n",
    "In practice, we seek the coefficients $(V_i)_{i=0,\\dots,N-1}$. \n",
    "\n",
    "11) a) Write an equation equivalent to \n",
    "\n",
    "$$\\exp\\left(\\sum\\limits_{i=0}^{N-1} V_i x_j^i\\right) = y_j$$\n",
    "\n",
    "where the left-hand-side is a linear function of the $V_i$. \n",
    "\n",
    "b) Then, write this problem as linear problem $A V = c$ with a non-square matrix $A$. Especially, write down the entries of $A$ and $c$ based on the points $(x_i,y_i)_{i=1,\\dots,N}$. \n",
    "\n",
    "Since this matrix $A$ is non square, we will use 3) to find the parameters $(V)_{i=0,\\dots,N-1}$ that minimize $\\|AV -b\\|_2^2$. "
   ]
  },
  {
   "cell_type": "markdown",
   "metadata": {},
   "source": [
    "**Answer:**\n",
    "\n",
    "a) $$\\sum\\limits_{i=0}^{N-1} V_i x_j^i = \\log y_i$$\n",
    "\n",
    "b) $$A_{i,j} = x_j^i, \\qquad c_i = \\log y_i$$\n"
   ]
  },
  {
   "cell_type": "markdown",
   "metadata": {},
   "source": [
    "12) a) For the test in the next question, we will use the matrix \n",
    "\n",
    "$$ A = \\left( \\begin{array}{cc} 1 & 2 \\\\ 3 & 4 \\\\ 5 & 6 \\end{array}\\right).$$\n",
    "\n",
    "Compute $B = A^T A$, the Cholesky decomposition of $B$ and the $LDL^T$ of $B$.\n",
    "\n",
    "b) Implement an algorithm that takes an *a priori* non-square matrix $A$ and apply either the algorithm from 6) or from 8) to compute the Cholesky or the $LDL^T$ decomposition of the matrix $A^T A$.\n",
    "\n",
    "c) Test it with the matrix $A$ given in 12)a) and compare results obtained.  "
   ]
  },
  {
   "cell_type": "markdown",
   "metadata": {},
   "source": [
    "**Answer:**\n",
    "\n",
    "a) $$A^T A = \\left(\\begin{array}{cc} 35 & 44 \\\\ 44 & 56 \\end{array}\\right), \\qquad\\qquad L_{cholesky} = \\left(\\begin{array}{cc} \\sqrt{35} & 0 \\\\ \\frac{44}{\\sqrt{35}} &  \\sqrt{\\frac{24}{35}}\\end{array}\\right), \\qquad\\qquad L_{LDL^T} = \\left( \\begin{array}{cc} 1 & 0 \\\\ \\frac{44}{35} & 1 \\end{array} \\right),\\qquad D_{LDL^T} = Diag(35,\\frac{24}{35}) $$"
   ]
  },
  {
   "cell_type": "code",
   "execution_count": 9,
   "metadata": {},
   "outputs": [],
   "source": [
    "# b)\n",
    "def Cholesky_decomp_non_sq(A):\n",
    "    \"\"\"\n",
    "    Compute the Cholesky decomposition of A A^T\n",
    "    ----------   \n",
    "    parameters:\n",
    "    A : non square matrix (numpy array of size N,M)\n",
    "        \n",
    "    returns:\n",
    "    L : lower triangular matrix (numpy array of size N,N) such that L L^T = A A^T\n",
    "    \"\"\"\n",
    "    return Cholesky_decomp(np.matmul(np.transpose(A),A))"
   ]
  },
  {
   "cell_type": "code",
   "execution_count": 10,
   "metadata": {},
   "outputs": [],
   "source": [
    "def LDL_decomp_non_sq(A):\n",
    "    \"\"\"\n",
    "    Compute the L D L^T decomposition of A A^T\n",
    "    ----------   \n",
    "    parameters:\n",
    "    A : non square matrix (numpy array of size N,M)\n",
    "        \n",
    "    returns:\n",
    "    L : lower triangular matrix (numpy array of size N,N) such that L D L^T = A A^T\n",
    "    D : diagonal matrix (numpy array of size N,N) such that L D L^T = A A^T\n",
    "    \"\"\"    \n",
    "    return LDL_decomp(np.matmul(np.transpose(A),A))"
   ]
  },
  {
   "cell_type": "code",
   "execution_count": 11,
   "metadata": {},
   "outputs": [
    {
     "name": "stdout",
     "output_type": "stream",
     "text": [
      "Matrix:\n",
      " [[1 2]\n",
      " [3 4]\n",
      " [5 6]] \n",
      "\n",
      "Matrix A^T A:\n",
      " [[35 44]\n",
      " [44 56]] \n",
      "\n",
      "Cholesky decomposition of A^T A:\n",
      " [[5.91607978 0.        ]\n",
      " [7.43735744 0.82807867]] \n",
      "\n",
      "Cholesky decomposition of A^T A:\n",
      " 5.916079783099616 7.437357441610946 0.828078671210825\n"
     ]
    }
   ],
   "source": [
    "# c)\n",
    "A = np.array([[1,2],[3,4],[5,6]])\n",
    "# implement your test here\n",
    "\n",
    "print(\"Matrix:\\n\", A,\"\\n\")\n",
    "print(\"Matrix A^T A:\\n\", np.matmul(np.transpose(A), A),\"\\n\")\n",
    "print(\"Cholesky decomposition of A^T A:\\n\", Cholesky_decomp_non_sq(A),\"\\n\")\n",
    "print(\"Cholesky decomposition of A^T A:\\n\", np.sqrt(35), 44/np.sqrt(35),np.sqrt(24/35))"
   ]
  },
  {
   "cell_type": "code",
   "execution_count": 12,
   "metadata": {},
   "outputs": [
    {
     "name": "stdout",
     "output_type": "stream",
     "text": [
      "Matrix:\n",
      " [[1 2]\n",
      " [3 4]\n",
      " [5 6]] \n",
      "\n",
      "Matrix A^TA:\n",
      " [[35 44]\n",
      " [44 56]] \n",
      "\n",
      "LDL^T decomposition of A^TA:\n",
      " [[1.         0.        ]\n",
      " [1.25714286 1.        ]] \n",
      "\n",
      " [[35.          0.        ]\n",
      " [ 0.          0.68571429]]\n",
      "LDL^T decomposition of A^TA:\n",
      " 1.2571428571428571 0.6857142857142857\n"
     ]
    }
   ],
   "source": [
    "A = np.array([[1,2],[3,4],[5,6]])\n",
    "# implement your test here\n",
    "L,D =  LDL_decomp_non_sq(A)\n",
    "print(\"Matrix:\\n\", A,\"\\n\")\n",
    "print(\"Matrix A^TA:\\n\", np.matmul(np.transpose(A), A),\"\\n\")\n",
    "print(\"LDL^T decomposition of A^TA:\\n\", L, \"\\n\\n\", D)\n",
    "print(\"LDL^T decomposition of A^TA:\\n\", 44/35,24/35)"
   ]
  },
  {
   "cell_type": "markdown",
   "metadata": {},
   "source": [
    "13) a) Implement back and forward substitution algorithms (or copy paste it from last tutorial) to solve triangular systems. \n",
    "\n",
    "b) Implement an algorithm that solves a problem $L L^T V = b$ where the Cholesky decomposition of the matrix is given. Same with the $LDL^T V = b$ problem where the $LDL^T$ decomposition is given.  \n",
    "\n",
    "c) Test it to solve the problem \n",
    "\n",
    "$$ B V = b$$\n",
    "\n",
    "with the matrix $B$ given in 6) and the vector $b = (1,1,1)^T$. Verify your solution satisfies $B V = b$.\n",
    "\n",
    "d) Implement an algorithm that solves a normal problem $A A^T V = b$ where $A$ is *a priori* non square, using either the Cholesky decomposition or the $LDL^T$ decomposition.  \n",
    "\n",
    "e) Test it to solve the problem \n",
    "\n",
    "$$ A A^T V = b$$\n",
    "\n",
    "with the matrix $A$ given in 12) and the vector $b = (1,2,1)^T$. Verify your solution satisfies $AA^T V = A^T b$."
   ]
  },
  {
   "cell_type": "code",
   "execution_count": 13,
   "metadata": {},
   "outputs": [],
   "source": [
    "#a)\n",
    "def forward_substitution(L,b):\n",
    "    \"\"\"\n",
    "    Compute the solution of a lower triangular system\n",
    "    ----------   \n",
    "    parameters:\n",
    "    L : lower triangular matrix (numpy array of size N,N)\n",
    "    b : matrix (numpy array of size N)\n",
    "    \n",
    "    returns:\n",
    "    V : solution of the linear problem (numpy array of size N)\n",
    "    \"\"\"\n",
    "    N = len(b)\n",
    "    V = np.zeros(N)\n",
    "    for i in range(N):\n",
    "        if(L[i,i] != 0):\n",
    "            V[i] = (b[i] - sum(L[i,j]*V[j] for j in range(i))) / L[i,i]\n",
    "        else:\n",
    "            return \"L is not invertible\"\n",
    "    return V"
   ]
  },
  {
   "cell_type": "code",
   "execution_count": 14,
   "metadata": {},
   "outputs": [],
   "source": [
    "def back_substitution(U,b):\n",
    "    \"\"\"\n",
    "    Compute the solution of an upper triangular system\n",
    "    ----------   \n",
    "    parameters:\n",
    "    U : upper triangular matrix (numpy array of size N,N)\n",
    "    b : matrix (numpy array of size N)\n",
    "    \n",
    "    returns:\n",
    "    V : solution of the linear problem (numpy array of size N)\n",
    "    \"\"\"\n",
    "    N = len(b)\n",
    "    V = np.zeros(N)\n",
    "    for i in range(N-1,-1,-1):\n",
    "        if(U[i,i] != 0):\n",
    "            V[i] = (b[i] - sum(U[i,j]*V[j] for j in range(N-1,i,-1))) / U[i,i]\n",
    "        else:\n",
    "            return \"U is not invertible\"\n",
    "    return V"
   ]
  },
  {
   "cell_type": "code",
   "execution_count": 15,
   "metadata": {},
   "outputs": [],
   "source": [
    "#b) \n",
    "def solve_Cholesky(L,b):\n",
    "    \"\"\"\n",
    "    Compute the solution of the problem LL^T \n",
    "    ----------   \n",
    "    parameters:\n",
    "    L : lower triangular matrix (numpy array of size N,N)\n",
    "    b : matrix (numpy array of size N)\n",
    "    \n",
    "    returns:\n",
    "    V : solution of the linear problem (numpy array of size N)\n",
    "    \"\"\"  \n",
    "    W = forward_substitution(L,b)\n",
    "    return back_substitution(np.transpose(L),W)"
   ]
  },
  {
   "cell_type": "code",
   "execution_count": 16,
   "metadata": {},
   "outputs": [],
   "source": [
    "def solve_LDL(L,D,b):\n",
    "    \"\"\"\n",
    "    Compute the solution of the problem LDL^T V = b\n",
    "    ----------   \n",
    "    parameters:\n",
    "    L : lower triangular matrix (numpy array of size N,N)\n",
    "    D : diagonal matrix (numpy array of size N,N)\n",
    "    b : matrix (numpy array of size N)\n",
    "    \n",
    "    returns:\n",
    "    V : solution of the linear problem (numpy array of size N)\n",
    "    \"\"\"\n",
    "    W = forward_substitution(L,b)\n",
    "    X = W / np.array([D[i,i] for i in range(len(W))])\n",
    "    return back_substitution(np.transpose(L),X)"
   ]
  },
  {
   "cell_type": "code",
   "execution_count": 17,
   "metadata": {},
   "outputs": [
    {
     "name": "stdout",
     "output_type": "stream",
     "text": [
      "Matrix:\n",
      " [[ 1  2  3]\n",
      " [ 2  5 10]\n",
      " [ 3 10 26]] \n",
      "\n",
      "Right-hand-side:\n",
      " [1 1 1] \n",
      "\n",
      "Cholesky decomposition:\n",
      " [[1. 0. 0.]\n",
      " [2. 1. 0.]\n",
      " [3. 4. 1.]]\n",
      "Solution V:\n",
      " [13. -9.  2.]\n",
      "multiplication AV:\n",
      " [1. 1. 1.]\n"
     ]
    }
   ],
   "source": [
    "# c) Test 1:\n",
    "B = np.array([[1,2,3],[2,5,10],[3,10,26]])\n",
    "b = np.array([1,1,1]) \n",
    "\n",
    "print(\"Matrix:\\n\", B,\"\\n\")\n",
    "print(\"Right-hand-side:\\n\", b,\"\\n\")\n",
    "\n",
    "L = Cholesky_decomp(B)\n",
    "V = solve_Cholesky(L,b)\n",
    "\n",
    "print(\"Cholesky decomposition:\\n\", L)\n",
    "print(\"Solution V:\\n\", V)\n",
    "print(\"multiplication AV:\\n\",np.matmul(B,V))"
   ]
  },
  {
   "cell_type": "code",
   "execution_count": 18,
   "metadata": {
    "scrolled": true
   },
   "outputs": [
    {
     "name": "stdout",
     "output_type": "stream",
     "text": [
      "Matrix:\n",
      " [[  1   2   3]\n",
      " [  2   2  -2]\n",
      " [  3  -2 -20]] \n",
      "\n",
      "Right-hand-side:\n",
      " [1 1 1] \n",
      "\n",
      "LDL decomposition:\n",
      " [[1. 0. 0.]\n",
      " [2. 1. 0.]\n",
      " [3. 4. 1.]] [[ 1.  0.  0.]\n",
      " [ 0. -2.  0.]\n",
      " [ 0.  0.  3.]]\n",
      "Solution V:\n",
      " [ 3.33333333 -2.16666667  0.66666667]\n",
      "multiplication AV:\n",
      " [1. 1. 1.]\n"
     ]
    }
   ],
   "source": [
    "B = np.array([[1,2,3],[2,2,-2],[3,-2,-20]])\n",
    "b = np.array([1,1,1]) \n",
    "\n",
    "print(\"Matrix:\\n\", B,\"\\n\")\n",
    "print(\"Right-hand-side:\\n\", b,\"\\n\")\n",
    "\n",
    "\n",
    "L, D = LDL_decomp(B)\n",
    "V = solve_LDL(L,D,b)\n",
    "\n",
    "print(\"LDL decomposition:\\n\", L,D)\n",
    "print(\"Solution V:\\n\", V)\n",
    "print(\"multiplication AV:\\n\",np.matmul(B,V))"
   ]
  },
  {
   "cell_type": "code",
   "execution_count": 19,
   "metadata": {},
   "outputs": [],
   "source": [
    "#d)\n",
    "def LQ_Cholesky(A,b):\n",
    "    \"\"\"\n",
    "    Compute the solution of the problem A^T A V = b using Cholesky decomposition\n",
    "    ----------   \n",
    "    parameters:\n",
    "    A : non square matrix matrix (numpy array of size N,N)\n",
    "    b : matrix (numpy array of size N)\n",
    "    \n",
    "    returns:\n",
    "    V : solution of the linear problem (numpy array of size N)\n",
    "    \"\"\"\n",
    "    B   = np.matmul(np.transpose(A),A)\n",
    "    RHS = np.matmul(np.transpose(A),b)\n",
    "    return solve_Cholesky(Cholesky_decomp(B),RHS)"
   ]
  },
  {
   "cell_type": "code",
   "execution_count": 20,
   "metadata": {},
   "outputs": [],
   "source": [
    "def LQ_LDL(A,b):\n",
    "    \"\"\"\n",
    "    Compute the solution of the problem AA^T V = b using LDL^T decomposition\n",
    "    ----------   \n",
    "    parameters:\n",
    "    A : non square matrix matrix (numpy array of size N,N)\n",
    "    b : matrix (numpy array of size N)\n",
    "    \n",
    "    returns:\n",
    "    V : solution of the linear problem (numpy array of size N)\n",
    "    \"\"\"\n",
    "    B   = np.matmul(np.transpose(A),A)\n",
    "    RHS = np.matmul(np.transpose(A),b)\n",
    "    L,D = LDL_decomp(B)\n",
    "    return solve_LDL(L,D,RHS)"
   ]
  },
  {
   "cell_type": "code",
   "execution_count": 21,
   "metadata": {},
   "outputs": [
    {
     "name": "stdout",
     "output_type": "stream",
     "text": [
      "Solution V:\n",
      " [-1.33333333  1.33333333]\n",
      "Verification b:\n",
      " [1 2 1] \n",
      "\n",
      "Verification A^T A V:\n",
      " [12. 16.] [12 16]\n"
     ]
    }
   ],
   "source": [
    "# e) Test 1:\n",
    "A = np.array([[1,2],[3,4],[5,6]])\n",
    "b = np.array([1,2,1]) \n",
    "\n",
    "V = LQ_Cholesky(A,b)\n",
    "print(\"Solution V:\\n\", V) \n",
    "print(\"Verification b:\\n\", b,\"\\n\")\n",
    "print(\"Verification A^T A V:\\n\", np.matmul(np.matmul(np.transpose(A),A),V), np.matmul(np.transpose(A),b))"
   ]
  },
  {
   "cell_type": "code",
   "execution_count": 22,
   "metadata": {},
   "outputs": [
    {
     "name": "stdout",
     "output_type": "stream",
     "text": [
      "Solution V:\n",
      " [-1.33333333  1.33333333]\n",
      "Verification b:\n",
      " [1 2 1] \n",
      "\n",
      "Verification A^T A V:\n",
      " [12. 16.] [12 16]\n"
     ]
    }
   ],
   "source": [
    "A = np.array([[1,2],[3,4],[5,6]])\n",
    "b = np.array([1,2,1]) \n",
    "\n",
    "V = LQ_LDL(A,b)\n",
    "print(\"Solution V:\\n\", V) \n",
    "print(\"Verification b:\\n\", b,\"\\n\")\n",
    "print(\"Verification A^T A V:\\n\", np.matmul(np.matmul(np.transpose(A),A),V), np.matmul(np.transpose(A),b))"
   ]
  },
  {
   "cell_type": "markdown",
   "metadata": {},
   "source": [
    "14) Finally, we aim to compute the parameters of the function in 11) such that this function is as close as possible as to given points $(x_i,y_i)_{i=1,\\dots,N}$, in the sense that the parameters $V$ minimize the distance $\\|AV - b\\|_2^2$ where $A$ and $b$ depend on $(x_i,y_i)_{i=1,\\dots,N}$ as found in 11). \n",
    "\n",
    "a) Test your algorithm with the given vector of data for $N=10$. \n",
    "\n",
    "b) Plot on the same graph the points $(x_i,b_i)$ and your solution $f(x)$."
   ]
  },
  {
   "cell_type": "code",
   "execution_count": 23,
   "metadata": {},
   "outputs": [],
   "source": [
    "def f(x, V):\n",
    "    \"\"\"\n",
    "    Compute the value of the function f given the parameters V \n",
    "    ----------   \n",
    "    parameters:\n",
    "    x : vectors of points where the function is evaluated, for the plot below (written as a numpy array of size N)\n",
    "    V : vector of the parameters (numpy array of size N)\n",
    "    \n",
    "    returns:\n",
    "    f(x) : value of the function at this point\n",
    "    \"\"\"\n",
    "    res = np.zeros(len(x))\n",
    "    for i in range(len(V)):\n",
    "        res += V[i]*x**i\n",
    "    return np.exp(res) "
   ]
  },
  {
   "cell_type": "code",
   "execution_count": 24,
   "metadata": {},
   "outputs": [
    {
     "data": {
      "image/png": "[encoded data removed]",
      "text/plain": [
       "<Figure size 432x288 with 1 Axes>"
      ]
     },
     "metadata": {
      "needs_background": "light"
     },
     "output_type": "display_data"
    }
   ],
   "source": [
    "N_data   = 100\n",
    "N_interp = 10\n",
    "N_plot   = 1000\n",
    "x_plot   = np.linspace(1,N_plot,N_plot)/N_plot\n",
    "\n",
    "x_data = 0.5 * (1 + np.cos(pi*(2*np.array(range(N_data))-1)/N_data))\n",
    "b      = np.array([np.exp(np.cos(y) - np.cos(5.*y/(2-y)**2)) for y in x_data])\n",
    "\n",
    "A = np.array([[ y**i for i in range(N_interp)] for y in x_data])\n",
    "V_Cholesky = LQ_Cholesky(A,np.log(b))\n",
    "V_LDL = LQ_LDL(A,np.log(b))\n",
    "\n",
    "\n",
    "plt.figure(1)\n",
    "plt.scatter(x_data, b, color='red',  label=\"Data\", marker='.', s=0.5)\n",
    "plt.plot(x_plot, f(x_plot,V_Cholesky), color='blue', label='Interpolation Cholesky')\n",
    "plt.plot(x_plot, f(x_plot,V_LDL), color='green', label='Interpolation LDL')\n",
    "plt.xlabel('x')\n",
    "plt.ylabel('f(x)')\n",
    "plt.legend()\n",
    "plt.show()"
   ]
  },
  {
   "cell_type": "code",
   "execution_count": null,
   "metadata": {},
   "outputs": [],
   "source": []
  }
 ],
 "metadata": {
  "kernelspec": {
   "display_name": "base",
   "language": "python",
   "name": "python3"
  },
  "language_info": {
   "codemirror_mode": {
    "name": "ipython",
    "version": 3
   },
   "file_extension": ".py",
   "mimetype": "text/x-python",
   "name": "python",
   "nbconvert_exporter": "python",
   "pygments_lexer": "ipython3",
   "version": "3.9.7"
  },
  "latex_envs": {
   "LaTeX_envs_menu_present": true,
   "autoclose": false,
   "autocomplete": true,
   "bibliofile": "biblio.bib",
   "cite_by": "apalike",
   "current_citInitial": 1,
   "eqLabelWithNumbers": true,
   "eqNumInitial": 1,
   "hotkeys": {
    "equation": "Ctrl-E",
    "itemize": "Ctrl-I"
   },
   "labels_anchors": false,
   "latex_user_defs": false,
   "report_style_numbering": false,
   "user_envs_cfg": false
  },
  "toc": {
   "base_numbering": 1,
   "nav_menu": {},
   "number_sections": true,
   "sideBar": true,
   "skip_h1_title": true,
   "title_cell": "Table of Contents",
   "title_sidebar": "Contents",
   "toc_cell": false,
   "toc_position": {},
   "toc_section_display": true,
   "toc_window_display": false
  },
  "vscode": {
   "interpreter": {
    "hash": "40d3a090f54c6569ab1632332b64b2c03c39dcf918b08424e98f38b5ae0af88f"
   }
  }
 },
 "nbformat": 4,
 "nbformat_minor": 2
}
