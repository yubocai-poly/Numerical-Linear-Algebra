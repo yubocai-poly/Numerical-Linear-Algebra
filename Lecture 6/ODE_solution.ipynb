{
 "cells": [
  {
   "cell_type": "markdown",
   "metadata": {},
   "source": [
    "# Tutorial 6: Solving an ODE"
   ]
  },
  {
   "cell_type": "code",
   "execution_count": 4,
   "metadata": {},
   "outputs": [],
   "source": [
    "# Load packages:\n",
    "\n",
    "# this package allows to work efficiently with arrays\n",
    "import numpy as np\n",
    "# this package provides some tools of linear algebra. We can use them to simplify certain algorithms and for comparisons.\n",
    "import scipy.linalg as lin\n",
    "# this package is used to draw graphs\n",
    "import matplotlib.pyplot as plt"
   ]
  },
  {
   "attachments": {},
   "cell_type": "markdown",
   "metadata": {},
   "source": [
    "The aim of this tutorial is to compare different numerical methods for solving a vectorial ODE \n",
    "$$\n",
    "\\frac{dU}{dt} = AU + S\n",
    "$$ \n",
    "where $A \\in \\mathbb{R}^{N \\times N}$ and $S \\in \\mathbb{R}^N$. \n",
    "\n",
    "We study numerical methods to solve this system."
   ]
  },
  {
   "cell_type": "markdown",
   "metadata": {},
   "source": [
    "---\n",
    "\n",
    "## An iterative method: Jacobi algorithm"
   ]
  },
  {
   "cell_type": "markdown",
   "metadata": {},
   "source": [
    "Consider the problem \n",
    "\n",
    "$$MU=b$$\n",
    "\n",
    "where $M\\in\\mathbb{R}^{N\\times N}$ and $U,b\\in\\mathbb{R}^N$. Decompose \n",
    "\n",
    "$$M = D - R$$\n",
    "\n",
    "where $D =  Diag(M_{1,1},\\dots,M_{N,N})$ is the diagonal of $M$ and $R = D-M$ is the remaining part.\n",
    "\n",
    "Define a sequence $(V^k)_{k\\in\\mathbb{N}}$ by chosing an initial $V^0 \\in\\mathbb{R}^N$ and then iteratively \n",
    "\n",
    "$$D V^{k+1} = R V^k + b.$$ "
   ]
  },
  {
   "cell_type": "markdown",
   "metadata": {},
   "source": [
    "1) Assuming that $M_{i,i} \\neq 0$, verify that \n",
    "- the sequence $(V^k)_{k\\in\\mathbb{N}}$ is well-defined, \n",
    "- if it converges, then its limit solves $MU = b$, i.e. $\\lim\\limits_{k\\rightarrow \\infty}V^k = V^\\infty = U$. \n",
    "- What information is added to this limit when you consider furthermore that the whole matrix $M = D-R$ is invertible?"
   ]
  },
  {
   "cell_type": "markdown",
   "metadata": {},
   "source": [
    "**Answer:**\n",
    "\n",
    "- $V^{k+1} = D^{-1} (R V^k +b)$. Since $D = Diag(M_{1,1},\\dots,M_{N,N})$ with $M_{i,i} \\neq 0$, then $D$ is invertible and $V^{k+1}$ is well-defined.\n",
    "- If convergence occurs, $D V^{\\infty} = R V^{\\infty} + b$ then $(D-R) V^\\infty = M V^\\infty = b$ is a solution to the problem.\n",
    "- If $M$ is invertible, then the problem has a unique solution $M^{-1} b$."
   ]
  },
  {
   "cell_type": "markdown",
   "metadata": {},
   "source": [
    "2) What else could happen to $(V^k)$ in the limit $k\\rightarrow + \\infty$? "
   ]
  },
  {
   "cell_type": "markdown",
   "metadata": {},
   "source": [
    "**Answer:**\n",
    "\n",
    "The sequence could diverge."
   ]
  },
  {
   "cell_type": "markdown",
   "metadata": {},
   "source": [
    "3) a) In the test below, we will use the parameters \n",
    "\n",
    "$$ A = \\left( \\begin{array}{ccc} 3 & 1 & 0 \\\\ -1 & -5 & 1 \\\\ 0 & 2 & 4 \\end{array} \\right), \\qquad b = \\left( 4, -5, 6\\right)^T. $$\n",
    "\n",
    "Compute the solution $V$ of the problem $AV = b$. \n",
    "\n",
    "b) Implement a function computing iteratively $V^{k+1}$ for solving $MU = b$. Stop the algorithm at iteration $k$ if \n",
    "- $k>k_{max}$, too many iterations are performed.\n",
    "- or $\\epsilon^k = {\\|AV^k-b\\|} < \\epsilon_{max}$, a desired accuracy is obtained.  \n",
    "\n",
    "The function should \n",
    "- take $M$, $b$, $V^0$, a maximum number of iteration $k_{\\max}$ and a certain tolerance $\\epsilon_{max}$ for arguments.\n",
    "- return $V^k$, the final solution at last $k$, the vector of the errors $(\\epsilon^i)_{i=1,\\dots,k}$ and the final $k$ (either $k$ is such that the desired accuracy is reached or $k=k_{max}$).\n",
    "\n",
    "c) Test your algorithm with the parameters in a) and with $\\epsilon_{max} = 10^{-6}$ and $k_{max}=100$. Compare with different values of the inital vector $V^0$. "
   ]
  },
  {
   "cell_type": "markdown",
   "metadata": {},
   "source": [
    "**Answer:**\n",
    "\n",
    "a) $V = (4, -5, 6)^T$"
   ]
  },
  {
   "cell_type": "code",
   "execution_count": 5,
   "metadata": {},
   "outputs": [],
   "source": [
    "#b)\n",
    "def iterative_solver(M, b, Vinit, kmax, epsmax):\n",
    "    \"\"\"\n",
    "    Provides an approximation of M^{-1}b using the proposed iterative method\n",
    "    ----------   \n",
    "    parameters:\n",
    "    M      : matrix in the equation MV = b to solve (numpy array of size N,N)\n",
    "    b      : vector on the right-hand-side of the equation MV = b (numpy array of size N)\n",
    "    Vinit  : initial vector of the iterative method (numpy array of size N)\n",
    "    kmax   : maximum number of iterations, stops if k reaches kmax (integer)\n",
    "    epsmax : tolerance on the residual, stops if eps reaches epsmax (float)\n",
    "    \n",
    "    returns:\n",
    "    V   : resulting vector at the end of the iterations (numpy array of size N)\n",
    "    eps : vector composed of the residuals eps at every iteration (numpy array of size k)\n",
    "    k   : number of iterations performed before the algorithm stops (integer)\n",
    "    \"\"\"\n",
    "\n",
    "    N      = len(b)\n",
    "    V      = np.copy(Vinit)\n",
    "    V_new  = np.copy(Vinit)\n",
    "    eps    = np.zeros(kmax)\n",
    "    eps[0] = lin.norm(np.matmul(M,V_new)-b)\n",
    "    \n",
    "    k     = 0\n",
    "    while (k<kmax-1) and (eps[k] > epsmax):   \n",
    "        k += 1\n",
    "        V = np.copy(V_new)\n",
    "        for i in range(N):\n",
    "            V_new[i]  = sum( M[i,j]*V[j] for j in range(i    ) )\n",
    "            V_new[i] += sum( M[i,j]*V[j] for j in range(i+1,N) )\n",
    "            V_new[i] += -b[i]\n",
    "            V_new[i] /= -M[i,i]\n",
    "        eps[k] = lin.norm(np.matmul(M,V_new)-b)\n",
    "    return V_new, eps[:k+1], k"
   ]
  },
  {
   "cell_type": "code",
   "execution_count": 6,
   "metadata": {},
   "outputs": [
    {
     "ename": "NameError",
     "evalue": "name 'B' is not defined",
     "output_type": "error",
     "traceback": [
      "\u001b[0;31m---------------------------------------------------------------------------\u001b[0m",
      "\u001b[0;31mNameError\u001b[0m                                 Traceback (most recent call last)",
      "\u001b[0;32m/var/folders/rf/3_96g3x522q394xqlyg__5l00000gn/T/ipykernel_80855/2103642392.py\u001b[0m in \u001b[0;36m<module>\u001b[0;34m\u001b[0m\n\u001b[1;32m      2\u001b[0m \u001b[0mA\u001b[0m \u001b[0;34m=\u001b[0m \u001b[0mnp\u001b[0m\u001b[0;34m.\u001b[0m\u001b[0marray\u001b[0m\u001b[0;34m(\u001b[0m\u001b[0;34m[\u001b[0m\u001b[0;34m[\u001b[0m\u001b[0;36m3.\u001b[0m\u001b[0;34m,\u001b[0m\u001b[0;36m1\u001b[0m\u001b[0;34m,\u001b[0m\u001b[0;36m0\u001b[0m\u001b[0;34m]\u001b[0m\u001b[0;34m,\u001b[0m\u001b[0;34m[\u001b[0m\u001b[0;34m-\u001b[0m\u001b[0;36m1\u001b[0m\u001b[0;34m,\u001b[0m\u001b[0;34m-\u001b[0m\u001b[0;36m5\u001b[0m\u001b[0;34m,\u001b[0m\u001b[0;36m1\u001b[0m\u001b[0;34m]\u001b[0m\u001b[0;34m,\u001b[0m\u001b[0;34m[\u001b[0m\u001b[0;36m0\u001b[0m\u001b[0;34m,\u001b[0m\u001b[0;36m2\u001b[0m\u001b[0;34m,\u001b[0m\u001b[0;36m4\u001b[0m\u001b[0;34m]\u001b[0m\u001b[0;34m]\u001b[0m\u001b[0;34m)\u001b[0m\u001b[0;34m\u001b[0m\u001b[0;34m\u001b[0m\u001b[0m\n\u001b[1;32m      3\u001b[0m \u001b[0mb\u001b[0m \u001b[0;34m=\u001b[0m \u001b[0mnp\u001b[0m\u001b[0;34m.\u001b[0m\u001b[0marray\u001b[0m\u001b[0;34m(\u001b[0m\u001b[0;34m[\u001b[0m\u001b[0;36m4.\u001b[0m\u001b[0;34m,\u001b[0m\u001b[0;34m-\u001b[0m\u001b[0;36m5\u001b[0m\u001b[0;34m,\u001b[0m\u001b[0;36m6\u001b[0m\u001b[0;34m]\u001b[0m\u001b[0;34m)\u001b[0m\u001b[0;34m\u001b[0m\u001b[0;34m\u001b[0m\u001b[0m\n\u001b[0;32m----> 4\u001b[0;31m \u001b[0mV\u001b[0m\u001b[0;34m,\u001b[0m \u001b[0meps\u001b[0m\u001b[0;34m,\u001b[0m \u001b[0mk\u001b[0m \u001b[0;34m=\u001b[0m \u001b[0miterative_solver\u001b[0m\u001b[0;34m(\u001b[0m\u001b[0mB\u001b[0m\u001b[0;34m,\u001b[0m \u001b[0mb\u001b[0m\u001b[0;34m,\u001b[0m \u001b[0mb\u001b[0m\u001b[0;34m,\u001b[0m \u001b[0;36m100\u001b[0m\u001b[0;34m,\u001b[0m \u001b[0;36m1.e-6\u001b[0m\u001b[0;34m)\u001b[0m\u001b[0;34m\u001b[0m\u001b[0;34m\u001b[0m\u001b[0m\n\u001b[0m\u001b[1;32m      5\u001b[0m \u001b[0;34m\u001b[0m\u001b[0m\n\u001b[1;32m      6\u001b[0m \u001b[0mprint\u001b[0m\u001b[0;34m(\u001b[0m\u001b[0;34m\"Solution V = \"\u001b[0m\u001b[0;34m,\u001b[0m \u001b[0mV\u001b[0m\u001b[0;34m)\u001b[0m\u001b[0;34m\u001b[0m\u001b[0;34m\u001b[0m\u001b[0m\n",
      "\u001b[0;31mNameError\u001b[0m: name 'B' is not defined"
     ]
    }
   ],
   "source": [
    "#c)\n",
    "A = np.array([[3.,1,0],[-1,-5,1],[0,2,4]])\n",
    "b = np.array([4.,-5,6])\n",
    "V, eps, k = iterative_solver(B, b, b, 100, 1.e-6)\n",
    "\n",
    "print(\"Solution V = \", V)\n",
    "print(\"AV         = \", np.matmul(B,V))\n",
    "print(\"b          = \",b)"
   ]
  },
  {
   "cell_type": "markdown",
   "metadata": {},
   "source": [
    "4) Consider the matrices $B(x) \\in\\mathbb{R}^{N\\times N}$ defined for $x\\in\\mathbb{R}$ by: \n",
    "\n",
    "$$B(x)_{i,j} = x \\delta_{i,j} - \\frac{1}{N}.$$\n",
    "\n",
    "Choose the data: \n",
    "\n",
    "$$N = 10,  \\quad \\epsilon_{max} = 10^{-8}, \\quad b \\in\\mathbb{R}^N \\quad\\text{and}\\quad V^0 \\in\\mathbb{R}^N \\quad\\text{s.t.}\\quad b_i=1, \\quad V^0 = e^0,$$\n",
    "\n",
    "and the matrix to invert $M=B(x=2)$.\n",
    "\n",
    "a) Compute $V^k$ and $MV^k - b$ at the end of the iterations. \n",
    "\n",
    "b) Verify that the error $\\epsilon^k$ is inferior to desired accuracy $\\epsilon_{max}$ or that $k=100$.\n",
    "\n",
    "c) Plot the error $\\epsilon^k$ as a function of $k$ in logscale.  "
   ]
  },
  {
   "cell_type": "code",
   "execution_count": null,
   "metadata": {
    "scrolled": false
   },
   "outputs": [],
   "source": [
    "### test your aglorithm here\n",
    "# a) and b)\n",
    "\n",
    "#Construction of the matrices and vectors\n",
    "N = 10\n",
    "x = 2.\n",
    "\n",
    "M        = x * np.eye(N) - np.outer(np.ones(N), np.ones(N)) / N \n",
    "b        = np.ones(N)\n",
    "Vinit    = np.zeros(N); Vinit[0] = 1.\n",
    "\n",
    "#Parameter of the method\n",
    "kmax     = 100\n",
    "epsmax   = 1.e-8\n",
    "\n",
    "U, eps, k = iterative_solver(M, b, Vinit, kmax, epsmax)\n",
    "\n",
    "print('solution = ', U)\n",
    "print('final residual = ', np.matmul(M,U)-b)\n",
    "print('final iteration', k)"
   ]
  },
  {
   "cell_type": "code",
   "execution_count": null,
   "metadata": {},
   "outputs": [],
   "source": [
    "# c)\n",
    "# Plot the errors\n",
    "vect_err = eps\n",
    "vect_k   = range(len(eps))\n",
    "\n",
    "plt.figure(1)\n",
    "plt.semilogy(vect_k,vect_err)\n",
    "plt.xlabel('k')\n",
    "plt.ylabel('Error')\n",
    "plt.title(\"Error(k)\")\n",
    "plt.show()"
   ]
  },
  {
   "cell_type": "markdown",
   "metadata": {},
   "source": [
    "5) What can you say about the convergence rate of the algorithm, i.e. the speed of convergence of the sequence $(V^k)_{k\\in\\mathbb{N}}$ to the desired result?"
   ]
  },
  {
   "cell_type": "markdown",
   "metadata": {},
   "source": [
    "**Answer:**\n",
    "\n",
    "It is of the form $\\rho(M)^k$."
   ]
  },
  {
   "cell_type": "markdown",
   "metadata": {},
   "source": [
    "6) Reproduce the previous computations with $x=5$ and $x=10$, and plot on the same graph the errors obtained with your algorithm for the different values of $x$. Interprete the evolution of this convergence rate with $x$."
   ]
  },
  {
   "cell_type": "code",
   "execution_count": null,
   "metadata": {},
   "outputs": [],
   "source": [
    "#Construction of the matrices and vectors\n",
    "N = 10\n",
    "x = 5.\n",
    "\n",
    "M2       = x * np.eye(N) - np.outer(np.ones(N), np.ones(N)) / N \n",
    "b        = np.ones(N)\n",
    "Vinit    = np.zeros(N); Vinit[0] = 1.\n",
    "\n",
    "#Parameter of the method\n",
    "kmax     = 100\n",
    "epsmax   = 10**(-8)\n",
    "\n",
    "# Compute the solution and the errors\n",
    "U2, eps2, k2 = iterative_solver(M2, b, Vinit, kmax, epsmax)\n",
    "\n",
    "vect_err2 = eps2\n",
    "vect_k2   = range(len(eps2))\n",
    "\n",
    "print('solution2 = ', U2)\n",
    "print('final residual = ', np.matmul(M2,U2)-b)\n",
    "print('final iteration2', k2)"
   ]
  },
  {
   "cell_type": "code",
   "execution_count": null,
   "metadata": {},
   "outputs": [],
   "source": [
    "#Construction of the matrices and vectors\n",
    "N = 10\n",
    "x = 10.\n",
    "\n",
    "M3       = x * np.eye(N) - np.outer(np.ones(N), np.ones(N)) / N \n",
    "b        = np.ones(N)\n",
    "Vinit    = np.zeros(N); Vinit[0] = 1.\n",
    "\n",
    "#Parameter of the method\n",
    "kmax     = 100\n",
    "epsmax   = 10**(-8)\n",
    "\n",
    "# Compute the solution and the errors\n",
    "U3, eps3, k3 = iterative_solver(M3, b, Vinit, kmax, epsmax)\n",
    "\n",
    "vect_err3 = eps3\n",
    "vect_k3   = range(len(eps3))\n",
    "\n",
    "print('solution2 = ', U3)\n",
    "print('final residual = ', np.matmul(M3,U3)-b)\n",
    "print('final iteration2', k3)"
   ]
  },
  {
   "cell_type": "code",
   "execution_count": null,
   "metadata": {},
   "outputs": [],
   "source": [
    "# Plot the different errors \n",
    "plt.figure(2)\n",
    "plt.semilogy(vect_k , vect_err , 'r', label='x=2' )\n",
    "plt.semilogy(vect_k2, vect_err2, 'b', label='x=5' )\n",
    "plt.semilogy(vect_k3, vect_err3, 'g', label='x=10')\n",
    "plt.xlabel('k')\n",
    "plt.ylabel('Error')\n",
    "plt.legend()\n",
    "plt.title(\"Error(k)\")\n",
    "plt.show()"
   ]
  },
  {
   "cell_type": "markdown",
   "metadata": {},
   "source": [
    "7) Test again the algorithm with $x=\\frac{2}{N}$. Give an interpretation."
   ]
  },
  {
   "cell_type": "code",
   "execution_count": null,
   "metadata": {},
   "outputs": [],
   "source": [
    "#Construction of the matrices and vectors\n",
    "N = 10\n",
    "x = 2./N\n",
    "\n",
    "M4       = x * np.eye(N) - np.outer(np.ones(N), np.ones(N)) / N \n",
    "b        = np.ones(N)\n",
    "Vinit    = np.zeros(N); Vinit[0] = 1.\n",
    "\n",
    "#Parameter of the method\n",
    "kmax     = 100\n",
    "epsmax   = 10**(-8)\n",
    "\n",
    "# Compute the solution and the errors\n",
    "U4, eps4, k4 = iterative_solver(M4, b, Vinit, kmax, epsmax)\n",
    "\n",
    "vect_err4 = eps4\n",
    "vect_k4   = range(len(eps4))\n",
    "\n",
    "print('solution2 = ', U4)\n",
    "print('final residual = ', np.matmul(M4,U4)-b)\n",
    "print('final iteration2', k4)"
   ]
  },
  {
   "cell_type": "code",
   "execution_count": null,
   "metadata": {},
   "outputs": [],
   "source": [
    "plt.figure(4)\n",
    "plt.semilogy(vect_k4, vect_err4, 'r', label='x=2/N')\n",
    "plt.xlabel('k')\n",
    "plt.ylabel('Error')\n",
    "plt.legend()\n",
    "plt.title(\"Error(k)\")\n",
    "plt.show()"
   ]
  },
  {
   "cell_type": "markdown",
   "metadata": {},
   "source": [
    "**Answer:**\n",
    "\n",
    "The spectral radius is bigger than 1, it diverges."
   ]
  },
  {
   "cell_type": "markdown",
   "metadata": {},
   "source": [
    "---\n",
    "\n",
    "## Application for solving the ODE"
   ]
  },
  {
   "cell_type": "markdown",
   "metadata": {},
   "source": [
    "In order to solve this ODE numerically, we need to reduce it into a finite dimensional problem. For this purpose, we use an implicit Euler time discretization: This method consists in approximating the value of $U$ at a finite number of values $(t^n)_{n=0,\\dots,N}$. One writes \n",
    "\n",
    "$$ \\frac{U^{n+1} - U^n}{\\Delta t} = A U^{n+1} + S, \\qquad{} (1)$$\n",
    "\n",
    "where $U^n \\approx U(t^n)$ approximates the value of $U$ at time $t^n$, and $\\Delta t = t^{n+1}-t^n$ is the time step between the times $t^{n+1}$ and $t^n$. We choose to fix $\\Delta t$ constant for all $n$. Remark that this definition of $U^{n+1}$ is equivalent to the vectorial equation of the last question, but without the infinitesimal hypothesis of $\\delta t$. This is therefore only an approximation. "
   ]
  },
  {
   "cell_type": "markdown",
   "metadata": {},
   "source": [
    "1) Rewrite the discrete equation (1) under the form $B U^{n+1} = C U^n + E S$ (write down the matrices $B$, $C$ and $E$). "
   ]
  },
  {
   "cell_type": "markdown",
   "metadata": {},
   "source": [
    "**Answer:**\n",
    "\n",
    "One now has \n",
    "\n",
    "$$ (Id - \\Delta t A)U^{n+1} = U^n + \\Delta t S.$$ \n",
    "\n",
    "As a result, $B = Id - \\Delta t A$, $C = Id$ and $E = \\Delta t Id$."
   ]
  },
  {
   "cell_type": "markdown",
   "metadata": {},
   "source": [
    "2) Using Gershgorin theorem:\n",
    "\n",
    "a) What can you deduce on the eigenvalues of $B$ when $\\Delta t$ is small? \n",
    "\n",
    "b) What can you deduce on the eigenvalues of its Jacobi iteration matrix ?"
   ]
  },
  {
   "cell_type": "markdown",
   "metadata": {},
   "source": [
    "**Answer:**\n",
    "\n",
    "a) The Gershgorin discs are $$D_i = B\\left(1-\\Delta t A_{i,i}, \\quad{} \\Delta t \\sum\\limits_{j\\neq i} |A_{i,j}|\\right),$$ therefore for $\\Delta t$ small enough, these are bigger than 0.\n",
    "\n",
    "b) The Gershgorin discs are $$D_i = B\\left(0, \\quad{}\\frac{\\Delta t \\sum\\limits_{j\\neq i} |A_{i,j}|}{1-\\Delta t A_{i,i}}\\right),$$ therefore for $\\Delta t$ small enough, these are smaller than 0 in norm."
   ]
  },
  {
   "cell_type": "markdown",
   "metadata": {},
   "source": [
    "3) Implement a function that \n",
    "- take as arguments: initial vector $U_0$, the matrix $A$, the source vector $S$ (constant), the time step $\\Delta t$, the final time $T$ and the maximum number of iteration $k_{\\max}$ and maximum tolerance $\\epsilon_{\\max}$\n",
    "of the iterative mathod\n",
    "- returns the sequence of the approximate solution $U^{n}$.  \n",
    "\n",
    "It should compute iteratively each $U^{n+1}$ based on $U^n$, by solving the linear system (2) with the Jacobi iteration method of the last section. Choose $U^n$ as an initialisation when using this method to compute $U^{n+1}$."
   ]
  },
  {
   "cell_type": "code",
   "execution_count": null,
   "metadata": {},
   "outputs": [],
   "source": [
    "def solve_ODE_Jacobi(U0, A, S, dt, T_end, kmax, epsmax):\n",
    "    \"\"\"\n",
    "    Computes the sequence U^n defined iteratively in (1), where every U^{n+1} is computed from U^n by using \"iterative_solver\" \n",
    "    ----------   \n",
    "    parameters:\n",
    "    U0     : first value of the iterative sequence U^n (numpy array of size N)\n",
    "    A      : matrix on the right-hand-side of (1) (numpy array of size N,N)\n",
    "    S      : vector of sources (independent of n) on the right-hand-side of (1) (numpy array of size N)\n",
    "    dt     : fixed time step (float)\n",
    "    T_end  : final time (float ; proportional to dt -> n_time * dt)\n",
    "    kmax   : maximum number of iterations, stops if k reaches kmax (integer)\n",
    "    epsmax : tolerance on the residual, stops if eps reaches epsmax (float)\n",
    "    \n",
    "    returns:\n",
    "    U      : sequence of solutions U^n (numpy array of size N,n_time)\n",
    "    \"\"\"\n",
    "        \n",
    "    N       = len(S)\n",
    "    n_final = int(T_end/dt)\n",
    "    \n",
    "    #initialization\n",
    "    U          = np.zeros((N,n_final))\n",
    "    U[:,0]     = U0\n",
    "    iterations = np.zeros(n_final)\n",
    "    C   = np.eye(N) - dt * A\n",
    "            \n",
    "    # time loop\n",
    "    t = 0\n",
    "    for n in range(n_final-1):    \n",
    "        t    += dt       \n",
    "        Vinit = U[:,n]\n",
    "        b     = Vinit + dt * S\n",
    "        U[:,n+1], _, iterations[n+1] = iterative_solver(C, b, Vinit, kmax, epsmax)\n",
    "        \n",
    "    return U"
   ]
  },
  {
   "cell_type": "markdown",
   "metadata": {},
   "source": [
    "4) Test it with the matrix $A$ such that $A_{i,j} = 1/N$ for all $i,j$.\n",
    "\n",
    "- Problem parameters: Choose the data: $N = 10$, $S \\in\\mathbb{R}^N$ such that $S=(1,2,\\dots,N)$. \n",
    "- ODE parameters: Choose $U^0 = (N,\\dots, 2,1)$ at initial time, final time is $T=1$ and fix $\\Delta t = \\frac{1}{100}$ (or equivalently do $n_{final} = 100$ time steps).\n",
    "- Iterative methods parameters: Choose the maximum error is $\\epsilon_{max} = 10^{-8}$, and a maximum number of iteration $k_{max} = 100$.\n",
    "\n",
    "Plot the solution $U_i^{n_{final}}$ on a graph as a function of $i$. "
   ]
  },
  {
   "cell_type": "code",
   "execution_count": null,
   "metadata": {},
   "outputs": [],
   "source": [
    "###Test your algorithm here\n",
    "\n",
    "#Problem parameters\n",
    "N   = 10\n",
    "\n",
    "#ODE parameters\n",
    "dt    = 1/100.\n",
    "T_end = 1.\n",
    "\n",
    "U0    = np.array([N-i for i in range(N)])\n",
    "S     = np.array([i+1 for i in range(N)]) \n",
    "A     = np.ones((N,N)) / 10\n",
    "\n",
    "#Iterative method parameters\n",
    "epsmax = 10**(-8)\n",
    "kmax   = 100\n",
    "\n",
    "# Solve\n",
    "U = solve_ODE_Jacobi(U0, A, S, dt, T_end, kmax, epsmax)\n",
    "n_times = len(U[0,:])\n",
    "\n",
    "# Plot\n",
    "plt.figure(3)\n",
    "plt.xlabel('t')\n",
    "plt.ylabel('U_i')\n",
    "plt.title('U_i(t)')\n",
    "for i in range(len(U[:,0])):\n",
    "    plt.plot(range(n_times),U[i,:],label=i)\n",
    "plt.legend()\n",
    "plt.show()"
   ]
  },
  {
   "cell_type": "code",
   "execution_count": null,
   "metadata": {},
   "outputs": [],
   "source": []
  }
 ],
 "metadata": {
  "kernelspec": {
   "display_name": "base",
   "language": "python",
   "name": "python3"
  },
  "language_info": {
   "codemirror_mode": {
    "name": "ipython",
    "version": 3
   },
   "file_extension": ".py",
   "mimetype": "text/x-python",
   "name": "python",
   "nbconvert_exporter": "python",
   "pygments_lexer": "ipython3",
   "version": "3.9.7"
  },
  "latex_envs": {
   "LaTeX_envs_menu_present": true,
   "autoclose": false,
   "autocomplete": true,
   "bibliofile": "biblio.bib",
   "cite_by": "apalike",
   "current_citInitial": 1,
   "eqLabelWithNumbers": true,
   "eqNumInitial": 1,
   "hotkeys": {
    "equation": "Ctrl-E",
    "itemize": "Ctrl-I"
   },
   "labels_anchors": false,
   "latex_user_defs": false,
   "report_style_numbering": false,
   "user_envs_cfg": false
  },
  "toc": {
   "base_numbering": 1,
   "nav_menu": {},
   "number_sections": true,
   "sideBar": true,
   "skip_h1_title": true,
   "title_cell": "Table of Contents",
   "title_sidebar": "Contents",
   "toc_cell": false,
   "toc_position": {
    "height": "calc(100% - 180px)",
    "left": "10px",
    "top": "150px",
    "width": "165px"
   },
   "toc_section_display": true,
   "toc_window_display": true
  },
  "vscode": {
   "interpreter": {
    "hash": "40d3a090f54c6569ab1632332b64b2c03c39dcf918b08424e98f38b5ae0af88f"
   }
  }
 },
 "nbformat": 4,
 "nbformat_minor": 4
}
