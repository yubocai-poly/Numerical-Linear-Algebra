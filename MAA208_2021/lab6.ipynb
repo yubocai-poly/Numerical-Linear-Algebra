{
 "cells": [
  {
   "cell_type": "markdown",
   "metadata": {},
   "source": []
  },
  {
   "cell_type": "markdown",
   "metadata": {},
   "source": [
    "**Instructions:** the exam is composed of three exercises including theoretical and implementation parts. Every exercise can be treated independently.\n",
    "- This document is available from the 18th March at 8 AM and must be uploaded back **BEFORE the 26th at 8 PM** (take your precautions to upload it in time).   \n",
    "- Answering in markdown in the notebook is encouraged, but if you have difficulties with it, you are allowed to answer the theoretical part on a separate document in pdf, png, or jpg format.\n",
    "- In both cases, the clarity (clean writing) and the organization of the work (numbering the questions appropriately) are taken into account during the correction. \n",
    "- You are allowed to use any document (script, slides, other internet sources...).\n",
    "- Before uploading your notebook, **clean it (Kernel/restart and clear output)** to make it  lighter. And **verify that your code is running cell after cell.**"
   ]
  },
  {
   "cell_type": "code",
   "execution_count": 1,
   "metadata": {
    "ExecuteTime": {
     "end_time": "2023-03-31T08:30:34.261952Z",
     "start_time": "2023-03-31T08:30:33.255957Z"
    }
   },
   "outputs": [],
   "source": [
    "#library and functions used in the notebook\n",
    "import numpy as np\n",
    "import matplotlib.pyplot as plt\n",
    "import numpy.linalg as lin\n",
    "from scipy.linalg import cho_factor, cho_solve"
   ]
  },
  {
   "cell_type": "markdown",
   "metadata": {},
   "source": [
    "## Exercise 1: Convergence of tridiagonal Jacobi and Gauss-Seidel methods"
   ]
  },
  {
   "cell_type": "markdown",
   "metadata": {},
   "source": [
    "We aim to compare numerically the convergence rates of Jacobi and Gauss-Seidel algorithms in the case of tridiagonal matrices. We focus on one example given by the matrix of the Laplacian \n",
    "\n",
    "$$L = \\left(\\begin{array}{cccccc} \n",
    "2  & -1 & 0  & \\dots & \\dots & 0 \\\\\n",
    "-1 & 2  & -1 & 0 &  & \\vdots \\\\\n",
    "0  & -1 & 2  & -1 & \\ddots & \\vdots \\\\\n",
    "\\vdots & \\ddots & \\ddots & \\ddots & \\ddots & 0  \\\\ \n",
    "\\vdots &  & \\ddots & \\ddots & \\ddots& -1  \\\\ \n",
    "0 & \\dots & \\dots & 0 & -1 & 2\n",
    "\\end{array}\\right) \\in \\mathbb{R}^{N\\times N}.$$"
   ]
  },
  {
   "cell_type": "markdown",
   "metadata": {},
   "source": [
    "1) a) Implement Jacobi algorithm to solve systems of the form $L V = b$. \n",
    "The arguments of the function are given. There are two stopping criteria, one on the maximal number of iterations and one on the error $\\|AV^n-b\\|$.\n",
    "\n",
    "*Hint: you may exploit the considered tridiagonal structure of the matrix $L$.*"
   ]
  },
  {
   "cell_type": "code",
   "execution_count": 2,
   "metadata": {
    "ExecuteTime": {
     "end_time": "2023-03-31T08:30:34.267231Z",
     "start_time": "2023-03-31T08:30:34.262923Z"
    }
   },
   "outputs": [],
   "source": [
    "def Jacobi_Laplace(N, b, V0, it_max = 10**4, TOL = 10**(-10)):\n",
    "    \"\"\"\n",
    "    Compute the iterations of Jacobi algorithm for the Laplacian matrix\n",
    "    ----------   \n",
    "    parameters:\n",
    "    N      : size of the matrix NxN\n",
    "    b      : RHS of the problem L V = b where L is the Laplacian matrix\n",
    "    V0     : initial vector in the method\n",
    "    it_max : maximum number of iterations\n",
    "    TOL    : use || L V^k - b || < TOL as a stopping criteria \n",
    "    \n",
    "    returns:\n",
    "    V       : the solution at the end of the iterations\n",
    "    tab_err : array of the || L V^k - b ||^2 at every iteration\n",
    "    \"\"\"\n",
    "    \n",
    "    #initialization\n",
    "    V_new      = np.copy(V0)\n",
    "    V          = np.copy(V_new)\n",
    "    tab_err    = np.zeros(it_max+1)\n",
    "    L = np.zeros((N,N))\n",
    "    for i in range(N):\n",
    "        L[i,i] = 2\n",
    "        if (i>=1):\n",
    "            L[i-1, i] = -1\n",
    "        if (i<N-1):\n",
    "            L[i+1, i] = -1\n",
    "\n",
    "    #convergence loop\n",
    "    k = 0\n",
    "    while (k < it_max) and (lin.norm(np.matmul(L,V_new)-b) >= TOL):\n",
    "        tab_err[k] = lin.norm(np.matmul(L,V_new)-b)**2\n",
    "        V_new   = np.copy(V)\n",
    "        for i in range(N):\n",
    "            sm = 0\n",
    "            if (i>=1):\n",
    "                sm-= V_new[i-1]\n",
    "            if (i<N-1):\n",
    "                sm-= V_new[i+1]\n",
    "            V[i] = (b[i]-sm)/2\n",
    "        k+=1\n",
    "        \n",
    "        \n",
    "        \n",
    "        \n",
    "     \n",
    "    print(k)\n",
    "    return V, tab_err[:k]"
   ]
  },
  {
   "cell_type": "markdown",
   "metadata": {},
   "source": [
    "\n",
    "b) Test it with the given data, $N= 20$, $b= (1,0,\\dots,0)$ and plot the error obtained with this method as a function of the iteration $n$ in logscale."
   ]
  },
  {
   "cell_type": "code",
   "execution_count": 3,
   "metadata": {
    "ExecuteTime": {
     "end_time": "2023-03-31T08:30:34.507782Z",
     "start_time": "2023-03-31T08:30:34.268663Z"
    }
   },
   "outputs": [
    {
     "name": "stdout",
     "output_type": "stream",
     "text": [
      "1879\n"
     ]
    },
    {
     "data": {
      "image/png": "[encoded data removed]",
      "text/plain": [
       "<Figure size 432x288 with 1 Axes>"
      ]
     },
     "metadata": {
      "needs_background": "light"
     },
     "output_type": "display_data"
    }
   ],
   "source": [
    "#parameters\n",
    "N = 20\n",
    "b = np.zeros(N); b[0] = 1.\n",
    "\n",
    "#solving the system\n",
    "sol_J, err_J = Jacobi_Laplace(N, b, b, it_max = 10**4, TOL = 10**(-10))\n",
    "\n",
    "#plot the errors\n",
    "plt.figure(1)\n",
    "plt.yscale(\"log\")\n",
    "plt.xlabel(\"Iteration\")\n",
    "plt.ylabel(\"Error\")\n",
    "plt.plot(err_J)\n",
    "plt.show()"
   ]
  },
  {
   "cell_type": "markdown",
   "metadata": {},
   "source": [
    "2) a) Implement Gauss-Seidel algorithm to solve the system $L V = b$ where $b = (1, 0, \\dots, 0) \\in\\mathbb{R}^N$. \n",
    "The arguments of the function are given.\n",
    "\n",
    "\n",
    "*Hint: you may exploit again the considered tridiagonal structure of the matrix.*"
   ]
  },
  {
   "cell_type": "code",
   "execution_count": 4,
   "metadata": {
    "ExecuteTime": {
     "end_time": "2023-03-31T08:30:34.512842Z",
     "start_time": "2023-03-31T08:30:34.508658Z"
    }
   },
   "outputs": [],
   "source": [
    "def GS_Laplace(N, b, V0, it_max = 10**4, TOL = 10**(-10)):\n",
    "    \"\"\"\n",
    "    Compute the iterations of Gauss-Seidel algorithm for the Laplacian matrix\n",
    "    ----------   \n",
    "    parameters:\n",
    "    N      : size of the matrix NxN\n",
    "    b      : RHS of the problem L V = b\n",
    "    V0     : initial vector in the method\n",
    "    it_max : maximum number of iterations\n",
    "    TOL    : use || L V^k - b || < TOL as a stopping criteria \n",
    "    \n",
    "    returns:\n",
    "    V       : the solution at the end of the iterations\n",
    "    tab_err : array of the || L V^k - b ||^2 at every iteration\n",
    "    \"\"\"\n",
    "    \n",
    "    #initialization\n",
    "    V_new   = np.copy(V0)\n",
    "    V       = np.copy(V_new)\n",
    "    tab_err = np.zeros(it_max+1)\n",
    "    L = np.zeros((N,N))\n",
    "    for i in range(N):\n",
    "        L[i,i] = 2\n",
    "        if (i>=1):\n",
    "            L[i-1, i] = -1\n",
    "        if (i<N-1):\n",
    "            L[i+1, i] = -1\n",
    "    #convergence loop\n",
    "    k = 0\n",
    "    while (k < it_max) and (lin.norm(np.matmul(L,V_new)-b) >= TOL):\n",
    "        tab_err[k] = lin.norm(np.matmul(L,V_new)-b)**2\n",
    "        V_new   = np.copy(V)\n",
    "        for i in range(N):\n",
    "            sm = 0\n",
    "            if (i>=1):\n",
    "                sm-= V[i-1]\n",
    "            if (i<N-1):\n",
    "                sm-= V_new[i+1]\n",
    "            V[i] = (b[i]-sm)/2\n",
    "        k+=1\n",
    "    print(k)\n",
    "    return V, tab_err[:k]"
   ]
  },
  {
   "cell_type": "markdown",
   "metadata": {},
   "source": [
    "b) Test it with the given data, $N= 20$, $b= (1,0,\\dots,0)$. Compare the behaviour (convergence rate, number of iterations, ...) of Jacobi and Gauss-Seidel algorithms on this test case."
   ]
  },
  {
   "cell_type": "code",
   "execution_count": 5,
   "metadata": {
    "ExecuteTime": {
     "end_time": "2023-03-31T08:30:34.643438Z",
     "start_time": "2023-03-31T08:30:34.513705Z"
    }
   },
   "outputs": [
    {
     "name": "stdout",
     "output_type": "stream",
     "text": [
      "886\n"
     ]
    },
    {
     "data": {
      "image/png": "[encoded data removed]",
      "text/plain": [
       "<Figure size 432x288 with 1 Axes>"
      ]
     },
     "metadata": {
      "needs_background": "light"
     },
     "output_type": "display_data"
    }
   ],
   "source": [
    "#parameters\n",
    "N = 20\n",
    "b = np.zeros(N)\n",
    "b[0] = 1.\n",
    "\n",
    "#solving the system\n",
    "sol_GS, err_GS = GS_Laplace(N, b, b, it_max = 10**4, TOL = 10**(-10))\n",
    "\n",
    "#plot the errors\n",
    "plt.figure(2)\n",
    "plt.yscale(\"log\")\n",
    "plt.xlabel(\"Iteration\")\n",
    "plt.ylabel(\"Error\")\n",
    "plt.plot(err_J)\n",
    "plt.plot(err_GS)\n",
    "plt.legend([\"Jacobi\",\"Gauss-Seidel\"])\n",
    "plt.show()"
   ]
  },
  {
   "cell_type": "markdown",
   "metadata": {},
   "source": [
    "**Answer:** \n",
    "\n",
    "Gauss-Seidel algoritm converges faster than Jacobi algoritm and requires more than 2 times smaller number of iterations to converge (886 vs 1879). \n",
    "Although these algoritms start with the same error, Gauss-Seidel algorithm goes ahead of Jacobi alrogithm very fast."
   ]
  },
  {
   "cell_type": "markdown",
   "metadata": {},
   "source": [
    "c) Compute numerically the spectral radii of Jacobi and Gauss-Seidel iteration matrices using the convergence rates of those methods on the last test case. Compare them for different values of N. \n",
    "\n",
    "(Bonus): For the considered matrix, the two spectral radii are related to each others (one is a function of the other). Find numerically this relation.   "
   ]
  },
  {
   "cell_type": "code",
   "execution_count": 6,
   "metadata": {
    "ExecuteTime": {
     "end_time": "2023-03-31T08:30:34.646907Z",
     "start_time": "2023-03-31T08:30:34.644308Z"
    }
   },
   "outputs": [
    {
     "name": "stdout",
     "output_type": "stream",
     "text": [
      "rho Jacobi       0.9777865056878356\n",
      "rho Gauss-Seidel 0.956067113090734\n",
      "rho_Jacobi^2 = 0.9560664507052279, rho Gauss-Seidel 0.956067113090734\n",
      "1.9999691584027148\n"
     ]
    }
   ],
   "source": [
    "rho_J  = err_J[-1]/err_J[-2]\n",
    "print(f\"rho Jacobi       {rho_J}\"   )\n",
    "rho_GS = err_GS[-1]/err_GS[-2]\n",
    "print(f\"rho Gauss-Seidel {rho_GS}\" )\n",
    "print(f\"rho_Jacobi^2 = {rho_J**2}, rho Gauss-Seidel {rho_GS}\")\n",
    "print(np.log(rho_GS)/np.log(rho_J))"
   ]
  },
  {
   "cell_type": "markdown",
   "metadata": {},
   "source": [
    "**Answer:** \n",
    "For the given matrix the spectral radii of Jacobi iteration matrix is the spectral radii of tbe Gauss-Seidel iteration matrix to the power 2.\n",
    "\n",
    "Moreover, $\\frac{lg(\\rho_{GS})}{\\rho_J} \\approx 2 $\n"
   ]
  },
  {
   "attachments": {},
   "cell_type": "markdown",
   "metadata": {},
   "source": [
    "---"
   ]
  },
  {
   "cell_type": "markdown",
   "metadata": {},
   "source": [
    "## Exercise 2: Complexity of Strassen's multiplication"
   ]
  },
  {
   "cell_type": "markdown",
   "metadata": {},
   "source": [
    "**Historical context:** In the late 60's, the operations performed by computers were slower, especially, multiplications in floating point arithmetic was around three times slower than additions. To compensate that, Winograd in 1967, then Strassen in 1969 studied factorizations of matrix products in order to dicrease the number of operations that these required (especially the number of multiplications). This factorization also lead to direct methods for the computation of inverse matrices that required less operations (for large matrices $N\\rightarrow \\infty$) than the classical Gaussian elimination.\n",
    "\n",
    "In this exercise, we compare at a theoretical level the number of operations (additions and multiplications together) required when using the basic formula of matrix-matrix product and when using Strassen formulae. "
   ]
  },
  {
   "cell_type": "markdown",
   "metadata": {},
   "source": [
    "### Part 1: Basic computation of the product"
   ]
  },
  {
   "cell_type": "markdown",
   "metadata": {},
   "source": [
    "1) Consider two vectors $V\\in\\mathbb{R}^N$ and $W\\in\\mathbb{R}^N$. How many operations are required to compute their dot product?\n"
   ]
  },
  {
   "cell_type": "markdown",
   "metadata": {},
   "source": [
    "**Answer:**\n",
    "$$N+N-1 = 2N-1$$ (N multiplications and N-1 additions)."
   ]
  },
  {
   "cell_type": "markdown",
   "metadata": {},
   "source": [
    "2) Deduce the number of operations required to compute the matrix product $AB$ of two matrices of $\\mathbb{R}^{N\\times N}$ by computing each of its component as the dot product of two vectors."
   ]
  },
  {
   "cell_type": "markdown",
   "metadata": {},
   "source": [
    "**Answer:** \n",
    "To compute the matrix product $AB$ of two matrices of $\\mathbb{R}^{N\\times N}$, the dot product of 2 vectors in $\\mathbb{R}^N$ (for each element $AB_{i,j}$ with $0\\leq i \\leq N$,$0\\leq j \\leq N$ ) has to be taken $N^2$ times, thus the number of operations required to compute $AB$ is:\n",
    "$$N^2(2N-1) = 2N^3 - N^2 $$"
   ]
  },
  {
   "cell_type": "markdown",
   "metadata": {},
   "source": [
    "3) Compare the number of operations required to do the product of two $N\\times N$ matrices with the one of two $2N\\times 2N$ matrices when $N$ is large."
   ]
  },
  {
   "cell_type": "markdown",
   "metadata": {},
   "source": [
    "**Answer:**\n",
    "\n",
    "The number of operations required to do the product of two $2N\\times 2N$ matrices is $4N^2(2N+2N-1)= 16N^3-16N^2$.\n",
    "\n",
    "$$16 N^3-16N^2 = 8(2N^3-N^2) -8N^2$$\n",
    "\n",
    "If $N=100$, the number of operations to do the product of two $N\\times N$ is $1 990 000$ and to do the product of two $2N\\times 2N$ is $15 840 000$. When $N$ is large, the difference between the two is very big."
   ]
  },
  {
   "cell_type": "markdown",
   "metadata": {},
   "source": [
    "### Part 2: Strassen's factorization"
   ]
  },
  {
   "cell_type": "markdown",
   "metadata": {},
   "source": [
    "Strassen's formulae is provided but the  construction is omited here. Only the study of its complexity is focussed on. We will compute the number of operations required through this factorization and compare it with the one obtain in the previous section.\n",
    "\n",
    "The matrices $A$ and $B$ are of size $\\mathbb{R}^N$ where $N = 2^p$ is some power of 2. Decompose all matrices into block form of equal size \n",
    "\n",
    "$$ A = \\left(\\begin{array}{c|c} A_{1,1} & A_{1,2} \\\\ \\hline A_{2,1} & A_{2,2}\\end{array}\\right), \\quad B = \\left(\\begin{array}{c|c} B_{1,1} & B_{1,2} \\\\ \\hline B_{2,1} & B_{2,2}\\end{array}\\right), \\quad C = AB = \\left(\\begin{array}{c|c} C_{1,1} & C_{1,2} \\\\ \\hline C_{2,1} & C_{2,2}\\end{array}\\right),$$\n",
    "\n",
    "where $A_{i,j}$, $B_{i,j}$ and $C_{i,j}$ are submatrices of size $\\frac{N}{2}\\times \\frac{N}{2}.$\n",
    "\n",
    "Then Strassen provided the following 7 matrices \n",
    "\n",
    "\\begin{align*}\n",
    "    P_1 &= (A_{1,1}+A_{2,2})(B_{1,1}+B_{2,2}) \\\\\n",
    "    P_2 &= (A_{2,1}+A_{2,2,})B_{1,1} \\\\\n",
    "    P_3 &= A_{1,1} (B_{1,2}-B_{2,2}) \\\\\n",
    "    P_4 &= A_{2,2}(B_{2,1}-B_{1,1}) \\\\\n",
    "    P_5 &= (A_{1,1}+A_{1,2})B_{2,2} \\\\\n",
    "    P_6 &= (A_{2,1}-A_{1,1})(B_{1,1}+B_{1,2}) \\\\\n",
    "    P_7 &= (A_{1,2}-A_{2,2})(B_{2,1}-B_{2,2})\n",
    "\\end{align*}\n",
    "\n",
    "such that the matrix product $C= AB$ yields \n",
    "\n",
    "\\begin{align*}\n",
    "    C_{1,1} &= P_1 + P_4 - P_5 + P_7 &= A_{1,1}B_{1,1} + A_{1,2} B_{2,1} \\\\\n",
    "    C_{1,2} &= P_3 + P_5             &= A_{1,1}B_{1,2} + A_{1,2} B_{2,2} \\\\\n",
    "    C_{2,1} &= P_2 + P_4             &= A_{2,1}B_{1,1} + A_{2,2} B_{2,1} \\\\\n",
    "    C_{2,2} &= P_1 + P_3 - P_2 + P_6 &= A_{2,1}B_{1,2} + A_{2,2} B_{2,2}.\n",
    "\\end{align*}\n",
    "\n",
    "We aim to compute the number of operations required to obtain $C$ through the knowledge of the $P_i$'s.\n",
    "\n",
    "For this purpose, write $S_{N}$ the number of operations required to compute the sum of two matrices of size $N$ and $M_N$ the number of operations required to compute the multiplication of two matrices."
   ]
  },
  {
   "cell_type": "markdown",
   "metadata": {},
   "source": [
    "4) Compute $S_N$.  \n",
    "\n",
    "$$S_N = N^2$$"
   ]
  },
  {
   "cell_type": "markdown",
   "metadata": {},
   "source": [
    "**Answer:** "
   ]
  },
  {
   "cell_type": "markdown",
   "metadata": {},
   "source": [
    "5) Assuming that $A$ and $B$ are of size ${N\\times N}$, how many operations are required to compute $P_1$ (or equivalently $P_6$ or $P_7$) ? Express it as a function of $S_{N/2}$ and $M_{N/2}$\n",
    "\n",
    "The number of operations required to compute $P_1$ (or equivalently $P_6$ or $P_7$) is:\n",
    "$$2S_{N/2}+M_{N/2} $$"
   ]
  },
  {
   "cell_type": "markdown",
   "metadata": {},
   "source": [
    "**Answer:** "
   ]
  },
  {
   "cell_type": "markdown",
   "metadata": {},
   "source": [
    "6) Assuming that $A$ and $B$ are of size ${N\\times N}$, how many operations are required to compute $P_2$ (or equivalently $P_3$, $P_4$ or $P_5$) ? Express it as a function of $S_{N/2}$ and $M_{N/2}$\n",
    "\n",
    "The number of operations required to compute $P_2$ (or equivalently $P_3$, $P_4$ or $P_5$) is:\n",
    "$$S_{N/2}+M_{N/2} $$"
   ]
  },
  {
   "cell_type": "markdown",
   "metadata": {},
   "source": [
    "**Answer:**"
   ]
  },
  {
   "cell_type": "markdown",
   "metadata": {},
   "source": [
    "7) Knowing $P_i$ for $i=1,...,7$, how many operations are required to obtain $C = AB$.\n",
    "\n",
    "8"
   ]
  },
  {
   "cell_type": "markdown",
   "metadata": {},
   "source": [
    "**Answer:**"
   ]
  },
  {
   "cell_type": "markdown",
   "metadata": {},
   "source": [
    "8) Deduce $M_{N}$ as a function of $M_{N/2}$ and $N$.\n",
    "\n",
    "$$M_N =8+3(2_S{N/2}+M_{N/2})+4(S_{N/2}+M_{N/2})= 10 S_{N/2}+7M_{N/2}+8=5\\frac{N^2}{2}+7M_{N/2}+8 $$"
   ]
  },
  {
   "cell_type": "markdown",
   "metadata": {},
   "source": [
    "**Answer:** "
   ]
  },
  {
   "cell_type": "markdown",
   "metadata": {},
   "source": [
    "9) Compare this raise with the one found in **Part 1-3)** when $N$ is large. Does Strassen's method constitute an improvement?"
   ]
  },
  {
   "cell_type": "markdown",
   "metadata": {},
   "source": [
    "**Answer:**\n",
    "\n",
    "In Part 1-3) we found this formula : $M_N = 8 M_{N/2}-8N^2$. \n",
    "\n",
    "When $N$ is large, Strassen's method consitites an improvement because it requires $7 M_{N/2}$ and not $8 M_{N/2}$ (and when $N$ is large this term is the most important since it is of the order $N^3$ and the term with $N^2$ does not play a role)."
   ]
  },
  {
   "cell_type": "markdown",
   "metadata": {},
   "source": [
    "---\n",
    "---"
   ]
  },
  {
   "cell_type": "markdown",
   "metadata": {},
   "source": [
    "## Exercise 3: Incomplete Cholesky factorization"
   ]
  },
  {
   "cell_type": "markdown",
   "metadata": {},
   "source": [
    "In this exercise, we aim to accelerate the convergence of an iterative method by exploiting a direct method. We illustrate this method again on a matrix closely related to Laplacian, i.e. \n",
    "\n",
    "$$ A_{i,j} = 2 \\left(1+\\frac{1}{N}\\right) \\delta_{i,j} - \\delta_{i+1,j} - \\delta_{i-1,j} - \\delta_{i,1}\\delta_{j,N} - \\delta_{i,N}\\delta_{j,1}. \\qquad{} (3.1)$$\n",
    "\n",
    "The construction of this matrix is implemented in the following function:"
   ]
  },
  {
   "cell_type": "code",
   "execution_count": 7,
   "metadata": {
    "ExecuteTime": {
     "end_time": "2023-03-31T08:30:34.651205Z",
     "start_time": "2023-03-31T08:30:34.647970Z"
    }
   },
   "outputs": [
    {
     "name": "stdout",
     "output_type": "stream",
     "text": [
      "Matrix(10): \n",
      " [[ 2.2 -1.   0.   0.   0.   0.   0.   0.   0.  -1. ]\n",
      " [-1.   2.2 -1.   0.   0.   0.   0.   0.   0.   0. ]\n",
      " [ 0.  -1.   2.2 -1.   0.   0.   0.   0.   0.   0. ]\n",
      " [ 0.   0.  -1.   2.2 -1.   0.   0.   0.   0.   0. ]\n",
      " [ 0.   0.   0.  -1.   2.2 -1.   0.   0.   0.   0. ]\n",
      " [ 0.   0.   0.   0.  -1.   2.2 -1.   0.   0.   0. ]\n",
      " [ 0.   0.   0.   0.   0.  -1.   2.2 -1.   0.   0. ]\n",
      " [ 0.   0.   0.   0.   0.   0.  -1.   2.2 -1.   0. ]\n",
      " [ 0.   0.   0.   0.   0.   0.   0.  -1.   2.2 -1. ]\n",
      " [-1.   0.   0.   0.   0.   0.   0.   0.  -1.   2.2]]\n"
     ]
    }
   ],
   "source": [
    "def Construct_Matrix(N):\n",
    "    #Construct the desired matrix of size NxN\n",
    "    A  = 2.*(1+1/N)*np.eye(N)-np.diag(np.ones(N-1),1)-np.diag(np.ones(N-1),-1)\n",
    "    A[0,-1] -= 1.\n",
    "    A[-1,0] -= 1.  \n",
    "    return A\n",
    "\n",
    "print(\"Matrix(10): \\n\",Construct_Matrix(10))"
   ]
  },
  {
   "cell_type": "markdown",
   "metadata": {},
   "source": [
    "### Part 1: Foreword"
   ]
  },
  {
   "cell_type": "markdown",
   "metadata": {},
   "source": [
    "1) Consider the problem $AV = b$.\n",
    "Prove that Jacobi algorithm converges toward $V^\\infty = A^{-1}b$ for all initialization $V^0$. \n"
   ]
  },
  {
   "cell_type": "markdown",
   "metadata": {},
   "source": [
    "**Answer:** \n",
    "\n",
    "$$|A_{i,i}|\\geq \\sum_{i \\neq j} |A_{i,j}|$$\n",
    "since $A_{i,i}=2(1+\\frac{1}{N})$ and $\\sum_{i \\neq j} |A_{i,j}|=2$ and we have $N \\geq 1$.\n",
    "\n",
    "$A$ is strictly diagonally dominant, so $\\rho(M_J)<1$ (the spectral radius of the iteration matrice of Jacobi algorithm) and so the Jacobi algorithm converges toward $V^\\infty = A^{-1}b$ for all initialization $V^0$. \n"
   ]
  },
  {
   "cell_type": "markdown",
   "metadata": {},
   "source": [
    "2) Jacobi algorithm is implemented (see below) and tested in the next cells. Study this implementation and, based on it, compute numerically the convergence rate of this method. What would be the ideal convergence rate ? And the worst possible such that the method remains convergent ? Is the present convergence fast or slow ?"
   ]
  },
  {
   "cell_type": "code",
   "execution_count": 8,
   "metadata": {
    "ExecuteTime": {
     "end_time": "2023-03-31T08:30:34.656260Z",
     "start_time": "2023-03-31T08:30:34.652037Z"
    }
   },
   "outputs": [],
   "source": [
    "def Jacobi(A, b, V0, it_max=1000, TOL=10**(-10)):\n",
    "    \"\"\"\n",
    "    Compute the iterations of Jacobi algorithm\n",
    "    ----------   \n",
    "    parameters:\n",
    "    A      : Matrix of size NxN of the problem A V = b\n",
    "    b      : RHS of the problem A V = b\n",
    "    V0     : initial vector in the method\n",
    "    it_max : maximum number of iterations\n",
    "    TOL    : use || A V^k - b || < TOL as a stopping criteria \n",
    "    \n",
    "    returns:\n",
    "    V       : the solution at the end of the iterations\n",
    "    tab_err : array of the || A V^k - b ||^2 at every iteration\n",
    "    \"\"\"\n",
    "   \n",
    "    # initializations\n",
    "    V_new   = np.copy(V0)\n",
    "    V       = np.copy(V_new)\n",
    "    tab_err = np.zeros(it_max)\n",
    "    tab_err[0] = lin.norm(np.matmul(A,V_new)-b)**2\n",
    "    k = 0\n",
    "    N = A.shape[0]\n",
    "    # construction of the matrices\n",
    "    # convergence loop\n",
    "    while (k < it_max) and (lin.norm(np.matmul(A,V_new)-b) >= TOL):\n",
    "        V  = np.copy(V_new)\n",
    "        for i in range(N):\n",
    "            V_new[i] = sum(A[i,j]*V[j] for j in range(i))\n",
    "            V_new[i] += sum(A[i,j]*V[j] for j in range(i+1,N))\n",
    "            V_new[i]-=b[i]\n",
    "            V_new[i]/=-A[i,i]\n",
    "        k+=1\n",
    "        if (k<it_max):\n",
    "            tab_err[k] = lin.norm(np.matmul(A,V_new)-b)**2\n",
    "    return V, tab_err[:k]\n",
    "    "
   ]
  },
  {
   "cell_type": "code",
   "execution_count": 9,
   "metadata": {
    "ExecuteTime": {
     "end_time": "2023-03-31T08:30:37.229989Z",
     "start_time": "2023-03-31T08:30:34.659079Z"
    },
    "scrolled": true
   },
   "outputs": [
    {
     "data": {
      "image/png": "[encoded data removed]",
      "text/plain": [
       "<Figure size 432x288 with 1 Axes>"
      ]
     },
     "metadata": {
      "needs_background": "light"
     },
     "output_type": "display_data"
    }
   ],
   "source": [
    "# parameters\n",
    "N  = 100\n",
    "A  = Construct_Matrix(N)\n",
    "b  = np.ones(N)\n",
    "V0 = np.zeros(N) \n",
    "\n",
    "# solving the linear system\n",
    "U_Jacobi, err_Jacobi = Jacobi(A, b, V0)\n",
    "\n",
    "#plotting the error\n",
    "plt.figure(3)\n",
    "plt.yscale(\"log\")\n",
    "plt.xlabel(\"Iteration\")\n",
    "plt.ylabel(\"Error\")\n",
    "plt.plot(err_Jacobi)\n",
    "plt.show()"
   ]
  },
  {
   "cell_type": "code",
   "execution_count": 10,
   "metadata": {
    "ExecuteTime": {
     "end_time": "2023-03-31T08:30:37.233007Z",
     "start_time": "2023-03-31T08:30:37.230942Z"
    }
   },
   "outputs": [
    {
     "name": "stdout",
     "output_type": "stream",
     "text": [
      "rho_Jacobi 0.9802960493611248\n"
     ]
    }
   ],
   "source": [
    "# Computing the convergence rate\n",
    "rho_Jacobi = err_Jacobi[-1]/err_Jacobi[-2]\n",
    "print(f\"rho_Jacobi {rho_Jacobi}\")"
   ]
  },
  {
   "cell_type": "markdown",
   "metadata": {},
   "source": [
    "**Answer:** "
   ]
  },
  {
   "cell_type": "markdown",
   "metadata": {},
   "source": [
    "### Part 2: Acceleration"
   ]
  },
  {
   "cell_type": "markdown",
   "metadata": {},
   "source": [
    "Now we aim to accelerate the convergence of Jacobi algorithm using an incomplete Cholesky factorization.\n",
    "\n",
    "3) The principle of the incomplete Cholesky factorization is to write a symmetric positive definite matrix $A$ under the form \n",
    "$$A = L L^T - R$$\n",
    "where $L$ is lower triangular (and ideally $L$ is sparse, i.e. it has many zero entries and its computation is expected to require less operations). \n",
    "\n",
    "Consider the matrix $A$ defined in (3.1) and the matrix $R$ given by $$R_{i,j} = \\delta_{i,1}\\delta_{j,N} + \\delta_{i,N}\\delta_{j,1}.$$\n",
    "Show that $A$ possesses an incomplete Cholesky factorisation $A = LL^T - R$. "
   ]
  },
  {
   "cell_type": "markdown",
   "metadata": {},
   "source": [
    "**Answer:**\n",
    "\n",
    "$A+R$ is given by: \n",
    "$$A_{i,j}+R_{i,j} = 2 \\left(1+\\frac{1}{N}\\right) \\delta_{i,j} - \\delta_{i+1,j} - \\delta_{i-1,j} $$"
   ]
  },
  {
   "cell_type": "markdown",
   "metadata": {},
   "source": [
    "4) Consider the following stationary iteration method: with $A = M-R = LL^T-R$ as above, define the sequence $V^k$ by choosing $V^0\\in \\mathbb R^N$ and setting $MV^{k+1} = b + RV^k$. \n",
    "\n",
    "a) Write down the resulting iterative method obtained by choosing the matrix of the iteration method $M = L L^T$ as the one of the incomplete Cholesky decomposition. What algorithms would you use to compute $V^{k+1}$?\n",
    "\n",
    "b) Implement this method and test it with the same parameter as in 3). \n",
    "\n",
    "*Hints:*\n",
    "- *in order to simplify the implementation, you may use the functions cho_factor and cho_solve from scipy.linalg to compute the incomplete Cholesky factorization and to compute $M^{-1}$. Reading the documentation (https://docs.scipy.org/doc/scipy/reference/linalg.html) of those functions is recommended before using them.*\n",
    "- *You may exploit the implementation of Jacobi algorithm (given above) to construct this one.*\n",
    "\n",
    "c) Compute its convergence rate numerically and compare it with the one of Jacobi method."
   ]
  },
  {
   "cell_type": "markdown",
   "metadata": {},
   "source": [
    "**Answer:** "
   ]
  },
  {
   "cell_type": "code",
   "execution_count": 11,
   "metadata": {
    "ExecuteTime": {
     "end_time": "2023-03-31T08:30:37.236370Z",
     "start_time": "2023-03-31T08:30:37.233767Z"
    }
   },
   "outputs": [],
   "source": [
    "def Incomplete_Cholesky_iterative(A, b, V0, it_max=1000, TOL=10**(-10)):\n",
    "    \"\"\"\n",
    "    Compute the iterations of the incomplete LU preconditioned Jacobi algorithm\n",
    "    ----------   \n",
    "    parameters:\n",
    "    A      : Matrix of size NxN of the problem A V = b\n",
    "    b      : RHS of the problem A V = b\n",
    "    V0     : initial vector in the method\n",
    "    it_max : maximum number of iterations\n",
    "    TOL    : use || A V^k - b || < TOL as a stopping criteria \n",
    "    \n",
    "    returns:\n",
    "    V       : the solution at the end of the iterations\n",
    "    tab_err : array of the || A V^k - b ||^2 at every iteration\n",
    "    \"\"\"\n",
    "    \n",
    "    # initializations\n",
    "    V_new   = np.copy(V0)\n",
    "    V       = np.copy(V_new)\n",
    "    tab_err = np.zeros(it_max)\n",
    "            \n",
    "    # construction of the matrices\n",
    "    #...\n",
    "    \n",
    "    # convergence loop\n",
    "    #...\n",
    "    \n",
    "    return V, tab_err[:it_max]"
   ]
  },
  {
   "cell_type": "code",
   "execution_count": 12,
   "metadata": {
    "ExecuteTime": {
     "end_time": "2023-03-31T08:30:37.326979Z",
     "start_time": "2023-03-31T08:30:37.237153Z"
    }
   },
   "outputs": [
    {
     "data": {
      "image/png": "[encoded data removed]",
      "text/plain": [
       "<Figure size 432x288 with 1 Axes>"
      ]
     },
     "metadata": {
      "needs_background": "light"
     },
     "output_type": "display_data"
    }
   ],
   "source": [
    "#parameters\n",
    "N  = 100\n",
    "A  = Construct_Matrix(N)\n",
    "b  = np.ones(N)\n",
    "V0 = np.zeros(N)\n",
    "\n",
    "#solving the system\n",
    "V_PJacobi, err_PJacobi = Incomplete_Cholesky_iterative(A, b, V0)\n",
    "\n",
    "#plot the errors\n",
    "plt.figure(4)\n",
    "plt.yscale(\"log\")\n",
    "plt.xlabel(\"Iteration\")\n",
    "plt.ylabel(\"Error\")\n",
    "plt.plot(err_Jacobi)\n",
    "plt.plot(err_PJacobi)\n",
    "plt.legend([\"Jacobi\",\"Incomplete Cholesky iterative\"])\n",
    "plt.show()"
   ]
  },
  {
   "cell_type": "code",
   "execution_count": 13,
   "metadata": {
    "ExecuteTime": {
     "end_time": "2023-03-31T08:30:37.330407Z",
     "start_time": "2023-03-31T08:30:37.328096Z"
    }
   },
   "outputs": [
    {
     "name": "stdout",
     "output_type": "stream",
     "text": [
      "rho Jacobi = 0.9802960493611248\n",
      "rho IChoIt = Ellipsis\n"
     ]
    }
   ],
   "source": [
    "rho_IChoIt = ...\n",
    "print(f\"rho Jacobi = {rho_Jacobi}\")\n",
    "print(f\"rho IChoIt = {rho_IChoIt}\")"
   ]
  }
 ],
 "metadata": {
  "kernelspec": {
   "display_name": "Python 3 (ipykernel)",
   "language": "python",
   "name": "python3"
  },
  "language_info": {
   "codemirror_mode": {
    "name": "ipython",
    "version": 3
   },
   "file_extension": ".py",
   "mimetype": "text/x-python",
   "name": "python",
   "nbconvert_exporter": "python",
   "pygments_lexer": "ipython3",
   "version": "3.9.7"
  },
  "toc": {
   "base_numbering": 1,
   "nav_menu": {},
   "number_sections": false,
   "sideBar": true,
   "skip_h1_title": false,
   "title_cell": "Table of Contents",
   "title_sidebar": "Contents",
   "toc_cell": false,
   "toc_position": {
    "height": "calc(100% - 180px)",
    "left": "10px",
    "top": "150px",
    "width": "165px"
   },
   "toc_section_display": true,
   "toc_window_display": true
  },
  "varInspector": {
   "cols": {
    "lenName": 16,
    "lenType": 16,
    "lenVar": 40
   },
   "kernels_config": {
    "python": {
     "delete_cmd_postfix": "",
     "delete_cmd_prefix": "del ",
     "library": "var_list.py",
     "varRefreshCmd": "print(var_dic_list())"
    },
    "r": {
     "delete_cmd_postfix": ") ",
     "delete_cmd_prefix": "rm(",
     "library": "var_list.r",
     "varRefreshCmd": "cat(var_dic_list()) "
    }
   },
   "types_to_exclude": [
    "module",
    "function",
    "builtin_function_or_method",
    "instance",
    "_Feature"
   ],
   "window_display": false
  },
  "vscode": {
   "interpreter": {
    "hash": "aee8b7b246df8f9039afb4144a1f6fd8d2ca17a180786b69acc140d282b71a49"
   }
  }
 },
 "nbformat": 4,
 "nbformat_minor": 4
}
