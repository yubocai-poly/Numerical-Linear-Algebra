{
 "cells": [
  {
   "cell_type": "markdown",
   "id": "c497c5c3",
   "metadata": {},
   "source": [
    "# Tutorial 5: Preconditioning"
   ]
  },
  {
   "cell_type": "code",
   "execution_count": 1,
   "id": "843bf737",
   "metadata": {},
   "outputs": [],
   "source": [
    "# Load packages:\n",
    "\n",
    "# this package allows to work efficiently with arrays\n",
    "import numpy as np\n",
    "# this package is used to draw graphs\n",
    "import matplotlib.pyplot as plt"
   ]
  },
  {
   "cell_type": "markdown",
   "id": "a83fde31",
   "metadata": {},
   "source": [
    "We consider a stationnary iterative method that takes the form \n",
    "\n",
    "$$ V^{n+1} = A V^n + b$$\n",
    "\n",
    "with $$A = \\left( \\begin{array}{cc} 1-\\varepsilon & -1 \\\\ 0 & \\frac{1}{2} \\end{array}\\right), \\qquad b = \\left( \\begin{array}{c} 2 \\\\ 1\\end{array} \\right). $$"
   ]
  },
  {
   "cell_type": "markdown",
   "id": "ee07ed84",
   "metadata": {},
   "source": [
    "**Questions 1:**\n",
    "\n",
    "Depending on the value of $\\varepsilon$, is this sequence convergent and what does it converge to? "
   ]
  },
  {
   "attachments": {},
   "cell_type": "markdown",
   "id": "b6e94488",
   "metadata": {},
   "source": [
    "<table>\n",
    "<tr>   \n",
    "<td bgcolor = lightblue ><font color = white >Answer</td>\n",
    "</tr>\n",
    "</table>\n",
    "\n",
    "---\n",
    "From **Corollary 3.3**, the sequence defined iteratively by $V^{n+1}=A V^n+b$ converges for all initialization $V^0 \\in \\mathbb{R}^N$ iff $\\rho(A)<1$.\n",
    "\n",
    "In such a case, $\\lim _{n \\rightarrow \\infty} V^n=(I-A)^{-1} b$.\n",
    "\n",
    "Then, for matrix $A$ above, we have the eigenvalues $\\lambda_1 = 1-\\varepsilon$ and $\\lambda_2 = \\frac{1}{2}$. The spectral radius is then $\\rho(A) = \\max\\left\\{\\left|1-\\varepsilon\\right|, \\left|\\frac{1}{2}\\right|\\right\\}$. Therefore, if $\\left| 1-\\varepsilon \\right|>1$, then the sequence diverges. If $\\left| 1-\\varepsilon \\right|<1$, then the sequence converges to the unique solution of the linear system $A x = b$. We have:\n",
    "$$\n",
    "\\begin{cases}\n",
    "\\varepsilon \\in (-\\infty, 0) \\cap (0, \\infty) \\Rightarrow \\rho(A) > 1 \\Rightarrow \\text{divergence} \\\\\n",
    "\\varepsilon \\in (0, 2) \\Rightarrow \\rho(A) < 1 \\Rightarrow \\text{convergence}\n",
    "\\end{cases}\n",
    "$$\n",
    "We have then:\n",
    "$$\n",
    "I-A = \\left( \\begin{array}{cc} \\varepsilon & 1 \\\\ 0 & \\frac{1}{2} \\end{array}\\right)\n",
    "$$\n",
    "Finally, we have the limit:\n",
    "$$\n",
    "\\lim _{n \\rightarrow \\infty} V^n=(I-A)^{-1} b = \\frac{2}{\\varepsilon} \\begin{pmatrix} \\frac{1}{2} & -1 \\\\ 0 & \\varepsilon \\end{pmatrix} \\begin{pmatrix} 2 \\\\ 1 \\end{pmatrix} = \\frac{2}{\\varepsilon} \\begin{pmatrix} 0 \\\\ \\varepsilon \\end{pmatrix} = \\begin{pmatrix} 0 \\\\ 2 \\end{pmatrix}\n",
    "$$\n",
    "\n",
    "---"
   ]
  },
  {
   "attachments": {},
   "cell_type": "markdown",
   "id": "ef908568",
   "metadata": {},
   "source": [
    "**Question 2:**\n",
    "\n",
    "a) Implement this method in the following function.\n",
    "\n",
    "b) Test it with the parameters above and with an initial value $V^0 = (0,0)^T$, $\\varepsilon = \\frac{1}{2}$ and $k_{max} = 100$ iterations.\n",
    "\n",
    "c) Plot the error $\\|V^n - V^\\infty\\|$ where $V^\\infty$ is the converged value, as a function of $n$.\n",
    "\n",
    "d) Test it again with $\\varepsilon = \\frac{1}{2^{10}}$ and $k_{max} = 10000$ iterations. Plot again the error, and interpret the difference."
   ]
  },
  {
   "cell_type": "code",
   "execution_count": 71,
   "id": "68842fc3",
   "metadata": {},
   "outputs": [],
   "source": [
    "def Stationnary_meth(A, U0, b, k_max):\n",
    "    \"\"\"\n",
    "    Computes the iterations of the stationary iterative method\n",
    "    ----------   \n",
    "    parameters:\n",
    "    A       : matrix of iteration (numpy array of size N,N)\n",
    "    U0      : initial vector of the algorithm (numpy array of size N)\n",
    "    b       : vector on ther right-hand-side (numpy array of size N)\n",
    "    k_max   : number of iterations (integer)\n",
    "    \n",
    "    returns:\n",
    "    U   : vector containing all the iterations (numpy array of size N x k_max)\n",
    "    \"\"\"\n",
    "    U = []\n",
    "    U.append(U0)\n",
    "    for k in range(k_max - 1):\n",
    "        U.append(np.dot(A, U[k]) + b)\n",
    "    U = np.array(U)\n",
    "    U = U.T\n",
    "\n",
    "    return U[0]"
   ]
  },
  {
   "cell_type": "code",
   "execution_count": 73,
   "id": "77d998ba",
   "metadata": {},
   "outputs": [
    {
     "name": "stdout",
     "output_type": "stream",
     "text": [
      "U = \n",
      " [[0.  2.  2.  ... 0.  0.  0. ]\n",
      " [0.  1.  1.5 ... 2.  2.  2. ]]\n",
      "The size of U is  (2, 10000)\n"
     ]
    }
   ],
   "source": [
    "# Test your algorithm here\n",
    "###\n",
    "epsilon = 1 / 2\n",
    "A = np.array([[1 - epsilon, -1], [0, 1 / 2]])\n",
    "b = np.array([[2], [1]])\n",
    "###\n",
    "\n",
    "U0 = np.array([[0], [0]])\n",
    "k_max = 10000\n",
    "U = Stationnary_meth(A, U0, b, k_max)\n",
    "print('U = \\n', U)\n",
    "print('The size of U is ', U.shape)"
   ]
  },
  {
   "cell_type": "code",
   "execution_count": 82,
   "id": "7587e43d",
   "metadata": {},
   "outputs": [
    {
     "data": {
      "text/plain": [
       "<Figure size 432x288 with 0 Axes>"
      ]
     },
     "metadata": {},
     "output_type": "display_data"
    },
    {
     "data": {
      "image/png": "[encoded data removed]",
      "text/plain": [
       "<Figure size 720x504 with 1 Axes>"
      ]
     },
     "metadata": {
      "needs_background": "light"
     },
     "output_type": "display_data"
    }
   ],
   "source": [
    "# c) plot norm(V_n - V_inf) as a function of n\n",
    "def norm_V(A, U0, b, k_max):\n",
    "    V = Stationnary_meth(A, U0, b, k_max)\n",
    "    V_inf = np.array([[0], [2]])\n",
    "    norm_V = np.linalg.norm(V - V_inf, axis=0)\n",
    "    return norm_V\n",
    "\n",
    "\n",
    "k_max = 100\n",
    "norm_list = norm_V(A, U0, b, k_max)\n",
    "# plot norm(V_n - V_inf) as a function of n\n",
    "plt.figure()\n",
    "plt.figure(figsize=(10, 7))\n",
    "plt.plot(norm_list)\n",
    "plt.xlabel('n')\n",
    "plt.ylabel(r'$\\|V^{n}-V^{\\infty}\\|$')\n",
    "plt.title('Convergence of the stationary iterative method')\n",
    "plt.show()\n"
   ]
  },
  {
   "cell_type": "code",
   "execution_count": 83,
   "id": "b09b5596",
   "metadata": {},
   "outputs": [
    {
     "data": {
      "text/plain": [
       "<Figure size 432x288 with 0 Axes>"
      ]
     },
     "metadata": {},
     "output_type": "display_data"
    },
    {
     "data": {
      "image/png": "[encoded data removed]",
      "text/plain": [
       "<Figure size 720x504 with 1 Axes>"
      ]
     },
     "metadata": {
      "needs_background": "light"
     },
     "output_type": "display_data"
    }
   ],
   "source": [
    "# d)\n",
    "epsilon = 1 / 2**10\n",
    "A = np.array([[1 - epsilon, -1], [0, 1 / 2]])\n",
    "k_max = 10000\n",
    "norm_list = norm_V(A, U0, b, k_max)\n",
    "# plot norm(V_n - V_inf) as a function of n\n",
    "plt.figure()\n",
    "plt.figure(figsize=(10, 7))\n",
    "plt.plot(norm_list)\n",
    "plt.xlabel('n')\n",
    "plt.ylabel(r'$\\|V^{n}-V^{\\infty}\\|$')\n",
    "plt.title('Convergence of the stationary iterative method')\n",
    "plt.show()"
   ]
  },
  {
   "attachments": {},
   "cell_type": "markdown",
   "id": "16271e5b",
   "metadata": {},
   "source": [
    "**Question 3:**\n",
    "\n",
    "Now we replace the matrix $A$ and the vector $b$ by\n",
    "\n",
    "$$\\tilde{A} = \\left( \\begin{array}{cc} 0 & -\\frac{1}{\\varepsilon} \\\\ 0 & 0 \\end{array}\\right), \\qquad \\tilde{b} = \\left( \\begin{array}{c} \\frac{2}{\\varepsilon} \\\\ 2 \\end{array} \\right). $$\n",
    "\n",
    "a) Show that there exists a diagonal invertible matrix $D$ such that the problem in 1) correponds to \n",
    "\n",
    "$$\\tilde{A} = I - D (Id-A), \\qquad \\tilde{b} = D b.$$\n",
    "\n",
    "b) Deduce that $V^n$ converges toward the same solution as earlier, but faster."
   ]
  },
  {
   "attachments": {},
   "cell_type": "markdown",
   "id": "612f36b9",
   "metadata": {},
   "source": [
    "<table>\n",
    "<tr>   \n",
    "<td bgcolor = lightblue ><font color = white >Answer</td>\n",
    "</tr>\n",
    "</table>\n",
    "\n",
    "---\n",
    "a) Since D is a diagonal invertible matrix, we assume $D=\\begin{pmatrix}a & 0 \\\\ 0 & b\\end{pmatrix}$. From the equation $\\tilde{b} = D b$, we got \n",
    "$$\n",
    "\\begin{pmatrix}a & 0 \\\\ 0 & b\\end{pmatrix} \\begin{pmatrix} 2 \\\\ 1\\end{pmatrix} = \\begin{pmatrix} \\frac{2}{\\varepsilon} \\\\ 2\\end{pmatrix}\n",
    "$$\n",
    "Then we got:\n",
    "$$\n",
    "\\begin{cases}\n",
    "a = \\frac{1}{\\varepsilon} \\\\\n",
    "b = 2\n",
    "\\end{cases}\n",
    "$$\n",
    "Then we verify this on equation $\\tilde{A} = I - D (Id-A)$, we have:\n",
    "$$\n",
    "I - D (Id-A) = \\begin{pmatrix} 1 & 0 \\\\ 0 & 1\\end{pmatrix} - \\begin{pmatrix}\\frac{1}{\\varepsilon} & 0 \\\\ 0 & 2\\end{pmatrix} \\begin{pmatrix} \\varepsilon & 1 \\\\ 0 & \\frac{1}{2}\\end{pmatrix} = \\left( \\begin{array}{cc} 0 & -\\frac{1}{\\varepsilon} \\\\ 0 & 0 \\end{array}\\right)\n",
    "$$\n",
    "Then the result is verified by $D=\\begin{pmatrix}\\frac{1}{\\varepsilon} & 0 \\\\ 0 & 2\\end{pmatrix}$\n",
    "\n",
    "b)  We have the computtation:\n",
    "$$\n",
    "\\lim _{n \\rightarrow \\infty} V^n=(I-A)^{-1} b = \\begin{pmatrix} 1 & -\\frac{1}{\\varepsilon} \\\\ 0 & 1 \\end{pmatrix} \\left( \\begin{array}{c} \\frac{2}{\\varepsilon} \\\\ 2 \\end{array} \\right) = \\begin{pmatrix} 0 \\\\ 2 \\end{pmatrix}\n",
    "$$\n",
    "\n",
    "---"
   ]
  },
  {
   "cell_type": "markdown",
   "id": "1e94cfc1",
   "metadata": {},
   "source": [
    "**Question 4:**\n",
    "\n",
    "Test your algorithm with those parameters. How fast doest it converges? "
   ]
  },
  {
   "cell_type": "code",
   "execution_count": 95,
   "id": "15df59f5",
   "metadata": {},
   "outputs": [
    {
     "data": {
      "text/plain": [
       "<Figure size 432x288 with 0 Axes>"
      ]
     },
     "metadata": {},
     "output_type": "display_data"
    },
    {
     "data": {
      "image/png": "[encoded data removed]",
      "text/plain": [
       "<Figure size 720x504 with 1 Axes>"
      ]
     },
     "metadata": {
      "needs_background": "light"
     },
     "output_type": "display_data"
    }
   ],
   "source": [
    "# Test your algorithm here\n",
    "###\n",
    "e = 1 / 2**10\n",
    "A = np.array([[0, -1/epsilon], [0, 0]])\n",
    "b = np.array([[2/epsilon], [2]])\n",
    "###\n",
    "\n",
    "U0 = np.array([[0], [0]])\n",
    "k_max = 10000\n",
    "norm_list = norm_V(A, U0, b, k_max)\n",
    "# plot norm(V_n - V_inf) as a function of n\n",
    "plt.figure()\n",
    "plt.figure(figsize=(10, 7))\n",
    "plt.plot(norm_list)\n",
    "plt.xlabel('n')\n",
    "plt.ylabel(r'$\\|V^{n}-V^{\\infty}\\|$')\n",
    "plt.title('Convergence of the stationary iterative method')\n",
    "plt.show()"
   ]
  },
  {
   "cell_type": "code",
   "execution_count": 94,
   "id": "e998dd3b",
   "metadata": {},
   "outputs": [
    {
     "data": {
      "text/plain": [
       "<Figure size 432x288 with 0 Axes>"
      ]
     },
     "metadata": {},
     "output_type": "display_data"
    },
    {
     "data": {
      "image/png": "[encoded data removed]",
      "text/plain": [
       "<Figure size 720x504 with 1 Axes>"
      ]
     },
     "metadata": {
      "needs_background": "light"
     },
     "output_type": "display_data"
    }
   ],
   "source": [
    "# Test your algorithm here\n",
    "###\n",
    "e = 1 / 2\n",
    "A = np.array([[0, -1/epsilon], [0, 0]])\n",
    "b = np.array([[2/epsilon], [2]])\n",
    "###\n",
    "\n",
    "U0 = np.array([[0], [0]])\n",
    "k_max = 100\n",
    "norm_list = norm_V(A, U0, b, k_max)\n",
    "# plot norm(V_n - V_inf) as a function of n\n",
    "plt.figure()\n",
    "plt.figure(figsize=(10, 7))\n",
    "plt.plot(norm_list)\n",
    "plt.xlabel('n')\n",
    "plt.ylabel(r'$\\|V^{n}-V^{\\infty}\\|$')\n",
    "plt.title('Convergence of the stationary iterative method')\n",
    "plt.show()"
   ]
  },
  {
   "attachments": {},
   "cell_type": "markdown",
   "id": "a02ee793",
   "metadata": {},
   "source": [
    "From the plot above, we can see that the convergence is much faster than the previous one."
   ]
  },
  {
   "cell_type": "markdown",
   "id": "86f0a028",
   "metadata": {
    "chatgpt_cell": "query",
    "chatgpt_language": "",
    "chatgpt_thread": ""
   },
   "source": [
    "##### chat\n",
    "\n",
    "write a function that least_sqaures regressino taking X,y and alpha,"
   ]
  },
  {
   "attachments": {},
   "cell_type": "markdown",
   "id": "0044f158",
   "metadata": {},
   "source": [
    "##### response: 21 seconds elapsed\n",
    "\n",
    "\n",
    "\n",
    "Here's an example implementation of a function that performs least squares regression using Python's NumPy library:\n",
    "\n",
    "```python\n",
    "import numpy as np\n",
    "\n",
    "def least_squares_regression(X, y, alpha):\n",
    "    \"\"\"\n",
    "    Perform least squares regression on the input data X and target variable y,\n",
    "    using the regularization parameter alpha to control the degree of regularization.\n",
    "    Returns the learned model parameters.\n",
    "    \"\"\"\n",
    "    # Add a bias term to X\n",
    "    X = np.hstack([np.ones((X.shape[0], 1)), X])\n",
    "```\n",
    "   "
   ]
  },
  {
   "cell_type": "code",
   "execution_count": 91,
   "id": "147c07e6",
   "metadata": {},
   "outputs": [],
   "source": [
    "def least_squares_regression(X, y, alpha):\n",
    "    \"\"\"\n",
    "    Perform least squares regression on the input data X and target variable y,\n",
    "    using the regularization parameter alpha to control the degree of regularization.\n",
    "    Returns the learned model parameters.\n",
    "    \"\"\"\n",
    "    # Add a bias term to X\n",
    "    X = np.hstack([np.ones((X.shape[0], 1)), X])\n",
    "    # Compute the model parameters\n",
    "    XT_X = np.dot(X.T, X)\n",
    "    XT_y = np.dot(X.T, y)\n",
    "    return np.dot(np.linalg.inv(XT_X + alpha * np.eye(XT_X.shape[0])), XT_y)"
   ]
  }
 ],
 "metadata": {
  "kernelspec": {
   "display_name": "Python 3 (ipykernel)",
   "language": "python",
   "name": "python3"
  },
  "language_info": {
   "codemirror_mode": {
    "name": "ipython",
    "version": 3
   },
   "file_extension": ".py",
   "mimetype": "text/x-python",
   "name": "python",
   "nbconvert_exporter": "python",
   "pygments_lexer": "ipython3",
   "version": "3.9.7"
  },
  "toc": {
   "base_numbering": 1,
   "nav_menu": {},
   "number_sections": false,
   "sideBar": true,
   "skip_h1_title": false,
   "title_cell": "Table of Contents",
   "title_sidebar": "Contents",
   "toc_cell": false,
   "toc_position": {
    "height": "calc(100% - 180px)",
    "left": "10px",
    "top": "150px",
    "width": "624px"
   },
   "toc_section_display": true,
   "toc_window_display": false
  },
  "varInspector": {
   "cols": {
    "lenName": 16,
    "lenType": 16,
    "lenVar": 40
   },
   "kernels_config": {
    "python": {
     "delete_cmd_postfix": "",
     "delete_cmd_prefix": "del ",
     "library": "var_list.py",
     "varRefreshCmd": "print(var_dic_list())"
    },
    "r": {
     "delete_cmd_postfix": ") ",
     "delete_cmd_prefix": "rm(",
     "library": "var_list.r",
     "varRefreshCmd": "cat(var_dic_list()) "
    }
   },
   "types_to_exclude": [
    "module",
    "function",
    "builtin_function_or_method",
    "instance",
    "_Feature"
   ],
   "window_display": false
  },
  "vscode": {
   "interpreter": {
    "hash": "40d3a090f54c6569ab1632332b64b2c03c39dcf918b08424e98f38b5ae0af88f"
   }
  }
 },
 "nbformat": 4,
 "nbformat_minor": 5
}
