{
 "cells": [
  {
   "cell_type": "markdown",
   "metadata": {},
   "source": [
    "# Final exam"
   ]
  },
  {
   "cell_type": "code",
   "execution_count": 1,
   "metadata": {},
   "outputs": [],
   "source": [
    "# Load packages:\n",
    "\n",
    "# this package allows to work efficiently with arrays\n",
    "import numpy as np\n",
    "# this package provides some tools of linear algebra. We can use them to simplify certain algorithms and for comparisons.\n",
    "from scipy.linalg import norm"
   ]
  },
  {
   "cell_type": "markdown",
   "metadata": {},
   "source": [
    "---\n",
    "\n",
    "**NAME:**\n",
    "\n",
    "---\n",
    "\n",
    "**Instructions before starting:** \n",
    "- The materials from the lecture and the previous tutorial are allowed. But <font color=red>you are **not allowed to communicate or to exchange files**</font> (Moodle uses tools to prevent from plagiarism). \n",
    "- The **clarity** and the organization of the work are taken into account during the correction. \n",
    "- Before uploading your notebook on moodle, do **Kernel/restart and clear output**. And **verify that your code is running cell after cell.**\n",
    "- The notebook is long and it is **not necessary to finish all the questions** to obtain optimal grade. \n",
    "- The theoretical questions should be answered **in the notebook**! In order to help you typing mathematical formulae, you will find a few commands in the next cell some that you can copy-paste. \n",
    "- The notebook should be uploaded back on moodle **before 10**! Take your precautions. \n",
    "- Before uploading the notebook, do **Kernel/Restart and clear output**. Your code should run cell after cell. "
   ]
  },
  {
   "cell_type": "markdown",
   "metadata": {},
   "source": [
    "---\n",
    "\n",
    "(Double click on this cell to edit it)\n",
    " \n",
    "**Commands for mathematical formulae:**\n",
    "- Open a formulae $math formula$ (between dolars) or long formulae $$math formula$$ (between double dollars)\n",
    "- Fraction $$\\frac{a}{b}$$\n",
    "- Square root $$\\sqrt{\\frac{a}{b}}$$\n",
    "- Open and close a long parenthesis $$\\left(\\sqrt{\\frac{a}{b}} \\right)$$\n",
    "- Indices: down $A_{i,j,k}$ (between brackets for several letters) or top $A^{i,j,k}$\n",
    "- Matrices: a matrix is an array between parenthesis. Arrays required a second argument, that is the number of columns and how to align the formula within a column (c=center, l=left, r=right). Every column component is separated by a \\& and every line is separated by two '\\'. For example, \n",
    "    $$A = \\left( \\begin{array}{cc} 1 & 2 \\\\ 3 & 4\\end{array}\\right), \\qquad\n",
    "    B = \\left( \\begin{array}{ccc} 1 & 2 & 8 \\\\ 3 & 4 & 2 \\end{array}\\right), \\qquad \n",
    "    D = \\left( \\begin{array}{cc} 1 & 2 \\\\ 3 & 4 \\\\ 5 &  6\\end{array}\\right) $$\n",
    "    You can also define it componentwise $A_{i,j} = i + j$ for $i=1,\\dots,N$ and $j=1,\\dots,N$ \n",
    "- Align equations with  \n",
    "  \\begin{align} \n",
    "  a &= b \\\\ \n",
    "  &=c \\\\ \n",
    "  &\\neq d\n",
    "  \\end{align} \n",
    "  \n",
    "(ctrl + Enter to run it)"
   ]
  },
  {
   "cell_type": "markdown",
   "metadata": {},
   "source": [
    "---\n",
    "\n",
    "---\n",
    "\n",
    "## Exercise"
   ]
  },
  {
   "cell_type": "markdown",
   "metadata": {},
   "source": [
    "Consider the matrix \n",
    "\n",
    "$$ A = \\left( \\begin{array}{cccccc} \n",
    "0 & 0 & a & b & 0 & 0 \\\\\n",
    "0 & 0 & c & d & 0 & 0 \\\\\n",
    "e & f & 0 & 0 & 0 & 0 \\\\ \n",
    "g & h & 0 & 0 & 0 & 0 \\\\\n",
    "0 & 0 & 0 & 0 & i & j \\\\\n",
    "0 & 0 & 0 & 0 & k & l\n",
    "\\end{array}\\right) $$\n",
    "\n",
    "1) Compute its determinant. \n",
    "\n",
    "*Hints:* You may introduce intermediate determinants that can also be used in the next question."
   ]
  },
  {
   "cell_type": "markdown",
   "metadata": {},
   "source": [
    "**Answer:**\n",
    "We devide $A$ into 9 parts. Denote $A_1 = A_3 = A_5 = A_6 = A_7 = A_8 = \\left( \\begin{array}{cc} 0 & 0  \\\\ 0 & 0 \\end{array}\\right), A_2 = \\left( \\begin{array}{cc} a & b  \\\\ c & d \\end{array}\\right), A_4 = \\left( \\begin{array}{cc} e & f  \\\\ g & h \\end{array}\\right), A_9 = \\left( \\begin{array}{cc} i & j  \\\\ k & l \\end{array}\\right)$.\n",
    "\n",
    "We have $det(A_i) = 0 \\quad \\forall i \\in \\{1, 3,5,6,7,8\\}.$\n",
    "\n",
    "Then $det(A) =  det(A_2) * det(A_4) * det(A_9) = -(ad -bc)(eh-gf)(il-jk)$."
   ]
  },
  {
   "cell_type": "markdown",
   "metadata": {},
   "source": [
    "2) Assuming $det(A)\\neq 0$, use Cramer rule to compute its inverse. Explain the simplifications. "
   ]
  },
  {
   "cell_type": "markdown",
   "metadata": {},
   "source": [
    "**Answer:** \n",
    "\n",
    "We compute the comatrix of $A$ based on the previous devided $A$. We know that $Com(A)$ does not zero entry only if it require to compute the product of two non-zero matrices, i.e. at position of $A_2$, $A_4$ and $A_9$. Then we computye these 12 non-zero entries individually. \n",
    "\n",
    "$Com(A)_{1, 3} = d * det(A_4) * det(A_9)$\n",
    "$Com(A)_{1, 4} = -c * det(A_4) * det(A_9)$\n",
    "\n",
    "We found the pattern: for entries in position A_2, the entry is the diagonal position in A_2, times the sign of this entry according to pairity, and times determinant of A_4 and that of A_9. \n",
    "\n",
    "We take the transpose of comatrix and get\n",
    "\n",
    "\n",
    "$$A^{-1} = \\frac{1}{-(ad -bc)(eh-gf)(il-jk)} \\left(\\begin{array}{cccccc} \n",
    "    0      & 0      & d(eh-gf)(il-jk)       & -c(eh-gf)(il-jk)      & 0      & 0     \\\\\n",
    "    0      & 0      & -b(eh-gf)(il-jk)      & a(eh-gf)(il-jk)      & 0      & 0     \\\\\n",
    "    h(ad -bc)(il-jk)      & -g(ad -bc)(il-jk)      & 0      & 0      & 0      & 0     \\\\\n",
    "    -f(ad -bc)(il-jk)      & e(ad -bc)(il-jk)      & 0      & 0      & 0      & 0     \\\\\n",
    "    0      & 0      & 0      & 0      & l(ad -bc)(eh-gf)     & -k(ad -bc)(eh-gf)     \\\\\n",
    "    0      & 0      & 0      & 0      & -j(ad -bc)(eh-gf)      & i(ad -bc)(eh-gf) \n",
    "\\end{array}\\right)$$\n",
    "\n"
   ]
  },
  {
   "cell_type": "markdown",
   "metadata": {},
   "source": [
    "---\n",
    "\n",
    "---\n",
    "\n",
    "## Problem\n",
    "\n",
    "### Another decomposition\n",
    "\n",
    "In this part, we construct an algorithm to decompose a matrix $A \\in \\mathbb{R}^{N\\times N}$ under the form \n",
    "\n",
    "$$ A = Q H Q^T, \\qquad (1)$$\n",
    "\n",
    "where $Q \\in \\mathbb{R}^{N\\times N}$ is orthogonal (i.e. $Q^{-1} = Q^T$) and $H$ satisfies $H_{i,j} = 0$ for all $i>j+1$, i.e. all the coefficients below the subdiagonal are 0 or equivalently it is of the form\n",
    "\n",
    "$$ H = \\left( \\begin{array}{cccccc} \n",
    "H_{1,1} & H_{1,2} & \\dots  & \\dots     & H_{1,N} \\\\ \n",
    "H_{2,1} & H_{2,2} &        &           & H_{2,N} \\\\ \n",
    "0       & H_{3,2} & \\ddots &           & H_{3,N} \\\\ \n",
    "\\vdots  & \\ddots  & \\ddots & \\ddots    & \\vdots \\\\ \n",
    "0       & \\dots   & 0      & H_{N,N-1} & H_{N,N} \\\\ \n",
    "\\end{array}\\right).$$"
   ]
  },
  {
   "cell_type": "markdown",
   "metadata": {},
   "source": [
    "1) Let us denote $q^i$ the i-th column of $Q$. What is the value of the dot product $(q^i)^T (q^j)$ for $i\\neq j$ and for $i = j$? "
   ]
  },
  {
   "cell_type": "markdown",
   "metadata": {},
   "source": [
    "**Answer:**\n",
    "\n",
    "Since $Q$ is orthogonal, $Q^T Q = I$.\n",
    "\n",
    "Therefore, $(q^i)^T (q^j) = 1$ for $i = j$ and $(q^i)^T (q^j) = 0$ for $i \\neq j$"
   ]
  },
  {
   "cell_type": "markdown",
   "metadata": {},
   "source": [
    "2) **Computation of the first two columns of Q and the first column of H:**\n",
    "\n",
    "Since $Q$ is orthogonal, finding $Q$ and $H$ satisfying (1) is equivalent to finding them satisfying \n",
    "\n",
    "$$A Q = Q H. \\qquad (2)$$ \n",
    "\n",
    "Let us choose $q^1 \\in \\mathbb{R}^N$ such that $\\|q^1\\| = 1$. We seek a second vector $q^2$ orthogonal to $q^1$ and such that $\\|q^2\\| = 1$. \n",
    "\n",
    "a) Using Equation (2), express $A q^1$ as a function of $q^1$, $q^2$ and the coefficients $H_{i,j}$. \n",
    "\n",
    "b) Since we seek a vector $q^2$ orthogonal $q^1$, deduce the value of $H_{1,1}$.  \n",
    "\n",
    "c) Provide a vector $\\tilde{q^2}$ orthogonal to $q^1$  Express it as a function of $A$, $q^1$ and $H_{1,1}$.\n",
    "\n",
    "d) Finally, provide a vector $q^2$ that satisfies the condition in 1) and a coefficient $H_{2,1}$. "
   ]
  },
  {
   "cell_type": "markdown",
   "metadata": {},
   "source": [
    "**Answer:** \n",
    "\n",
    "a) $Aq^1$ is the first column of the matrix (AQ). It is then equal to the first column of $QH$. \n",
    "\n",
    "Then $Aq^1 = H_{1,1}q^1 + H_{2,1}q^2$.\n",
    "\n",
    "b) We multiply both side of the previous equation by $(q^1)^T$, and get $H_{1,1} = (q^1)^TAq^1$\n",
    "\n",
    "c) We solve that $q^2 =\\frac{A-H{1,1}I}{H{2,1}}q^1.$ We have $\\tilde{q^2} =(A-H{1,1}I)q_1$ which is orthogonal to $q^1$. \n",
    "\n",
    "d) To satisfy (1), we need to normalize $\\tilde{q^2}$. Therefore we let $H{2,1} = ||\\tilde{q^2}||$, and get the required $q^2 =\\frac{(A-H{1,1}I)}{\\|(A-A{1,1}I)q_1\\|}q^1$."
   ]
  },
  {
   "cell_type": "markdown",
   "metadata": {},
   "source": [
    "3) **Iteration: Computation of the $k+1$-th column of Q and the $k$-th column of H:**\n",
    "\n",
    "Suppose that we know the $k$ first columns $(q^i)_{i=1,\\dots,k}$ of the orthogonal matrix $Q$ and $k-1$ first columns of $H$.  \n",
    " \n",
    "a) Using Equation (2), express $A q^k$ as a function of the columns $q^i$ for $i = 1, \\dots, k+1$ and the coefficients $H_{i,j}$ for $i=1,\\dots, k$. \n",
    "\n",
    "b) Since we seek a vector $q^{k+1}$ orthogonal to all $q^i$ for $i=1,\\dots,k$, deduce the value of $H_{i,k}$.  \n",
    "\n",
    "c) Provide a vector $\\tilde{q^{k+1}}$ orthogonal to $(q^i)_{i=1,\\dots,k}$. Express it as a function of $A$, $q^i$ for $i=1,\\dots,k$ and $H_{i,j}$ \n",
    "\n",
    "d) Finally, provide a vector $q^{k+1}$ that satisfies the condition in 1) and a coefficient $H_{k+1,k}$. \n",
    "\n",
    "**Remark** that at the last step, when $k=N$, then $H_{k+1,k}$ is out of the matrix.  "
   ]
  },
  {
   "cell_type": "markdown",
   "metadata": {},
   "source": [
    "**Answer:**\n",
    "\n",
    "a)$Aq^k$ is the kth column of the matrix (AQ). It is then equal to the kth column of $QH$. \n",
    "\n",
    "Then $Aq^k = \\sum_{i=1}^{k+1} H_{i,k}q^i$.\n",
    "\n",
    "b) We multiply both side of the previous equation by $(q^k)^T$, and get $H_{i,k} = (q^k)^TAq^k \\quad \\forall i = 1, .., k$\n",
    "\n",
    "c) We solve that $q^{k+1} =\\frac{(A-H{k,1}I)q^k - \\sum_{i=1}^{k-1} H_{i,k}q^i)}{H{k+1,1}}.$ We have $\\tilde{q^2} =(A-H{k,1}I)q^k - \\sum_{i=1}^{k-1} H_{i,k}q^i)$ which is orthogonal to $(q^i)_{i=1,\\dots,k}$. \n",
    "\n",
    "d) To satisfy (1), we need to normalize $\\tilde{q^{k+1}}$. Therefore we let $H{2,1} = ||\\tilde{q^{k+1}}||$, and get the required $q^{k+1}$. \n"
   ]
  },
  {
   "cell_type": "markdown",
   "metadata": {},
   "source": [
    "### Implementation"
   ]
  },
  {
   "cell_type": "markdown",
   "metadata": {},
   "source": [
    "In this part, we assume that no forbidden operations occure. \n",
    "\n",
    "1) In the test below, we will use the following matrix\n",
    "\n",
    "$$A = \\left(\\begin{array}{ccc} 19 & -4 & 1 \\\\ -1 & -5 & -1 \\\\ -5 & -7 & 13 \\end{array}\\right), $$\n",
    "\n",
    "with the first column $q^1 = \\frac{1}{3}\\left(\\begin{array}{c}2 \\\\ 1 \\\\ 2 \\end{array}\\right)$.\n",
    "\n",
    "With these parameters, compute :\n",
    "\n",
    "a) $A q^1$\n",
    "\n",
    "b) $H_{1,1}$\n",
    "\n",
    "c) $\\tilde{q^2}$\n",
    "\n",
    "d) $H_{2,1}$\n",
    "\n",
    "e) $q^2$\n",
    "\n",
    "*Hints:* you are allowed to use python to perform matrix products. "
   ]
  },
  {
   "cell_type": "code",
   "execution_count": 5,
   "metadata": {},
   "outputs": [
    {
     "name": "stdout",
     "output_type": "stream",
     "text": [
      "Aq1 =  [12. -3.  3.]\n",
      "H11 =  18.0\n",
      "tilq2 =  [-3.  3. -3.]\n",
      "H21 =  5.196152422706632\n",
      "q2 =  [-0.57735027  0.57735027 -0.57735027]\n"
     ]
    }
   ],
   "source": [
    "### you may use this code cell\n",
    "\n",
    "#initialization \n",
    "A = np.array([[19, -4, 1], [-1, -5, -1], [-5, -7, 13]])\n",
    "q1 = np.array([2/3, 1/3, 2/3])\n",
    "n = len(A)\n",
    "\n",
    "#a\n",
    "Aq1 = np.dot(A, q1)\n",
    "print(\"Aq1 = \", Aq1)\n",
    "\n",
    "#b\n",
    "H11 = Aq1[0]/q1[0]\n",
    "print(\"H11 = \", H11)\n",
    "\n",
    "#c\n",
    "tilq2 = np.dot(Aq1 - H11*np.eye(n), q1)\n",
    "print(\"tilq2 = \", tilq2)\n",
    "\n",
    "#d\n",
    "H21 = np.linalg.norm(tilq2)\n",
    "print(\"H21 = \", H21)\n",
    "\n",
    "#e\n",
    "q2 = tilq2/H21\n",
    "print(\"q2 = \", q2)\n"
   ]
  },
  {
   "cell_type": "markdown",
   "metadata": {},
   "source": [
    "**Answer:**\n",
    "\n",
    "a) $A q^1 = (12, -3, 3)$\n",
    "\n",
    "b) $H_{1,1} = 18$\n",
    "\n",
    "c) $\\tilde{q^2} = (-3, 3, -3)$\n",
    "\n",
    "d) $H_{2,1} = 5.196152422706632$\n",
    "\n",
    "e) $q^2 = (-0.57735027  0.57735027 -0.57735027)$\n"
   ]
  },
  {
   "cell_type": "markdown",
   "metadata": {},
   "source": [
    "2) a) Implement a function that performs the algorithm of the last section and returns the matrices $H$ and $Q$ such that $H$. \n",
    "\n",
    "*Hints:* Since $H_{N+1,N}$ is out of the matrix $H$, the last step (computation of the $H_{i,N}$) needs to be computed out of the loop. \n",
    "\n",
    "b) Test it with the matrix in 1) and verify that\n",
    "- you obtain the same values as in 1). \n",
    "- the matrix $Q$ is orthogonal.\n",
    "- the matrix $H$ has the desired shape (some coefficients should be zero).\n",
    "- the resulting matrix satisfies $AQ = Q H$."
   ]
  },
  {
   "cell_type": "code",
   "execution_count": 10,
   "metadata": {},
   "outputs": [],
   "source": [
    "# a)\n",
    "def QTHQ_decomp(A, q1):\n",
    "    \"\"\"\n",
    "    Computes the matrices H and Q with the previous algorithm \n",
    "    ----------   \n",
    "    parameters:\n",
    "    A      : matrix in the equation AQ = QH (numpy array of size N,N)\n",
    "    q1     : 1st column vector in Q (normalized or not! ; numpy array of size N)\n",
    "    \n",
    "    returns:\n",
    "    H      : matrix in the decomposition AQ = QH such that H_{i,j} = 0 for i>j+1 (numpy array of size N,N)\n",
    "    Q      : orthogonal matrix in the decomposition AQ = QH (numpy array of size N,N)\n",
    "    \"\"\"\n",
    "    \n",
    "    Q      = np.zeros(np.shape(A))\n",
    "    H      = np.zeros(np.shape(A))\n",
    "    n = len(A)\n",
    "   \n",
    "    Q[0] = q1/ np.linalg.norm(q1)\n",
    "    \n",
    "    \n",
    "    \n",
    "    for k in range(n):\n",
    "        Aq = np.dot(A, Q[k])\n",
    "        for i in range(k):\n",
    "            H[k, i] = np.dot(Q[k].T, np.dot(A,Q[k]))\n",
    "        \n",
    "\n",
    "        tilq2 = np.dot(Aq[k] - H[k, k]*np.eye(n), Q[k]) - sum([H[k,i]*Q[i] for i in range(k)])\n",
    "        \n",
    "        if k+1<n:\n",
    "    \n",
    "            H[k+1,k] = np.linalg.norm(tilq2)\n",
    "\n",
    "            Q[k+1] = tilq2/H[k+1,k]\n",
    "\n",
    "    \n",
    "        \n",
    "    return H, Q"
   ]
  },
  {
   "cell_type": "code",
   "execution_count": 11,
   "metadata": {},
   "outputs": [
    {
     "name": "stdout",
     "output_type": "stream",
     "text": [
      "H: [[0.         0.         0.        ]\n",
      " [3.33333333 0.         0.        ]\n",
      " [4.57842675 4.57842675 0.        ]]\n",
      "Q: [[ 0.66666667  0.33333333  0.66666667]\n",
      " [ 0.57735027  0.57735027  0.57735027]\n",
      " [-0.6004569  -0.5281127  -0.6004569 ]]\n",
      "A: [[19 -4  1]\n",
      " [-1 -5 -1]\n",
      " [-5 -7 13]]\n",
      "QH: [[ 4.16339561  3.0522845   0.        ]\n",
      " [ 4.56785682  2.64335592  0.        ]\n",
      " [-4.50952359 -2.74914794  0.        ]]\n"
     ]
    }
   ],
   "source": [
    "# b)\n",
    "### Test your algorithm here\n",
    "A = np.array([[19, -4, 1], [-1, -5, -1], [-5, -7, 13]])\n",
    "q1 = np.array([2/3, 1/3, 2/3])\n",
    "\n",
    "H, Q = QTHQ_decomp(A, q1)\n",
    "print(\"H:\", H)\n",
    "print(\"Q:\", Q)\n",
    "print(\"A:\", A)\n",
    "print(\"QH:\", Q @ H)"
   ]
  },
  {
   "cell_type": "markdown",
   "metadata": {},
   "source": [
    "**Final remark:** This technique is based on multiplications by orthogonal matrix. It offers good numerical stability, e.g. because such multiplications preserve the norm. It is therefore a key element of some of the most popular modern linear solvers."
   ]
  }
 ],
 "metadata": {
  "kernelspec": {
   "display_name": "Python 3",
   "language": "python",
   "name": "python3"
  },
  "language_info": {
   "codemirror_mode": {
    "name": "ipython",
    "version": 3
   },
   "file_extension": ".py",
   "mimetype": "text/x-python",
   "name": "python",
   "nbconvert_exporter": "python",
   "pygments_lexer": "ipython3",
   "version": "3.11.1"
  },
  "toc": {
   "base_numbering": 1,
   "nav_menu": {},
   "number_sections": true,
   "sideBar": true,
   "skip_h1_title": true,
   "title_cell": "Table of Contents",
   "title_sidebar": "Contents",
   "toc_cell": false,
   "toc_position": {
    "height": "calc(100% - 180px)",
    "left": "10px",
    "top": "150px",
    "width": "165px"
   },
   "toc_section_display": true,
   "toc_window_display": true
  },
  "vscode": {
   "interpreter": {
    "hash": "aee8b7b246df8f9039afb4144a1f6fd8d2ca17a180786b69acc140d282b71a49"
   }
  }
 },
 "nbformat": 4,
 "nbformat_minor": 5
}
