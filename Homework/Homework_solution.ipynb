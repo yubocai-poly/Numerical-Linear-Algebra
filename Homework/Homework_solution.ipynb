{
 "cells": [
  {
   "cell_type": "markdown",
   "id": "sticky-painting",
   "metadata": {},
   "source": [
    "# Homework:"
   ]
  },
  {
   "cell_type": "markdown",
   "id": "4d19979a",
   "metadata": {},
   "source": [
    "---\n",
    "\n",
    "**NAME:**\n",
    "\n",
    "\n",
    "**Instructions:** \n",
    "- The clarity (clean writing) and the organization of the work (numbering the questions appropriately) are taken into account during the correction. \n",
    "- Before uploading your notebook, **Kernel/restart and clear output**. And **verify that your code is running cell after cell.**\n",
    "- This homework is **optional**. It counts at most as 4 **bonus** points on the final grade (over 20) of the course (capped at 20). It must be uploaded back on moodle **BEFORE** the 12th of March at 8PM (Paris time) to be counted, no delay will be accepted. \n",
    "\n",
    "---"
   ]
  },
  {
   "cell_type": "code",
   "execution_count": 1,
   "id": "wicked-candidate",
   "metadata": {},
   "outputs": [],
   "source": [
    "# Load packages:\n",
    "\n",
    "# this package allows to work efficiently with arrays\n",
    "import numpy as np\n",
    "# this package is used to draw graphs\n",
    "import matplotlib.pyplot as plt"
   ]
  },
  {
   "cell_type": "markdown",
   "id": "83f24694",
   "metadata": {},
   "source": [
    "## Exercise"
   ]
  },
  {
   "cell_type": "markdown",
   "id": "5d530392",
   "metadata": {},
   "source": [
    "Consider the matrices \n",
    "\n",
    "$$A = \\left(\\begin{array}{ccc} 1 & 0 & 0 \\\\ 2 & 3 & 0 \\\\ 4 & 5 & 6\\end{array}\\right), \\qquad \n",
    "  B = \\left(\\begin{array}{ccc} 1 & 2 & 1 \\\\ 2 & 5 & 4 \\\\ 1 & 4 & 6\\end{array}\\right), $$\n",
    "and the vector $b = \\left(\\begin{array}{c} 1 \\\\ 1 \\\\ 1\\end{array}\\right)$.\n",
    "\n",
    "1) Write down the steps of the forward substitution algorithm to solve the problem $AV = b$. \n",
    "\n",
    "2) Write down the steps of the Cholesky algorithm to decompose the matrix $B = L L^T$. "
   ]
  },
  {
   "cell_type": "markdown",
   "id": "e26a188d",
   "metadata": {},
   "source": [
    "**Answer**:\n",
    "\n",
    "1) $V_1 = \\frac{b_1}{A_{1,1}} = \\frac{1}{1} = 1$ \n",
    "\n",
    "$V_2 = \\frac{b_2 - A_{2,1}b_1}{A_{2,2}} = \\frac{1-2\\times 1}{3}= -\\frac{1}{3}$\n",
    "\n",
    "$V_3 = \\frac{b_3 - A_{3,1}b_1 - A_{3,2} b_2}{A_{3,3}} = \\frac{1-4\\times 1-5\\times\\frac{-1}{3}}{6}= \\frac{3 - 12 +5}{3\\times6} = -\\frac{2}{9}$\n",
    "\n",
    "Thus $V = (1,-\\frac{1}{3},-\\frac{2}{9})^T$.\n",
    "\n",
    "2) 1st step:\n",
    "$L_{1,1} = \\sqrt{B_{1,1}} = 1$\n",
    "        \n",
    "$L_{2,1} = \\frac{B_{2,1}}{L_{1,1}} = \\frac{2}{1} = 2$ \n",
    "    \n",
    "$L_{3,1} = \\frac{B_{3,1}}{L_{1,1}} = \\frac{1}{1} = 1$\n",
    "    \n",
    "2nd step: $L_{2,2} = \\sqrt{B_{2,2} - L_{2,1}^2} = \\sqrt{5-2^2} = 1$\n",
    "        \n",
    "$L_{3,2} = \\frac{B_{3,2}-L_{3,1}L_{2,1}}{L_{2,2}} = \\frac{4-1\\times2}{1} = 2$ \n",
    "    \n",
    "3rd step:  $L_{3,3} = \\sqrt{B_{3,3} - L_{3,1}^2 - L_{3,2}^2} = \\sqrt{6-2^2-1^2} = 1$\n",
    "\n",
    "Thus $L = \\left(\\begin{array}{ccc} 1 & 0 & 0 \\\\ 2 & 1 & 0 \\\\ 1 & 2 & 1 \\end{array}\\right)$"
   ]
  },
  {
   "cell_type": "markdown",
   "id": "580da14a",
   "metadata": {},
   "source": [
    "## Problem"
   ]
  },
  {
   "cell_type": "markdown",
   "id": "interracial-producer",
   "metadata": {},
   "source": [
    "**Definition:** A matrix $S$ is orthogonal if it is invertible and its inverse satisfies $S^{-1} = S^T$. "
   ]
  },
  {
   "cell_type": "markdown",
   "id": "certified-voluntary",
   "metadata": {},
   "source": [
    "The goal of this tutorial is to construct an algorithm providing a decomposition of a matrix $A = S U$ into the product of an orthogonal matrix $S$ and an upper triangular one $U$. "
   ]
  },
  {
   "cell_type": "markdown",
   "id": "exotic-dryer",
   "metadata": {},
   "source": [
    "---\n",
    "\n",
    "### Preliminary computations on orthogonal matrices"
   ]
  },
  {
   "cell_type": "markdown",
   "id": "greater-booth",
   "metadata": {},
   "source": [
    "1) a) Consider an orthogonal matrix $S$. What values can $det(S)$ have?\n",
    "\n",
    "b) Are all matrices satisfying this property orthogonal? Prove it or give a counterexample. "
   ]
  },
  {
   "cell_type": "markdown",
   "id": "brown-chemical",
   "metadata": {},
   "source": [
    "**Answer:** \n",
    "\n",
    "a) $det(S) = \\pm 1$\n",
    "\n",
    "b) No, the matrix $Diag(a,a^{-1})$ is not orthogonal. "
   ]
  },
  {
   "cell_type": "markdown",
   "id": "possible-vertical",
   "metadata": {},
   "source": [
    "2) Prove that the product of orthogonal matrices remains an orthogonal matrix. "
   ]
  },
  {
   "cell_type": "markdown",
   "id": "controversial-accommodation",
   "metadata": {},
   "source": [
    "**Answer:** \n",
    "\n",
    "$$ (S^1 S^2) (S^1 S^2)^T = S^1 (S^2 (S^2)^T) (S^1)^T = S^1 (S^1)^T = Id$$"
   ]
  },
  {
   "cell_type": "markdown",
   "id": "outdoor-spyware",
   "metadata": {},
   "source": [
    "3) Prove that the Euclidean norm of a vector is preserved when multiplying it by an orthogonal matrix $S$, i.e. \n",
    "\n",
    "$$\\|S V\\| = \\|V\\|$$\n",
    "\n",
    "where the Euclidean norm yields $\\|V\\| = \\sqrt{V^T V}$."
   ]
  },
  {
   "cell_type": "markdown",
   "id": "sound-moderator",
   "metadata": {},
   "source": [
    "**Answer:** \n",
    "\n",
    "$$\\| SV \\|^2 = (SV)^T (SV) = V^T S^T S V = V^T V = \\|V\\|^2$$"
   ]
  },
  {
   "cell_type": "markdown",
   "id": "rolled-bahrain",
   "metadata": {},
   "source": [
    "4) Consider a vector $V \\in \\mathbb{R}^N$, and define the matrix \n",
    "\n",
    "$$ S(V) = Id - 2 \\frac{V V^T}{\\|V\\|^2},$$ \n",
    "\n",
    "where $\\|V\\| = \\sqrt{V^T V}$ denotes the Euclidean norm of $V$. \n",
    "\n",
    "Prove that $S(V)$ is an orthogonal matrix. "
   ]
  },
  {
   "cell_type": "markdown",
   "id": "broken-polymer",
   "metadata": {},
   "source": [
    "**Answer:**  \n",
    "\n",
    "$$ S(V) S(V)^T = \\left(Id - 2 \\frac{VV^T}{\\|V\\|^2}\\right)\\left(Id - 2 \\frac{VV^T}{\\|V\\|^2}\\right)^T = \\left(Id - 2 \\frac{VV^T}{\\|V\\|^2}\\right)\\left(Id - 2 \\frac{VV^T}{\\|V\\|^2}\\right) = Id - 4\\frac{VV^T}{\\|V\\|^2} + 4\\frac{VV^TVV^T}{\\|V\\|^4} = Id$$"
   ]
  },
  {
   "cell_type": "markdown",
   "id": "diverse-guitar",
   "metadata": {},
   "source": [
    "---\n",
    "\n",
    "### Construction of the algorithm\n",
    "\n",
    "As in the Gaussian elimination algorithm, we eliminate the subdiagonal coefficients of a matrix $A$. But, instead of using elementary matrices, we use orthogonal matrices $S(V)$ as defined in 4).  \n",
    "\n",
    "Let us rewrite $A = (C^1, C^2, \\dots, C^N)$ as a row vector of column vectors $C^i \\in \\mathbb{R}^N$. We multiply iteratively the matrix $A$, and therefore each of its column, by an orthogonal matrix $S(V^i)$.  "
   ]
  },
  {
   "cell_type": "markdown",
   "id": "threatened-direction",
   "metadata": {},
   "source": [
    "5) Consider $C^1 \\in \\mathbb{R}^N$, we seek a vector $V^1 \\in \\mathbb{R}^N$ such that \n",
    "\n",
    "$$S(V^1) C^1 = \\left( \\begin{array}{c} \\alpha \\\\ 0 \\\\ \\vdots \\\\ 0 \\end{array} \\right). \\qquad{} (1) $$ \n",
    "\n",
    "What are the possible values of $\\alpha$? If there are several possibilities, choose one of them here for the rest of the algorithm. "
   ]
  },
  {
   "cell_type": "markdown",
   "id": "58d82b78",
   "metadata": {},
   "source": [
    "**Answer:** $\\alpha = \\pm \\|C^1\\|$ as it preserves the norm."
   ]
  },
  {
   "cell_type": "markdown",
   "id": "c1faac9f",
   "metadata": {},
   "source": [
    "6) We seek $V^1\\in\\mathbb{R}^N$ satisfying (1) and such that $\\|V^1\\| = 1$. Let us decompose $V^1 = \\left( \\begin{array}{c} a \\\\ W \\end{array} \\right)$ and $C^1 = \\left( \\begin{array}{c} b \\\\ X \\end{array} \\right)$.\n",
    "\n",
    "a) Prove that $W = kX$ is proportional to $X$. \n",
    "\n",
    "b) Write $a$ as a function of $k$ and $X$.\n",
    "\n",
    "c) Write an equation satisfied by $k$ depending only on $X$ and $b$. \n",
    "\n",
    "d) Solve this equation and compute $k$.  "
   ]
  },
  {
   "cell_type": "markdown",
   "id": "e4734e7a",
   "metadata": {},
   "source": [
    "**Answer:** a) One computes\n",
    "\n",
    "$$S(V^1) C^1 = \\left(\\begin{array}{c|c} 1-2a^2 & -2aW^T \\\\ \\hline -2aW & Id-2WW^T \\end{array}\\right)  \\left( \\begin{array}{c} b \\\\ X \\end{array} \\right) = \\left(\\begin{array}{c} \\alpha  \\\\ 0 \\end{array} \\right) = \\left(\\begin{array}{c} b(1-2a^2) - 2aW^T X \\\\ X-2W(ab+W^TX)  \\end{array} \\right) $$\n",
    "\n",
    "Especially, we need $X = 2W(b\\sqrt{1-WW^T}+W^TX)$ to be proporitional to $W$. \n",
    "\n",
    "b) The normalization gives $a = \\sqrt{1-WW^T} = \\sqrt{1-k^2 \\|X\\|^2}$.\n",
    "\n",
    "c) One has \n",
    "\n",
    "$$ X-2W(ab+W^TX) = 0 = X - 2 k X (b\\sqrt{1-k^2\\|X\\|^2}+k\\|X\\|^2) = X \\left[ 1 - 2k (b\\sqrt{1-k^2\\|X\\|^2} + k\\|X\\|^2)\\right] $$\n",
    "\n",
    "which rewrites for instance\n",
    "\n",
    "$$  k^2 + k \\left(\\frac{b}{\\|X\\|^2}\\sqrt{1-k^2\\|X\\|^2}\\right) - \\frac{1}{2\\|X\\|^2} = 0. $$\n",
    "\n",
    "d) One computes\n",
    "\n",
    "$$ \\left(k^2 - \\frac{1}{2\\|X\\|^2}\\right) = - k \\left(\\frac{b}{\\|X\\|^2}\\sqrt{1-k^2\\|X\\|^2}\\right) \\qquad \\qquad (2)$$\n",
    "\n",
    "and \n",
    "\n",
    "$$ \\left(k^2 - \\frac{1}{2\\|X\\|^2}\\right)^2 = k^2 \\frac{b^2}{\\|X\\|^4}(1-k^2\\|X\\|^2) $$\n",
    "\n",
    "then \n",
    "\n",
    "$$ k^4 \\left(1 + \\frac{b^2}{\\|X\\|^2}\\right) - k^2 \\frac{1}{\\|X\\|^2} \\left(1 + \\frac{b^2}{\\|X\\|^2}\\right) + \\frac{1}{4\\|X\\|^4} = 0 $$\n",
    "\n",
    "and eventually\n",
    "\n",
    "$$ k^4 - k^2 \\frac{1}{\\|X\\|^2} + \\frac{1}{4\\|X\\|^2\\left(\\|X\\|^2 + b^2\\right)} = 0 $$\n",
    "\n",
    "This provides $k^2 = \\frac{1}{2\\|X\\|^2} \\left(1 \\pm \\frac{b}{\\|C^1\\|}\\right)$. Coming back to (2) fix the sign in this formula, and we obtain eventually  \n",
    "\n",
    "$$ k = \\pm \\sqrt{ \\frac{1}{2\\|X\\|^2} \\left(1 + \\frac{b}{\\|C^1\\|}\\right)}.$$\n"
   ]
  },
  {
   "cell_type": "markdown",
   "id": "196acc27",
   "metadata": {},
   "source": [
    "7) a) What vector operations do you need to perform to compute $S(V^1) C^2$ for some other vector $C^2 \\in\\mathbb{R}^N$? \n",
    "\n",
    "b) How many scalar operations are therefore necessary to compute this product?\n",
    "\n",
    "c) How many scalar operations are therefore necessary to compute the product $S(V^1) A$, without performing the trivial operations?"
   ]
  },
  {
   "cell_type": "markdown",
   "id": "48e0fc4c",
   "metadata": {},
   "source": [
    "**Answer:** \n",
    "\n",
    "a) Since $SC = C - V (V^TC)$, we need to perform a scalar product $(V^T C)$, the multiplication of a vector with a scalar, and the sum of two vectors. \n",
    "\n",
    "b) \n",
    "- Scalar product: $N$ multiplications + $(N-1)$ additions $= 2N-1$ operations\n",
    "- Multiplication vector-scalar: $N$ multiplications\n",
    "- Sum of vectors: $N$ additions\n",
    "\n",
    "Total: $4N-1$ scalar operations\n",
    " \n",
    "c) We perform this to the last $N-1$ columns. For the first one, we only need to do 1 scalar product and a square root for the norm. That is $(4N-1)(N-1) + 2N-1$ operations (or only $(4N-1)(N-1) + 2N$ if we count the root as 1 operation).\n"
   ]
  },
  {
   "cell_type": "markdown",
   "id": "1284ec57",
   "metadata": {},
   "source": [
    "8) Now, we need to eliminate the subdiagonal term on the second column without modifying the first column of $A^1 := S(V^1)A$, i.e. we want \n",
    "\n",
    "$$S(V^2) A^1 = \\left( \\begin{array}{c} * \\\\ \\beta \\\\ 0 \\\\ \\vdots \\\\ 0 \\end{array} \\right).$$\n",
    "\n",
    "For this purpose, we use another matrix $S(V^2)$ satisfying \n",
    "\n",
    "$$ S(V^2)_{1,i} = \\delta_{1,i}. $$\n",
    "\n",
    "What does this condition imposes on the entries of the vector $V^2$ ?"
   ]
  },
  {
   "cell_type": "markdown",
   "id": "201b0eb8",
   "metadata": {},
   "source": [
    "**Answer:** $V_1^2 = 0$"
   ]
  },
  {
   "cell_type": "markdown",
   "id": "ff5aa670",
   "metadata": {},
   "source": [
    "9) Again, what is the value of $\\beta$ ? And propose a vector $V^2 \\in \\mathbb{R}^N$ satisfying $\\|V^2\\| = 1$ and (2)."
   ]
  },
  {
   "cell_type": "markdown",
   "id": "5971af3f",
   "metadata": {},
   "source": [
    "**Answer:** Writing $S(V^1)C^2 = (*, (\\tilde{C}^2)^T)^T$, we simply apply the previous computations to $\\tilde{C}^2$.\n",
    "\n",
    "Then $\\beta = \\pm\\|\\tilde{C}^2\\|$ and $V^2 = (0, \\sqrt{1-WW^T}, W)$ with $W = kX$ and $k = \\pm \\sqrt{ \\frac{1}{2\\|X\\|^2} \\left(1 + \\frac{b}{\\|\\tilde{C}^2\\|}\\right)}.$"
   ]
  },
  {
   "cell_type": "markdown",
   "id": "425d3fc0",
   "metadata": {},
   "source": [
    "---\n",
    "\n",
    "In practice, this technique is applied iteratively to all columns until writing a product of the form \n",
    "\n",
    "$$\\left(\\prod\\limits_i S(V^i) \\right) A = U $$\n",
    "\n",
    "which provides the decomposition $A = SU$ where $S = \\left(\\prod\\limits_i S(V^i) \\right)^T$."
   ]
  }
 ],
 "metadata": {
  "kernelspec": {
   "display_name": "Python 3 (ipykernel)",
   "language": "python",
   "name": "python3"
  },
  "language_info": {
   "codemirror_mode": {
    "name": "ipython",
    "version": 3
   },
   "file_extension": ".py",
   "mimetype": "text/x-python",
   "name": "python",
   "nbconvert_exporter": "python",
   "pygments_lexer": "ipython3",
   "version": "3.9.7"
  },
  "toc": {
   "base_numbering": 1,
   "nav_menu": {},
   "number_sections": true,
   "sideBar": true,
   "skip_h1_title": true,
   "title_cell": "Table of Contents",
   "title_sidebar": "Contents",
   "toc_cell": false,
   "toc_position": {},
   "toc_section_display": true,
   "toc_window_display": false
  },
  "varInspector": {
   "cols": {
    "lenName": 16,
    "lenType": 16,
    "lenVar": 40
   },
   "kernels_config": {
    "python": {
     "delete_cmd_postfix": "",
     "delete_cmd_prefix": "del ",
     "library": "var_list.py",
     "varRefreshCmd": "print(var_dic_list())"
    },
    "r": {
     "delete_cmd_postfix": ") ",
     "delete_cmd_prefix": "rm(",
     "library": "var_list.r",
     "varRefreshCmd": "cat(var_dic_list()) "
    }
   },
   "types_to_exclude": [
    "module",
    "function",
    "builtin_function_or_method",
    "instance",
    "_Feature"
   ],
   "window_display": false
  }
 },
 "nbformat": 4,
 "nbformat_minor": 5
}
