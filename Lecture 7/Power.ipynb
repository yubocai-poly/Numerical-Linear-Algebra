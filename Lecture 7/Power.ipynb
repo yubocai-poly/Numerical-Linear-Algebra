{
 "cells": [
  {
   "cell_type": "markdown",
   "metadata": {},
   "source": [
    "# Tutorial 7: Power Iteration method"
   ]
  },
  {
   "cell_type": "code",
   "execution_count": 1,
   "metadata": {},
   "outputs": [],
   "source": [
    "# Load packages:\n",
    "\n",
    "# this package allows to work efficiently with arrays\n",
    "import numpy as np"
   ]
  },
  {
   "cell_type": "markdown",
   "metadata": {},
   "source": [
    "In this class we consider a numerical method used to compute the eigenvalues and the eigenvectors of a matrix. \n",
    "The method for finding eigenvectors and eigenvalues is called **Power Iteration**, or von Mises Iteration after Richard von Mises - famous german mathematician (1883-1953) known for his results in mechanics, in statistics or in probability theory. \n",
    "\n",
    "Power Iteration method works under some assumptions and may fail if they are not satisfied. So in this class you are proposed to investigate theoretically and numerically these assumptions.\n",
    "    \n",
    "**Remark about the applications**: The algorithm is well-known to be used for computing ***PageRank*** (interplay between \"Larry Page\", the co-founder of Google. Inc and \"a web page\"). PageRank is a map that associates a rank, i.e. just a scalar value, to websites such that \"more important\" websites get a higher rank and \"less important\" the lower one.\n",
    "One can read about PageRank and an associated eigenvalue problem for matrices e.g. in: https://en.m.wikipedia.org/wiki/PageRank"
   ]
  },
  {
   "cell_type": "markdown",
   "metadata": {},
   "source": [
    "## Principle of the method"
   ]
  },
  {
   "cell_type": "markdown",
   "metadata": {},
   "source": [
    "**Refresher:**\n",
    "\n",
    "We consider a diagonalizable matrix $A = PDP^{-1}$, where $D$ is diagonal and $P$ is invertible. There exists a basis of $\\mathbb{R}^N$ composed of eigenvectors $(V^1, \\, \\dots, V^N)$ of $A$ associated to the eigenvalues $(\\lambda_1, \\dots, \\lambda_N)$. Especially, decomposing any vector $V$ in this basis, one writes\n",
    "\n",
    "$$V = \\sum\\limits_{i=1}^N \\alpha_i V^i \\qquad \\Rightarrow \\quad AV = \\sum\\limits_{i=1}^N \\alpha_i \\lambda_i V^i, $$\n",
    "\n",
    "where $(\\alpha_1, \\dots, \\alpha_N) \\in\\mathbb{R}^N$ are the components of $V$ in the basis of eigenvectors of $A$. "
   ]
  },
  {
   "cell_type": "markdown",
   "metadata": {},
   "source": [
    "**Construction of the algorithm:**\n",
    "\n",
    "This algorithm aims to compute ***the maximal eigenvalue and an associated eigenvector***.\n",
    "\n",
    "We consider a diagonalizable matrix $A = P D P^{-1} \\in\\mathbb{R}^{N\\times N}$  with non-zero eigenvalues that we order such that $|\\lambda_1| \\ge |\\lambda_2| \\ge \\dots \\ge |\\lambda_N| > 0$. \n",
    "\n",
    "Define the sequence $(U^k)_{k\\in\\mathbb{N}}$ iteratively by \n",
    "\n",
    "$$U^{k+1} = f(U^k) = \\frac{A U^k}{\\|AU^k\\|} \\text{ for }k \\geq 0, \\text{ where } U_0 \\text{ is an initial vector.}$$"
   ]
  },
  {
   "cell_type": "markdown",
   "metadata": {},
   "source": [
    "---\n",
    "\n",
    "## Implementation of the power iteration"
   ]
  },
  {
   "cell_type": "markdown",
   "metadata": {},
   "source": [
    "**Question 1.1.**\n",
    "\n",
    "a) Implement a function that computes the iterations $U^k$ of the power iteration algorithm. \n",
    "\n",
    "**Indications:** Your code should: \n",
    "- **Stop** at iteration $k$ if \n",
    "    - $\\|U^{k}-U^{k-1}\\| \\le \\epsilon_{\\max}$,\n",
    "    - $k>k_{\\max}$,\n",
    "    where $\\epsilon_{\\max}$ and $k_{\\max}$ are given as input of the function.\n",
    "- take for **input**: the matrix $A$, the initial vector $U^0$, the parameters $\\epsilon_{max}$ and $k_{\\max}$.\n",
    "- **return:** the final solution $U^k$ and $r = (AU^k)^T U^k$"
   ]
  },
  {
   "cell_type": "code",
   "execution_count": 3,
   "metadata": {},
   "outputs": [],
   "source": [
    "def Power_Iteration(A, U0, eps_max, k_max):\n",
    "    \"\"\"\n",
    "    Computes the iteration of the power iteration algorithm\n",
    "    ----------   \n",
    "    parameters:\n",
    "    A       : matrix of the eigenvalue problem MV = lambda V (numpy array of size N,N)\n",
    "    U0      : initial vector of the algorithm (numpy array of size N)\n",
    "    eps_max : tolerance on the residual, stops if eps reaches eps_max (float)\n",
    "    k_max   : maximum number of iterations (integer)\n",
    "    \n",
    "    returns:\n",
    "    U   : vector at the end of the iterations (numpy array of size N)\n",
    "    r   : (A U)^T U\n",
    "    \"\"\"\n",
    "\n",
    "    ###\n",
    "    U = np.copy(U0)\n",
    "    r = 0.\n",
    "    ###\n",
    "    for k in range(k_max):\n",
    "        ###\n",
    "        V = np.dot(A, U)\n",
    "        r = np.dot(V.T, U)\n",
    "        U = V / np.linalg.norm(V)\n",
    "        ###\n",
    "        if np.linalg.norm(r * U - np.dot(A, U)) < eps_max:\n",
    "            break\n",
    "    \n",
    "    return U, r"
   ]
  },
  {
   "cell_type": "markdown",
   "metadata": {},
   "source": [
    "b) Test it with $A = \\left(\\begin{array}{cccc} 10 & 9 & -11 & -4 \\\\ 12 & 13 & -7 & -14 \\\\ 12 & 19 & -13 & -14 \\\\ 12 & 5 & -7 & -6\\end{array}\\right)$, $\\epsilon_{\\max} = 10^{-8}$ and $k_{\\max} = 50$ and $U^0 = (1, 1, 1, 1)^T$. \n",
    "\n",
    "What value of $(U^k, r)$ do you obtain? Check if $U^k$ is an eigenvector of $A$."
   ]
  },
  {
   "cell_type": "code",
   "execution_count": 4,
   "metadata": {},
   "outputs": [
    {
     "name": "stdout",
     "output_type": "stream",
     "text": [
      "Solution      U =  [0.5 0.5 0.5 0.5]\n",
      "            A U =  [2. 2. 2. 2.]\n",
      "         lambda =  4.0\n"
     ]
    }
   ],
   "source": [
    "# Test your algorithm here\n",
    "###\n",
    "A  = np.zeros((4,4))\n",
    "U0 = np.zeros(4)\n",
    "###\n",
    "A = np.array([[10, 9, -11, -4], [12, 13, -7, -14], [12, 19, -13, -14], [12, 5, -7, -6]])\n",
    "U0 = np.array([1,1,1,1])\n",
    "\n",
    "U_res, r_res = Power_Iteration(A, U0, 10**(-8), 50)\n",
    "\n",
    "print('Solution      U = ', U_res)\n",
    "print('            A U = ', np.matmul(A,U_res))\n",
    "print('         lambda = ', r_res)"
   ]
  },
  {
   "cell_type": "markdown",
   "metadata": {},
   "source": [
    "<table>\n",
    "<tr>   \n",
    "<td bgcolor = lightblue ><font color = white >Answer</td>\n",
    "</tr>\n",
    "</table>\n",
    "\n",
    "---\n",
    "$U^k = \\frac{1}{2}(1,1,1,1)^T$ while $A U^k = 2 (1,1,1,1)^T$ then it's an aigenvector with eigenvalue 4.\n",
    "\n",
    "---"
   ]
  },
  {
   "cell_type": "markdown",
   "metadata": {},
   "source": [
    "c) Test it again with the same parameters with an initial $U^0 = (1,4,2,4)^T$.\n",
    "\n",
    "What value of $(U^k,r)$ do you obtain? Check if $U^k$ is an eigenvector of $A$.\n",
    "\n",
    "In the next section, we study the convergence of the algorithm for different parameters."
   ]
  },
  {
   "cell_type": "code",
   "execution_count": 5,
   "metadata": {},
   "outputs": [
    {
     "name": "stdout",
     "output_type": "stream",
     "text": [
      "Solution      U =  [-0.5  0.5 -0.5  0.5]\n",
      "            A U =  [ 3. -3.  3. -3.]\n",
      "         lambda =  -6.0\n"
     ]
    }
   ],
   "source": [
    "# Test your algorithm here\n",
    "###\n",
    "A  = np.zeros((4,4))\n",
    "U0 = np.zeros(4)\n",
    "###\n",
    "A = np.array([[10, 9, -11, -4], [12, 13, -7, -14], [12, 19, -13, -14], [12, 5, -7, -6]])\n",
    "U0 = np.array([1,4,2,4])\n",
    "\n",
    "U_res, r_res = Power_Iteration(A, U0, 10**(-8), 50)\n",
    "\n",
    "print('Solution      U = ', U_res)\n",
    "print('            A U = ', np.matmul(A,U_res))\n",
    "print('         lambda = ', r_res)"
   ]
  },
  {
   "cell_type": "markdown",
   "metadata": {},
   "source": [
    "<table>\n",
    "<tr>   \n",
    "<td bgcolor = lightblue ><font color = white >Answer</td>\n",
    "</tr>\n",
    "</table>\n",
    "\n",
    "---\n",
    "$U^k = \\frac{1}{2}(-1,1,-1,1)^T$ while $A U^k = -3 (-1,1,-1,1)^T$ then it's an aigenvector with eigenvalue -6.\n",
    "\n",
    "---"
   ]
  },
  {
   "cell_type": "markdown",
   "metadata": {},
   "source": [
    "d) Test it again with the same parameters with any other initial non-trivial $U^0$.\n",
    "\n",
    "What value of $(U^k,r)$ do you obtain? Check if $U^k$ is an eigenvector of $A$. Can you give an interpretation of the differences? \n",
    "\n",
    "In the next section, we study the convergence of the algorithm for different parameters."
   ]
  },
  {
   "cell_type": "code",
   "execution_count": 6,
   "metadata": {},
   "outputs": [
    {
     "name": "stdout",
     "output_type": "stream",
     "text": [
      "Solution      U =  [-0.50000014  0.50000014  0.49999986 -0.49999986]\n",
      "            A U =  [-3.99999915  3.99999915  4.00000085 -4.00000085]\n",
      "         lambda =  7.999999999998004\n"
     ]
    }
   ],
   "source": [
    "# Test your algorithm here\n",
    "###\n",
    "A  = np.zeros((4,4))\n",
    "U0 = np.zeros(4)\n",
    "###\n",
    "A = np.array([[10, 9, -11, -4], [12, 13, -7, -14], [12, 19, -13, -14], [12, 5, -7, -6]])\n",
    "U0 = np.array([1,5,4,3])\n",
    "\n",
    "U_res, r_res = Power_Iteration(A, U0, 10**(-8), 50)\n",
    "\n",
    "print('Solution      U = ', U_res)\n",
    "print('            A U = ', np.matmul(A,U_res))\n",
    "print('         lambda = ', r_res)"
   ]
  },
  {
   "cell_type": "markdown",
   "metadata": {},
   "source": [
    "<table>\n",
    "<tr>   \n",
    "<td bgcolor = lightblue ><font color = white >Answer</td>\n",
    "</tr>\n",
    "</table>\n",
    "\n",
    "---\n",
    "$U^k = \\frac{1}{2}(-1,1,1,-1)^T$ while $A U^k = 8 (-1,1,1,-1)^T$ then it's an aigenvector with eigenvalue 8. It's the largest eigenvalue in norm.\n",
    "\n",
    "---"
   ]
  },
  {
   "cell_type": "markdown",
   "metadata": {},
   "source": [
    "## Convergence of the method"
   ]
  },
  {
   "cell_type": "markdown",
   "metadata": {},
   "source": [
    "**Question 2.1.**\n",
    "\n",
    "Assume that $V$ is an eigenvector of $A$ such that $\\|V\\|^2 = V^T V = 1$. Write the eigenvalue $\\lambda$ associated to $V$ as a function of $A$ and $V$ using only matrix (and vector) products. "
   ]
  },
  {
   "cell_type": "markdown",
   "metadata": {},
   "source": [
    "<table>\n",
    "<tr>   \n",
    "<td bgcolor = lightblue ><font color = white >Answer</td>\n",
    "</tr>\n",
    "</table>\n",
    "\n",
    "---\n",
    "Since $V$ is an eigenvector of $A$, we have $AV = \\lambda V$. Then $\\lambda = \\frac{V^T AV}{V^T V} = \\frac{V^T AV}{1} = V^T AV$.\n",
    "\n",
    "---"
   ]
  },
  {
   "cell_type": "markdown",
   "metadata": {},
   "source": [
    "**Question 2.2.**\n",
    "\n",
    "Prove that the sequence of the power iteration algorithm satisfies $U^{k+1} = \\frac{A^{k+1} U^0}{ \\|A^{k+1} U^0\\|}$. "
   ]
  },
  {
   "cell_type": "markdown",
   "metadata": {},
   "source": [
    "<table>\n",
    "<tr>   \n",
    "<td bgcolor = lightblue ><font color = white >Answer</td>\n",
    "</tr>\n",
    "</table>\n",
    "\n",
    "---\n",
    "Previously, we have $U^{k+1} = f(U^k) = \\frac{A U^k}{\\|AU^k\\|}$. Then we have\n",
    "$$\n",
    "\\begin{aligned}\n",
    "    U^{k+1} &= \\frac{AU^k}{\\|A U^k\\|} \\\\\n",
    "    &= A \\frac{AU^{k-1}}{\\|AU^{k-1}\\|} \\times \\frac{1}{\\| A \\frac{AU^{k-1}}{\\|AU^{k-1}\\|} \\|} \\\\\n",
    "    &= \\frac{A^2 U^{k-1}}{\\|A^2 U^{k-1}\\|} = \\dots \\\\\n",
    "    &= \\frac{A^{k+1}U^0}{\\|A^{k+1} U^0\\|}\n",
    "\\end{aligned}\n",
    "$$\n",
    "---"
   ]
  },
  {
   "cell_type": "markdown",
   "metadata": {},
   "source": [
    "**Questions 2.3.**\n",
    "\n",
    "In this question, we aim to rewrite $U^{k+1}$ under the form \n",
    "$$\n",
    "U^{k+1} = \\frac{\\alpha_1}{|\\alpha_1|} \\left(\\frac{\\lambda_1}{|\\lambda_1|}\\right)^{k+1} \\left( V^1 + \\text{error}_k \\right), \n",
    "$$\n",
    "such that $\\text{error}_k$ tends to $0_{\\mathbb{R}^N}$ when $k$ tends to infinity (to prove in the next question).\n",
    "Let us decompose the intial vector $$\\begin{equation*} U^0 = \\sum\\limits_{i=1}^N \\alpha_i V^i\\end{equation*}$$ where the vectors $V^i$ is an eigenvector of $A$ of norm $\\|V^i\\| = 1$ associated to the $i$-th eigenvalue $\\lambda_i$ of $A$. \n",
    "\n",
    "a) Decomposing the vector $A^{k+1} U^0 = \\sum\\limits_{i=1}^N \\beta_i V^i$, express $\\beta_i$ as a function of the $\\alpha_i$ and $\\lambda_i$. \n",
    "\n",
    "b) Factorize the vector $A^{k+1} U^{0}$ by the scalar $\\alpha_1 \\lambda_1^{k+1}$\n",
    "\n",
    "c) Factorize the scalar $\\|A^{k+1} U^{0}\\|$ by the scalar $|\\alpha_1| |\\lambda_1|^{k+1}$. \n",
    "\n",
    "d) Then factorize the vector $U^{k+1}$ by the scalar $\\frac{\\alpha_1}{|\\alpha_1|} \\left(\\frac{\\lambda_1}{|\\lambda_1|}\\right)^{k+1}$."
   ]
  },
  {
   "cell_type": "markdown",
   "metadata": {},
   "source": [
    "<table>\n",
    "<tr>   \n",
    "<td bgcolor = lightblue ><font color = white >Answer</td>\n",
    "</tr>\n",
    "</table>\n",
    "\n",
    "---\n",
    "a) According to the formula above, we have $\\beta_{i}=\\alpha_{i} \\lambda^{k+1}_{i}$\n",
    "\n",
    "b) $A^{k+1} U^0 = \\alpha_1 \\lambda_1^{k+1} \\left( V^1 + \\sum\\limits_{i=2}^N \\frac{\\alpha_i}{\\alpha_1}\\left(\\frac{\\lambda_i}{\\lambda_1}\\right)^{k+1} V^i\\right)$\n",
    "\n",
    "c) $\\|A^{k+1} U^0\\| = |\\alpha_1| |\\lambda_1|^{k+1} \\left\\| V^1 + \\sum\\limits_{i=2}^N \\frac{\\alpha_i}{\\alpha_1}\\left(\\frac{\\lambda_i}{\\lambda_1}\\right)^{k+1} V^i\\right\\|$\n",
    "\n",
    "d) $\\displaystyle U^{k+1} = \\frac{\\alpha_1}{|\\alpha_1|} \\left(\\frac{\\lambda_1}{|\\lambda_1|}\\right)^{k+1}  \\frac{ V^1 + \\sum\\limits_{i=2}^N \\frac{\\alpha_i}{\\alpha_1}\\left(\\frac{\\lambda_i}{\\lambda_1}\\right)^{k+1} V^i}{\\left\\| V^1 + \\sum\\limits_{i=2}^N \\frac{\\alpha_i}{\\alpha_1}\\left(\\frac{\\lambda_i}{\\lambda_1}\\right)^{k+1} V^i\\right\\|}$\n",
    "\n",
    "---"
   ]
  },
  {
   "attachments": {},
   "cell_type": "markdown",
   "metadata": {},
   "source": [
    "**Question 2.4.**\n",
    "\n",
    "We study now the convergence of the sequence $U^k$: \n",
    "\n",
    "a) Assuming that $\\lambda_1>0$, conclude on the convergence of the sequence $(U^k)_{k\\in\\mathbb{N}}$. What happens if $\\lambda_1<0$?\n",
    "\n",
    "b) What hypothesis on the intialization $U^0$ is crucial for this method to converge to the desired vector $V$ associated to the largest eigenvalue in norm ? \n",
    "\n",
    "c) Give a condition on $U^0$ fo the power iteration algorithm <b>NOT</b> to converge to the eigenvector $V^1$ associated to the largest eigenvalue in norm.\n",
    "\n",
    "d) Explain the difference in the results obtained in the last section.\n"
   ]
  },
  {
   "attachments": {},
   "cell_type": "markdown",
   "metadata": {},
   "source": [
    "<table>\n",
    "<tr>   \n",
    "<td bgcolor = lightblue ><font color = white >Answer</td>\n",
    "</tr>\n",
    "</table>\n",
    "\n",
    "---\n",
    "a) By assumption $\\frac{\\lambda_1}{|\\lambda_1|} = 1$, and $\\left|\\frac{\\lambda_i}{\\lambda_1}\\right| < 1$, thus at the limit $\\lim\\limits_{k\\rightarrow\\infty} U^{k+1} = \\frac{\\alpha_1}{|\\alpha_1|}V^1 = \\pm V^1$ if $\\alpha_1\\neq 0$.\n",
    "\n",
    "If $\\lambda_1<0$, the sequences $U^{2k}$ and $U^{2k+1}$ converge toward $\\pm V^1$ and $\\mp V^1$.\n",
    "\n",
    "b) $\\alpha_1 \\neq 0$\n",
    "\n",
    "c) $\\alpha_1 = 0$, the decomposition of $U^0$ in the eigenbasis should have zero component along $V^1$\n",
    "\n",
    "d) $\\alpha_1$ is zero in the second case \n",
    "\n",
    "---\n"
   ]
  },
  {
   "attachments": {},
   "cell_type": "markdown",
   "metadata": {},
   "source": [
    "## Deflation algorithm"
   ]
  },
  {
   "attachments": {},
   "cell_type": "markdown",
   "metadata": {},
   "source": [
    "<b>Hypothesis: </b> We assume now that $A$ is symmetric. Such real symmetric matrices are diagonalizable in an orthonormal bases. This means that there exists an orthogonal matrix $Q$ (orthogonal matrices satisfy $Q^{-1} = Q^T$) such that $A = Q D Q^{-1} = Q D Q^T$. \n",
    "\n",
    "Let $U^k$ be the vector obtained at the end of the previous algorithm, and assume that it is exactly the eigenvector $U^k = V^1$ associated to the largest eigenvalue $\\lambda_1$ in norm. \n",
    "\n",
    "**Questions 3.1.**\n",
    "\n",
    "Construct a matrix $B$ such that: \n",
    "- $B$ has the same eigenvectors $V^i$ as $A$\n",
    "- $B$ has the same eigenvalue $\\lambda_i$ associated to $V^i$ except $\\lambda_1=0$, i.e. the eigenvalue associated to $V^1$ is zero. \n",
    "\n",
    "Write $B$ as a function of $A$, $\\lambda_1$ and $V^1$."
   ]
  },
  {
   "attachments": {},
   "cell_type": "markdown",
   "metadata": {},
   "source": [
    "<table>\n",
    "<tr>   \n",
    "<td bgcolor = lightblue ><font color = white >Answer</td>\n",
    "</tr>\n",
    "</table>\n",
    "\n",
    "---\n",
    "$$B := Q Diag(0,\\lambda_2,\\dots,\\lambda_N) Q^T = Q Diag(\\lambda_1,\\lambda_2,\\dots,\\lambda_N) Q^T - Q Diag(\\lambda_1,0,\\dots,0) Q^T = A - \\lambda_1 V^1 (V^1)^T$$\n",
    "\n",
    "---\n"
   ]
  },
  {
   "attachments": {},
   "cell_type": "markdown",
   "metadata": {},
   "source": [
    "**Questions 3.2.**\n",
    "\n",
    "Deduce a method to compute a second eigenvector and eigenvalue. And a third..."
   ]
  },
  {
   "attachments": {},
   "cell_type": "markdown",
   "metadata": {},
   "source": [
    "<table>\n",
    "<tr>   \n",
    "<td bgcolor = lightblue ><font color = white >Answer</td>\n",
    "</tr>\n",
    "</table>\n",
    "\n",
    "---\n",
    "Apply the power iteration to $B$, then to $B-\\lambda_2 V^2 (V^2)^T$ ...\n",
    "\n",
    "---"
   ]
  },
  {
   "attachments": {},
   "cell_type": "markdown",
   "metadata": {},
   "source": [
    "**Questions 3.3.**\n",
    "\n",
    "a) Implement an algorithm computing all the eigenvectors and eigenvalues. \n",
    "\n",
    "Your function should:\n",
    "- take for **input**: the matrix $A$ and the stopping parameters $\\varepsilon_{max}$, and $k_{max}$\n",
    "- **return**: the matrix $P$ composed of the eigenvectors of $A$ and a vector $\\Lambda$ of the associated eigenvalues. "
   ]
  },
  {
   "cell_type": "code",
   "execution_count": 7,
   "metadata": {},
   "outputs": [],
   "source": [
    "def Deflation(A, eps_max, k_max):\n",
    "    \"\"\"\n",
    "    Computes the eigenvalues and eigenvectors of a matrix A using the deflation algorithm\n",
    "    ----------   \n",
    "    parameters:\n",
    "    A       : matrix of the eigenvalue problem MV = lambda V (numpy array of size N,N)\n",
    "    eps_max : tolerance in the power iteration algorithm, stops if eps reaches eps_max (float)\n",
    "    k_max   : maximum number of iterations in the power iteration algorithm (integer)\n",
    "    \n",
    "    returns:\n",
    "    P   : matrix composed of the eigenvectors (numpy array of size N,N)\n",
    "    L   : vector composed of the eigenvalues (numpy array of size N)\n",
    "    \"\"\"\n",
    "    \n",
    "    N    = len(A)\n",
    "    P    = np.eye(N)\n",
    "    L    = np.zeros(N)\n",
    "    \n",
    "    B    = np.copy(A)\n",
    "    U0_i = np.array([1,1,1,1])\n",
    "    for i in range(N):\n",
    "        U0           = np.copy(U0_i)\n",
    "        P[i,:], L[i] = Power_Iteration(B, U0, eps_max, k_max)\n",
    "        B            = B - L[i]*np.outer(P[i,:],P[i,:]) \n",
    "        U0_i         = U0_i - (np.dot(U0_i,P[i,:])/np.dot(P[i,:],P[i,:]))*P[i,:]\n",
    "        \n",
    "    return P, L"
   ]
  },
  {
   "cell_type": "markdown",
   "metadata": {},
   "source": [
    "b) Test it with the matrix $A = \\left( \\begin{array}{cccc} 4 & 0 & 10 & 0 \\\\ 0 & 10 & 0 & 18 \\\\ 10 & 0 & 18 & 0 \\\\ 0 & 18 & 0 & 34 \\end{array}\\right)$, with $\\epsilon_{\\max} = 10^{-8}$ and $k_{\\max} = 20$. Choose an appropriate $U_0$ for every power iteration algorithm. Check if all the columns of $P$ are eigenvectors of $A$."
   ]
  },
  {
   "cell_type": "code",
   "execution_count": 8,
   "metadata": {},
   "outputs": [
    {
     "name": "stdout",
     "output_type": "stream",
     "text": [
      "eigvect  [2.18718602e-10 4.71857926e-01 4.20083099e-10 8.81674599e-01]\n",
      "norm     1.0\n",
      "eigval   43.633307652783934\n",
      "A U      [5.0757054e-09 2.0588722e+01 9.7486818e-09 3.8470379e+01]\n",
      "eigval * eigvect [9.54341604e-09 2.05887220e+01 1.83296151e-08 3.84703790e+01]\n",
      "error    9.359285465117451e-17\n",
      "\n",
      "eigvect  [ 4.61810381e-01 -4.20119298e-10  8.86978676e-01 -7.85158458e-10]\n",
      "norm     1.0000000000000002\n",
      "eigval   23.2065556157337\n",
      "A U      [ 1.07170283e+01 -1.83340452e-08  2.05837200e+01 -3.42575349e-08]\n",
      "eigval * eigvect [ 1.07170283e+01 -9.74952184e-09  2.05837200e+01 -1.82208234e-08]\n",
      "error    3.9332884519516255e-16\n",
      "\n",
      "eigvect  [ 8.86978673e-01  4.50203739e-09 -4.61810386e-01 -2.40941728e-09]\n",
      "norm     1.0\n",
      "eigval   -1.206555615733703\n",
      "A U      [-1.07018917e+00  1.65086277e-09  5.57199780e-01 -8.83514668e-10]\n",
      "eigval * eigvect [-1.07018910e+00 -5.43195849e-09  5.57199915e-01  2.90709596e-09]\n",
      "error    2.3170266547986153e-14\n",
      "\n",
      "eigvect  [ 1.49003268e-08  8.81674599e-01 -7.76326999e-09 -4.71857926e-01]\n",
      "norm     0.9999999999999999\n",
      "eigval   0.36669234721606375\n",
      "A U      [-1.80313928e-08  3.23303328e-01  9.26440792e-09 -1.73026690e-01]\n",
      "eigval * eigvect [ 5.46383580e-09  3.23303328e-01 -2.84673169e-09 -1.73026690e-01]\n",
      "error    6.98705469979533e-16\n",
      "\n",
      "P =  [[ 2.18718602e-10  4.71857926e-01  4.20083099e-10  8.81674599e-01]\n",
      " [ 4.61810381e-01 -4.20119298e-10  8.86978676e-01 -7.85158458e-10]\n",
      " [ 8.86978673e-01  4.50203739e-09 -4.61810386e-01 -2.40941728e-09]\n",
      " [ 1.49003268e-08  8.81674599e-01 -7.76326999e-09 -4.71857926e-01]]\n",
      "L =  [43.63330765 23.20655562 -1.20655562  0.36669235]\n"
     ]
    }
   ],
   "source": [
    "A = np.array([[4,0,10,0],[0,10,0,18],[10,0,18,0],[0,18,0,34]])\n",
    "\n",
    "P_res, L_res = Deflation(A, 10.**(-8), 50)\n",
    "\n",
    "\n",
    "for i in range(4):\n",
    "    print('eigvect ', P_res[i,:])\n",
    "    print('norm    ', np.dot(P_res[i,:],P_res[i,:]))\n",
    "    print('eigval  ', L_res[i])\n",
    "    print('A U     ', np.matmul(A, P_res[i,:]))\n",
    "    print('eigval * eigvect', L_res[i] * P_res[i,:])\n",
    "    print('error   ', np.dot(np.matmul(A, P_res[i,:]) - L_res[i] * P_res[i,:], np.matmul(A, P_res[i,:]) - L_res[i] * P_res[i,:] ) )\n",
    "    print()\n",
    "\n",
    "print(\"P = \", P_res)\n",
    "print(\"L = \", L_res)"
   ]
  }
 ],
 "metadata": {
  "kernelspec": {
   "display_name": "Python 3 (ipykernel)",
   "language": "python",
   "name": "python3"
  },
  "language_info": {
   "codemirror_mode": {
    "name": "ipython",
    "version": 3
   },
   "file_extension": ".py",
   "mimetype": "text/x-python",
   "name": "python",
   "nbconvert_exporter": "python",
   "pygments_lexer": "ipython3",
   "version": "3.9.7"
  },
  "latex_envs": {
   "LaTeX_envs_menu_present": true,
   "autoclose": false,
   "autocomplete": true,
   "bibliofile": "biblio.bib",
   "cite_by": "apalike",
   "current_citInitial": 1,
   "eqLabelWithNumbers": true,
   "eqNumInitial": 1,
   "hotkeys": {
    "equation": "Ctrl-E",
    "itemize": "Ctrl-I"
   },
   "labels_anchors": false,
   "latex_user_defs": false,
   "report_style_numbering": false,
   "user_envs_cfg": false
  },
  "toc": {
   "base_numbering": 1,
   "nav_menu": {},
   "number_sections": true,
   "sideBar": true,
   "skip_h1_title": true,
   "title_cell": "Table of Contents",
   "title_sidebar": "Contents",
   "toc_cell": false,
   "toc_position": {},
   "toc_section_display": true,
   "toc_window_display": true
  },
  "varInspector": {
   "cols": {
    "lenName": 16,
    "lenType": 16,
    "lenVar": 40
   },
   "kernels_config": {
    "python": {
     "delete_cmd_postfix": "",
     "delete_cmd_prefix": "del ",
     "library": "var_list.py",
     "varRefreshCmd": "print(var_dic_list())"
    },
    "r": {
     "delete_cmd_postfix": ") ",
     "delete_cmd_prefix": "rm(",
     "library": "var_list.r",
     "varRefreshCmd": "cat(var_dic_list()) "
    }
   },
   "types_to_exclude": [
    "module",
    "function",
    "builtin_function_or_method",
    "instance",
    "_Feature"
   ],
   "window_display": false
  },
  "vscode": {
   "interpreter": {
    "hash": "40d3a090f54c6569ab1632332b64b2c03c39dcf918b08424e98f38b5ae0af88f"
   }
  }
 },
 "nbformat": 4,
 "nbformat_minor": 2
}
