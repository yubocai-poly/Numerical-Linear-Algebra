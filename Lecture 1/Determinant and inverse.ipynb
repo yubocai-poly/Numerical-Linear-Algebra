{
 "cells": [
  {
   "cell_type": "markdown",
   "metadata": {},
   "source": [
    "# Tutorial 1: Determinant and inverse"
   ]
  },
  {
   "cell_type": "code",
   "execution_count": 1,
   "metadata": {},
   "outputs": [],
   "source": [
    "# Load packages:\n",
    "\n",
    "# this package allows to work efficiently with arrays\n",
    "import numpy as np\n",
    "# this package is used to draw graphs\n",
    "import matplotlib.pyplot as plt"
   ]
  },
  {
   "cell_type": "markdown",
   "metadata": {},
   "source": [
    "In this implementation exercise, a naive method based on Laplace expansion is tested for the computation of determinants and inverses of large matrices. The objective is to observe how expensive such a method is. The next lectures and tutorials present smarter alternatives for such computations."
   ]
  },
  {
   "cell_type": "markdown",
   "metadata": {},
   "source": [
    "---\n",
    "\n",
    "## Determinant of a 2 $\\times$ 2 matrix"
   ]
  },
  {
   "cell_type": "markdown",
   "metadata": {},
   "source": [
    "**Question 1**\n",
    "\n",
    "a) Recall the formula of the determinant of a 2 $\\times$ 2 matrix \n",
    "\n",
    "$$A = \\left(\\begin{array}{cc} a & b \\\\ c & d\\end{array}\\right).$$ \n",
    "\n",
    "b) For the test below, we use the matrix\n",
    "\n",
    "$$B = \\left(\\begin{array}{cc} 1 & 2 \\\\ 3 & 4 \\end{array}\\right).$$ \n",
    "\n",
    "Compute $det(B)$.\n",
    "\n",
    "c) How many operations are performed?"
   ]
  },
  {
   "attachments": {},
   "cell_type": "markdown",
   "metadata": {},
   "source": [
    "<table>\n",
    "<tr>   \n",
    "<td bgcolor = lightblue ><font color = white >Answer</td>\n",
    "</tr>\n",
    "</table>\n",
    "\n",
    "---\n",
    "a) $det(A) = ad - bc$\n",
    "\n",
    "b) $det(B) = 1 \\times 4 - 2 \\times 3 = -2$\n",
    "\n",
    "c) There are 3 operations: 2 multiplications and 1 subtractions.\n",
    "\n",
    "---"
   ]
  },
  {
   "cell_type": "markdown",
   "metadata": {},
   "source": [
    "**Question 2**\n",
    "\n",
    "a) Implement a function that takes a $2\\times2$ matrix in entry and returns its determinant using this formula. \n",
    "\n",
    "b) Test your algorithm on the matrix $B$ and compare it with the result obtained in 1.b. "
   ]
  },
  {
   "cell_type": "code",
   "execution_count": 2,
   "metadata": {},
   "outputs": [],
   "source": [
    "def det_22(A):\n",
    "    \"\"\"\n",
    "    Compute the determinant of a 2x2 matrix\n",
    "    ----------   \n",
    "    parameters:\n",
    "    A : matrix (numpy array of size 2,2)\n",
    "    \n",
    "    returns:\n",
    "    det : determinant of A\n",
    "    \"\"\"\n",
    "\n",
    "    ### write your formula here\n",
    "    det = A[0, 0] * A[1, 1] - A[0, 1] * A[1, 0]\n",
    "\n",
    "    return det"
   ]
  },
  {
   "cell_type": "code",
   "execution_count": 3,
   "metadata": {},
   "outputs": [
    {
     "name": "stdout",
     "output_type": "stream",
     "text": [
      "det(B) =  -2\n"
     ]
    }
   ],
   "source": [
    "#Test the function det_22 with the following matrix\n",
    "B = np.array([[1, 2], [3, 4]])\n",
    "det_B = det_22(B)\n",
    "print(\"det(B) = \", det_B)"
   ]
  },
  {
   "cell_type": "markdown",
   "metadata": {},
   "source": [
    "---\n",
    "\n",
    "## Determinant of a 3 $\\times$ 3 matrix"
   ]
  },
  {
   "cell_type": "markdown",
   "metadata": {},
   "source": [
    "**Question 3**\n",
    "\n",
    "a) Using Laplace expansion with respect to the first row, recall the determinant of the matrix \n",
    "\n",
    "$$ A = \\left(\\begin{array}{ccc} a & b & c \\\\ d & e & f \\\\ g & h & i\\end{array}\\right), $$\n",
    "\n",
    "as a function of the vector $(a,b,c)$ and of determinants of $2\\times2$ matrices.\n",
    "\n",
    "b) For the test below, we use the matrix \n",
    "\n",
    "$$ B = \\left(\\begin{array}{ccc} 1 & 2 & 3 \\\\ 4 & 5 & 6 \\\\ 7 & 8 & 9 \\end{array}\\right).$$\n",
    "\n",
    "Compute $det(B)$."
   ]
  },
  {
   "attachments": {},
   "cell_type": "markdown",
   "metadata": {},
   "source": [
    "<table>\n",
    "<tr>   \n",
    "<td bgcolor = lightblue ><font color = white >Answer</td>\n",
    "</tr>\n",
    "</table>\n",
    "\n",
    "---\n",
    "a) We first recall the expression for the laplace expansion of a matrix: The determinant of a matrix $A \\in \\mathbb{R}^{N \\times N}$ satisfies for all $j=1, \\ldots, N$\n",
    "  $$\n",
    "  \\operatorname{det}(A)=\\sum_{i=1}^N A_{i, j} \\operatorname{Com}(A)_{i, j}=\\sum_{i=1}^N A_{j, i} \\operatorname{Com}(A)_{j, i} .\n",
    "  $$\n",
    "  Therefore we have the formula that\n",
    "  $$\n",
    "  \\begin{aligned}\n",
    "  \\operatorname{det}(A) & =(-1)^{1+1} a\\left|\\begin{array}{cc}\n",
    "  e & f \\\\\n",
    "  h & i\n",
    "  \\end{array}\\right|+(-1)^{1+2} b\\left|\\begin{array}{cc}\n",
    "  d & f \\\\\n",
    "  g & i\n",
    "  \\end{array}\\right|+(-1)^{1+3} c\\left|\\begin{array}{ll}\n",
    "  d & e \\\\\n",
    "  g & h\n",
    "  \\end{array}\\right| \\\\\n",
    "  & =a(e i-h f)-b(d i-g f)+c(d h-g e),\n",
    "  \\end{aligned}\n",
    "  $$\n",
    "\n",
    "b) From the formula we have $det(B)=0$\n",
    "\n",
    "---"
   ]
  },
  {
   "cell_type": "markdown",
   "metadata": {},
   "source": [
    "**Question 4**\n",
    "\n",
    "How many operations are required for: \n",
    "- the computation of the full determinant, knowing the vector $(a,b,c)$ and all the determinants of the $2\\times2$ matrices \n",
    "- the computation of all the determinants of the $2\\times2$ matrices \n",
    "- then the computation of the full determinant, knowing only $A$"
   ]
  },
  {
   "attachments": {},
   "cell_type": "markdown",
   "metadata": {},
   "source": [
    "<table>\n",
    "<tr>   \n",
    "<td bgcolor = lightblue ><font color = white >Answer</td>\n",
    "</tr>\n",
    "</table>\n",
    "\n",
    "---\n",
    "- Since we know the vector $(a,b,c)$ and all the determinants of the $2\\times2$ matrices, therefore we need 3 multiplications and 2 additions.\n",
    "  - For each $2 \\times 2$ determinant, we need 2 multiplications and 1 subtraction which is 3 operations in total.\n",
    "  - Therefore, in total the operations are $3 \\times 3 + 2 + 3= 14$\n",
    "  - This corresponds to $det(A) = a(ei-fh) - b (di-gf) + c (dh-eg)$.\n",
    "  \n",
    "<br>\n",
    "\n",
    "- If you consider the multiplication by $(-1)^{1+k}$ as an operation, then this makes \n",
    "  - the sum of three terms (2 additions; each term is of the form  $(-1)^{1+k} \\times A_{1,k} \\times \\text{det}(A_{-1,-k})$ ).\n",
    "  - Each of them composed of the 3 terms multiplied (2 multiplications).\n",
    "  - Among them, the term $\\text{det}(A_{-1,-k})$ is the determinant of a $2\\times2$ matrix and requires 3 operations to be computed.\n",
    "\n",
    "<br>\n",
    "\n",
    "- In total, this makes 2 (sum of 3 terms) + 3 (nb of terms in the sum) $\\times$ (2 (mult) +3 (det 2x2)) = <b>17 operations </b>.\n",
    "  - This corresponds to the formula $det(A) = 1 \\times a \\times (ei-fh) + (-1) \\times b \\times (di-gf) + 1 \\times c \\times (dh-eg)$\n",
    "\n",
    "---\n",
    "\n"
   ]
  },
  {
   "cell_type": "markdown",
   "metadata": {},
   "source": [
    "**Question 5**\n",
    "\n",
    "a) Implement a function that takes such a $3\\times3$ matrix in entry and returns its determinant using this formula. \n",
    "\n",
    "***Indications:***\n",
    "- You should use the function \"det_22\" you coded before.</li>\n",
    "- You can use the function \"delete\" of numpy: \n",
    "    - delete(B, j, 0) returns the matrix B without the $j$-th row, \n",
    "    - delete(B, j, 1) returns the matrix B without its j-th column.\n",
    "\n",
    "b) Test your algorithm on the matrix $B$ and compare it with the result obtained in 3.b. "
   ]
  },
  {
   "cell_type": "code",
   "execution_count": 4,
   "metadata": {},
   "outputs": [
    {
     "name": "stdout",
     "output_type": "stream",
     "text": [
      "B: \n",
      " [[1 2 3]\n",
      " [4 5 6]\n",
      " [7 8 9]] \n",
      "\n",
      "delete(B, 1, 0):\n",
      "  [[1 2 3]\n",
      " [7 8 9]] \n",
      "\n",
      "delete(B, 1, 1):\n",
      " [[1 3]\n",
      " [4 6]\n",
      " [7 9]] \n",
      "\n"
     ]
    }
   ],
   "source": [
    "#Example of use of the function delete\n",
    "B = np.array([[1, 2, 3], [4, 5, 6], [7, 8, 9]])\n",
    "\n",
    "print(\"B: \\n\", B, \"\\n\")\n",
    "print(\"delete(B, 1, 0):\\n \", np.delete(B, 1, 0), \"\\n\")\n",
    "print(\"delete(B, 1, 1):\\n\", np.delete(B, 1, 1), \"\\n\")"
   ]
  },
  {
   "cell_type": "code",
   "execution_count": 5,
   "metadata": {},
   "outputs": [],
   "source": [
    "def det_33(A):\n",
    "    \"\"\"\n",
    "    Compute the determinant of a 3x3 matrix\n",
    "    ----------   \n",
    "    parameters:\n",
    "    A : matrix (numpy array of size 3,3)\n",
    "    \n",
    "    returns:\n",
    "    det : determinant of A\n",
    "    \"\"\"\n",
    "\n",
    "    ### write your formula here\n",
    "    det = 0\n",
    "    for i in range(3):\n",
    "        det += (-1)**(i + 2) * A[0, i] * det_22(\n",
    "            np.delete(np.delete(A, 0, 0), i, 1))\n",
    "\n",
    "    return det"
   ]
  },
  {
   "cell_type": "code",
   "execution_count": 6,
   "metadata": {},
   "outputs": [
    {
     "name": "stdout",
     "output_type": "stream",
     "text": [
      "det(B) =  0\n"
     ]
    }
   ],
   "source": [
    "#Test the function det_33\n",
    "B     = np.array([[1,2,3],[4,5,6],[7,8,9]])\n",
    "\n",
    "det_B = det_33(B)\n",
    "\n",
    "print(\"det(B) = \", det_B)"
   ]
  },
  {
   "cell_type": "markdown",
   "metadata": {},
   "source": [
    "---\n",
    "\n",
    "## Determinant of a $N\\times N$ matrix"
   ]
  },
  {
   "cell_type": "markdown",
   "metadata": {},
   "source": [
    "**Important remark before starting:** \n",
    "\n",
    "In this section, we will implement a recursive algorithm, i.e. a function that calls itself in its definition. If possible, this type of algorithms should be avoided, because \n",
    "- It may create infinite loops if it is badly implemented (missing stopping criterium).\n",
    "- It may fill the memory if the loop is too long. Especially, Python stores all the intermediate variables, and the storage increases very fast in the present algorithm.\n",
    "\n",
    "The algorithm proposed here should break after few iterations, so <b>SAVE REGULARLY YOUR NOTEBOOK</b>."
   ]
  },
  {
   "cell_type": "markdown",
   "metadata": {},
   "source": [
    "**Question 6**  \n",
    "\n",
    "Using again Laplace expansion with respect to the first row, recall the determinant of the matrix $A \\in \\mathbb{R}^{N\\times N}$ as a function of the vector $V = (A_{1,i})_{i=1,\\dots,N}$ and of determinants of smaller matrices of size $(N-1)\\times(N-1)$. "
   ]
  },
  {
   "attachments": {},
   "cell_type": "markdown",
   "metadata": {},
   "source": [
    "<table>\n",
    "<tr>   \n",
    "<td bgcolor = lightblue ><font color = white >Answer</td>\n",
    "</tr>\n",
    "</table>\n",
    "\n",
    "---\n",
    "**Answer:** \n",
    "Again recall the expression for the laplace expansion of a matrix: The determinant of a matrix $A \\in \\mathbb{R}^{N \\times N}$ satisfies for all $j=1, \\ldots, N$\n",
    "$$\n",
    "\\operatorname{det}(A)=\\sum_{i=1}^N A_{i, j} \\operatorname{Com}(A)_{i, j}=\\sum_{i=1}^N A_{j, i} \\operatorname{Com}(A)_{j, i} .\n",
    "$$\n",
    "Therefore we have the formula that\n",
    "$$\n",
    "\\operatorname{det}(A) = \\sum_{i=1}^N (-1)^{i+1} A_{1,i} \\operatorname{Com}(A)_{1,i}\n",
    "$$\n",
    "\n",
    "---"
   ]
  },
  {
   "cell_type": "markdown",
   "metadata": {},
   "source": [
    "**Question 7**\n",
    "\n",
    "a) How many operations are required for: \n",
    "- The computation of the full determinant, knowing the vector $V$ and all the determinants of the smaller matrices as a function $N$.\n",
    "- then for the computation of each determinant of the smaller matrices of size $(N-1)\\times(N-1)$ in terms of the $N-2$ step.\n",
    "\n",
    "b) How many determinants of size $(N-1)\\times(N-1)$ are necessary? Then of size $(N-2)\\times(N-2)$? </li>\n",
    "\n",
    "c) Using a similar iterative sequence, write a formula for the quantity $Q_N$ of operations required for the computation of a determinant of a $N\\times N$ matrix as a function of $Q_{N-1}$ and $N$. Compare this sequence to the sequence $N!$.</li>"
   ]
  },
  {
   "attachments": {},
   "cell_type": "markdown",
   "metadata": {},
   "source": [
    "<table>\n",
    "<tr>   \n",
    "<td bgcolor = lightblue ><font color = white >Answer</td>\n",
    "</tr>\n",
    "</table>\n",
    "\n",
    "---\n",
    "- - Since we know the vector $V$ and all the determinants of the smaller matrices, therefore we need $N-1$ additions and $2N$ multplications ($(-1)^{k}$ and $com(A)$), which in total are 3N-1.\n",
    "  - For the same reason, with the de terminant of size $N-1$ we got $3(N-1)-1$ operations in total.\n",
    "\n",
    "- - The number of determinants of size $(N-1)\\times(N-1)$ is $N$.\n",
    "  - The number of determinants of size $(N-2)\\times(N-2)$ is $N-1$.\n",
    "\n",
    "- We have the recursion formula that\n",
    "  $$\n",
    "  Q_N = 3N-1 + N Q_{N-1}\n",
    "  $$\n",
    "  where from the previous question we have $Q_{2} = 3$.\n",
    "\n",
    "---"
   ]
  },
  {
   "cell_type": "markdown",
   "metadata": {},
   "source": [
    "**Question 8**\n",
    "\n",
    "a) Save your notebook, and save it regularly while debugging.\n",
    "\n",
    "b) In the test below, we use the matrix \n",
    "\n",
    "$$ B = \\left( \\begin{array}{cccc} 1 & 2 & 3 & 4 \\\\ 5 & 6 & 7 & 8 \\\\ 9 & 10 & 11 & 12 \\\\ 13 & 14 & 15 & 16 \\end{array}\\right).$$\n",
    "\n",
    "Compute $det(B)$. \n",
    "\n",
    "c) Using Laplace formula with respect to the first row of $A$, implement a function that takes a matrix $A\\in\\mathbb{R}^{N\\times N}$, and the size $N$ in entry and returns its determinant. \n",
    "\n",
    "***Indications:***\n",
    "- This algorithm should exploit the functions \n",
    "    - \"det_22\" if $N=2$,\n",
    "    - or \"det_NN\" itself with a new $N'=N-1$ if $N>2$ (recursive definition)\n",
    "- You may use the function \"delete\" of numpy.\n",
    "\n",
    "d) Test your algorithm on the matrix $B$ and compare it with the result obtained in 8.b. "
   ]
  },
  {
   "cell_type": "code",
   "execution_count": 10,
   "metadata": {},
   "outputs": [],
   "source": [
    "def det_NN(A, N):\n",
    "    \"\"\"\n",
    "    Compute the determinant of a NxN matrix\n",
    "    ----------   \n",
    "    parameters:\n",
    "    A : matrix (numpy array of size N,N)\n",
    "    N : size of the matrix\n",
    "    \n",
    "    returns:\n",
    "    det : determinant of A\n",
    "    \"\"\"\n",
    "\n",
    "    ### modify this algorithm\n",
    "    det = 0\n",
    "\n",
    "    if (N == 2):\n",
    "        ### return the determinant of a 2x2 matrix\n",
    "        det += det_22(A)\n",
    "        return det\n",
    "    else:\n",
    "        ### return the determinant of a NxN matrix using Laplace expansion\n",
    "        for i in range(N):\n",
    "            sub_mat = np.delete(np.delete(A, 0, axis=0), i, axis=1)\n",
    "            sub_det = det_NN(sub_mat, N - 1)\n",
    "            det += (-1)**i * A[0, i] * sub_det\n",
    "            \n",
    "    return det"
   ]
  },
  {
   "cell_type": "code",
   "execution_count": 11,
   "metadata": {},
   "outputs": [
    {
     "name": "stdout",
     "output_type": "stream",
     "text": [
      "det(B) =  0\n"
     ]
    }
   ],
   "source": [
    "#Test this function\n",
    "B = np.array([[1, 2, 3, 4], [5, 6, 7, 8], [9, 10, 11, 12], [13, 14, 15, 16]])\n",
    "det_B = det_NN(B, 4)\n",
    "\n",
    "print(\"det(B) = \", det_B)"
   ]
  },
  {
   "cell_type": "markdown",
   "metadata": {},
   "source": [
    "**Question 9**\n",
    "\n",
    "Now copy your algorithm. And add a counter of operations performed for the computation of the determinant. \n",
    "\n",
    "a) Test your algorithm with the provided $4\\times4$ matrix and verify the obtained number of operations.\n",
    "\n",
    "b) Test your algorithm with the identity matrices of size $N = 2,...,6$ and plot the number of operations as a function of $N$. \n",
    "\n",
    "c) Verify the formula of $Q_N$ found in 7.c."
   ]
  },
  {
   "cell_type": "code",
   "execution_count": 18,
   "metadata": {},
   "outputs": [],
   "source": [
    "def det_NN_count(A, N):\n",
    "    \"\"\"\n",
    "    Compute the determinant of a NxN matrix\n",
    "    ----------   \n",
    "    parameters:\n",
    "    A       : matrix (numpy array of size N,N)\n",
    "    N       : size of the matrix\n",
    "    counter : \n",
    "    \n",
    "    returns:\n",
    "    det     : determinant of A\n",
    "    counter : number of operations performed in the algorithm\n",
    "    \"\"\"\n",
    "\n",
    "    ### modify this algorithm\n",
    "    det = 0\n",
    "    counter = 0\n",
    "\n",
    "    if (N == 2):\n",
    "        ### return the determinant of a 2x2 matrix\n",
    "        det += det_22(A)\n",
    "        counter += 3\n",
    "        return det, counter\n",
    "    else:\n",
    "        ### return the determinant of a NxN matrix using Laplace expansion\n",
    "        for i in range(N):\n",
    "            sub_mat = np.delete(np.delete(A, 0, axis=0), i, axis=1)\n",
    "            sub_det = det_NN(sub_mat, N - 1)\n",
    "            det += (-1)**i * A[0, i] * sub_det\n",
    "\n",
    "        counter += 3 * N - 1 + N * det_NN_count(sub_mat, N - 1)[1]\n",
    "\n",
    "    return det, counter"
   ]
  },
  {
   "cell_type": "code",
   "execution_count": 19,
   "metadata": {},
   "outputs": [
    {
     "name": "stdout",
     "output_type": "stream",
     "text": [
      "det(B) =  0\n",
      "number of operations =  79\n"
     ]
    }
   ],
   "source": [
    "#Test this function\n",
    "B = np.array([[1, 2, 3, 4], [5, 6, 7, 8], [9, 10, 11, 12], [13, 14, 15, 16]])\n",
    "\n",
    "det_B, counter_op = det_NN_count(B, len(B))\n",
    "\n",
    "print(\"det(B) = \", det_B)\n",
    "print(\"number of operations = \", counter_op)"
   ]
  },
  {
   "cell_type": "code",
   "execution_count": 23,
   "metadata": {},
   "outputs": [
    {
     "data": {
      "text/plain": [
       "<Figure size 432x288 with 0 Axes>"
      ]
     },
     "metadata": {},
     "output_type": "display_data"
    },
    {
     "data": {
      "image/png": "[encoded data removed]",
      "text/plain": [
       "<Figure size 720x504 with 1 Axes>"
      ]
     },
     "metadata": {
      "needs_background": "light"
     },
     "output_type": "display_data"
    }
   ],
   "source": [
    "# maximum size of the matrix\n",
    "N = 6\n",
    "\n",
    "# number of operations (algo and theory)\n",
    "c = np.zeros(N - 2)\n",
    "c_ref = np.zeros(N - 2)\n",
    "\n",
    "# loop on the size of matrix\n",
    "for i in range(2, N):\n",
    "    # example of matrix of size i (only the size matters to compute the number of operations)\n",
    "    B = np.eye(i)\n",
    "\n",
    "    # count the number of operation by the algorithm\n",
    "    det_B, c[i - 2] = det_NN_count(B, i)\n",
    "    # modify with the value found in 7.c (theory)\n",
    "    if (i == 2):\n",
    "        c_ref[i - 2] = 3\n",
    "    else:\n",
    "        c_ref[i - 2] = 3 * i - 1 + i * c_ref[i - 3]\n",
    "\n",
    "# plot the number of operation as a function of N\n",
    "plt.figure(1)\n",
    "plt.figure(figsize=(10, 7))\n",
    "plt.plot(range(2, N), c, color='red', label=\"Nb of operation in the code\")\n",
    "plt.plot(range(2, N),\n",
    "         c_ref,\n",
    "         '--',\n",
    "         color='blue',\n",
    "         label=\"Nb of operation in theory\")\n",
    "plt.legend()\n",
    "plt.show()"
   ]
  },
  {
   "cell_type": "markdown",
   "metadata": {},
   "source": [
    "**Question 10** \n",
    "\n",
    "a) <b>Save your notebook</b> before every run. \n",
    "\n",
    "b) Test again your algorithm with a $N\\times N$ matrix with $N=15$.\n",
    "\n",
    "c) Up to which $N$ is your code efficient? And for which $N$ is it impossible to use? "
   ]
  },
  {
   "cell_type": "code",
   "execution_count": null,
   "metadata": {},
   "outputs": [],
   "source": []
  },
  {
   "cell_type": "markdown",
   "metadata": {},
   "source": [
    "**Answer:** "
   ]
  },
  {
   "cell_type": "markdown",
   "metadata": {},
   "source": [
    "---\n",
    "\n",
    "## Computation of the inverse\n",
    "\n",
    "**To go further:**"
   ]
  },
  {
   "cell_type": "markdown",
   "metadata": {},
   "source": [
    "**Questions 11**\n",
    "\n",
    " Recall Cramer's formula for the solution of the linear system $A V = b$. \n"
   ]
  },
  {
   "attachments": {},
   "cell_type": "markdown",
   "metadata": {},
   "source": [
    "<table>\n",
    "<tr>   \n",
    "<td bgcolor = lightblue ><font color = white >Answer</td>\n",
    "</tr>\n",
    "</table>\n",
    "\n",
    "---\n",
    "Consider a linear equation $A V=b$ with $\\operatorname{det}(A) \\neq 0$, then its solution satisfies\n",
    "$$\n",
    "V_i=\\frac{\\operatorname{det}\\left(C^1, \\ldots, C^{i-1}, b, C^{i+1}, \\ldots, C^N\\right)}{\\operatorname{det}(A)},\n",
    "$$\n",
    "where $C^i$ is the $i$-th column of $A$.\n",
    "\n",
    "---"
   ]
  },
  {
   "cell_type": "markdown",
   "metadata": {},
   "source": [
    "**Question 12**\n",
    "\n",
    " Implement an algorithm to solve a linear system $AV=b$ using the functions \"det_NN\", and test it with the matrix provided."
   ]
  },
  {
   "cell_type": "code",
   "execution_count": 26,
   "metadata": {},
   "outputs": [],
   "source": [
    "def Cramer(A, b):\n",
    "    \"\"\"\n",
    "    Solves the problem AV = b with Cramer's formula\n",
    "    ----------   \n",
    "    parameters:\n",
    "    A       : matrix (numpy array of size N,N)\n",
    "    b       : RHS vector (numpy array of size N)\n",
    "    counter : \n",
    "    \n",
    "    returns:\n",
    "    V     : solution of the problem AV = b\n",
    "    \"\"\"\n",
    "\n",
    "    ### Write your formula\n",
    "    det = det_NN(A, len(A))\n",
    "    B = A.copy()\n",
    "\n",
    "    V = np.zeros(len(b))\n",
    "    for i in range(len(b)):\n",
    "        B[:, i] = b  # substitute the i-th column of A by b\n",
    "        V[i] = det_NN(B, len(A)) / det\n",
    "        B = A.copy()\n",
    "\n",
    "    return V"
   ]
  },
  {
   "cell_type": "code",
   "execution_count": 27,
   "metadata": {},
   "outputs": [
    {
     "name": "stdout",
     "output_type": "stream",
     "text": [
      "V  =  [-1.5         0.21428571  0.21428571  0.21428571  0.35714286]\n",
      "AV =  [1. 1. 1. 1. 2.]\n"
     ]
    }
   ],
   "source": [
    "N = 5\n",
    "\n",
    "B = np.ones((N, N)) + (N + 2.) * np.eye(N)\n",
    "B[0, 0] = 0\n",
    "b = np.ones(N)\n",
    "b[-1] = 2\n",
    "sol = Cramer(B, b)\n",
    "\n",
    "print(\"V  = \", sol)\n",
    "print(\"AV = \", np.matmul(B, sol))\n"
   ]
  },
  {
   "cell_type": "markdown",
   "metadata": {},
   "source": [
    "**Question 13**\n",
    "\n",
    "Count the number of operations required to compute this solution with Cramer's formula for different $N$. "
   ]
  },
  {
   "cell_type": "code",
   "execution_count": null,
   "metadata": {},
   "outputs": [],
   "source": []
  },
  {
   "cell_type": "markdown",
   "metadata": {},
   "source": [
    "---\n",
    "\n",
    "## Tutorial Exercises\n",
    "\n",
    "**Exercise 2).** Consider the following matrix:\n",
    "$$\n",
    "A=\\left(\\begin{array}{llll}\n",
    "1 & 0 & 2 & 0 \\\\\n",
    "1 & 1 & 1 & 1 \\\\\n",
    "3 & 1 & 6 & 0 \\\\\n",
    "0 & 2 & 0 & 1\n",
    "\\end{array}\\right), \\quad B=\\left(\\begin{array}{ccccccc}\n",
    "1 & 2 & 3 & 0 & 1 & 1 & 2 \\\\\n",
    "1 & 1 & 1 & 0 & 2 & 1 & 1 \\\\\n",
    "1 & 3 & 2 & 0 & 1 & 1 & 3 \\\\\n",
    "1 & 4 & 1 & 1 & 2 & 3 & 2 \\\\\n",
    "1 & 1 & 4 & 0 & 1 & 1 & 3 \\\\\n",
    "1 & 2 & 2 & 0 & 2 & 1 & -1 \\\\\n",
    "1 & -1 & 1 & 0 & 1 & 1 & 1\n",
    "\\end{array}\\right) .\n",
    "$$\n",
    "1. Compute the determinants of $A$ and $B$.\n",
    "\n",
    "2. When it is possible, compute its inverse."
   ]
  },
  {
   "cell_type": "code",
   "execution_count": 30,
   "metadata": {},
   "outputs": [
    {
     "name": "stdout",
     "output_type": "stream",
     "text": [
      "det(A) =  1\n",
      "det(B) =  0\n"
     ]
    }
   ],
   "source": [
    "A = np.array([[1, 0, 2, 0], \n",
    "              [1, 1, 1, 1], \n",
    "              [3, 1, 6, 0],\n",
    "              [0, 2, 0, 1]])\n",
    "\n",
    "print(\"det(A) = \", det_NN(A, len(A)))\n",
    "  \n",
    "B = np.array([[1, 2, 3, 1, 1, 2], \n",
    "              [1, 1, 1, 2, 1, 1],\n",
    "              [1, 3, 2, 1, 1, 3],\n",
    "              [1, 1, 4, 1, 1, 3],\n",
    "              [1, 2, 2, 2, 1, -1],\n",
    "              [1, -1, 1, 1, 1, 1]])\n",
    "\n",
    "print(\"det(B) = \", det_NN(B, len(B)))"
   ]
  },
  {
   "attachments": {},
   "cell_type": "markdown",
   "metadata": {},
   "source": [
    "<table>\n",
    "<tr>   \n",
    "<td bgcolor = lightgreen ><font color = white >Solution</td>\n",
    "</tr>\n",
    "</table>\n",
    "\n",
    "---\n",
    "$$\n",
    "\\operatorname{det}(A)=1, \\quad A^{-1}=\\frac{1}{1}\\left(\\begin{array}{cccc}\n",
    "-7 & 2 & 2 & -2 \\\\\n",
    "-3 & 0 & 1 & 0 \\\\\n",
    "4 & -1 & -1 & 1 \\\\\n",
    "6 & 0 & -2 & 1\n",
    "\\end{array}\\right), \\quad \\operatorname{det}(B)=(-1)^{4+4} 1\\left|\\begin{array}{cccccc}\n",
    "1 & 2 & 3 & 1 & 1 & 2 \\\\\n",
    "1 & 1 & 1 & 2 & 1 & 1 \\\\\n",
    "1 & 3 & 2 & 1 & 1 & 3 \\\\\n",
    "1 & 1 & 4 & 1 & 1 & 3 \\\\\n",
    "1 & 2 & 2 & 2 & 1 & -1 \\\\\n",
    "1 & -1 & 1 & 1 & 1 & 1\n",
    "\\end{array}\\right|=0\n",
    "$$\n",
    "\n",
    "We can find determinant $det(B)$ that the column 1 and 5 is equal, so we can get $det(B)=0$\n",
    "\n",
    "---\n"
   ]
  },
  {
   "cell_type": "code",
   "execution_count": 37,
   "metadata": {},
   "outputs": [],
   "source": [
    "def matrix_transpose(A):\n",
    "    for i in range(len(A)):\n",
    "        for j in range(i + 1, len(A)):\n",
    "            A[i, j], A[j, i] = A[j, i], A[i, j]\n",
    "            \n",
    "    return A\n",
    "\n",
    "def matrix_inverse(A, N):\n",
    "    \"\"\"\n",
    "    Compute the inverse of a NxN matrix\n",
    "    ----------   \n",
    "    parameters:\n",
    "    A : matrix (numpy array of size N,N)\n",
    "    N : size of the matrix\n",
    "    \n",
    "    returns:\n",
    "    A_inv : inverse of A\n",
    "    \"\"\"\n",
    "\n",
    "    ### modify this algorithm\n",
    "    A_inv = np.zeros((N, N))\n",
    "\n",
    "    det = det_NN(A, N)\n",
    "    B = A.copy()\n",
    "\n",
    "    for i in range(N):\n",
    "        for j in range(N):\n",
    "            B[:, j] = np.eye(N)[:, i]  # substitute the j-th column of A by the i-th column of the identity matrix\n",
    "            A_inv[i, j] = det_NN(B, N) / det\n",
    "            B = A.copy()\n",
    "\n",
    "    return matrix_transpose(A_inv)"
   ]
  },
  {
   "cell_type": "code",
   "execution_count": 38,
   "metadata": {},
   "outputs": [
    {
     "name": "stdout",
     "output_type": "stream",
     "text": [
      "We have the inverse matirx\n",
      "[[-7.  2.  2. -2.]\n",
      " [-3.  0.  1.  0.]\n",
      " [ 4. -1. -1.  1.]\n",
      " [ 6.  0. -2.  1.]]\n"
     ]
    }
   ],
   "source": [
    "print(\"We have the inverse matirx\")\n",
    "print(matrix_inverse(A, len(A)))"
   ]
  }
 ],
 "metadata": {
  "kernelspec": {
   "display_name": "Python 3 (ipykernel)",
   "language": "python",
   "name": "python3"
  },
  "language_info": {
   "codemirror_mode": {
    "name": "ipython",
    "version": 3
   },
   "file_extension": ".py",
   "mimetype": "text/x-python",
   "name": "python",
   "nbconvert_exporter": "python",
   "pygments_lexer": "ipython3",
   "version": "3.9.7"
  },
  "latex_envs": {
   "LaTeX_envs_menu_present": true,
   "autoclose": false,
   "autocomplete": true,
   "bibliofile": "biblio.bib",
   "cite_by": "apalike",
   "current_citInitial": 1,
   "eqLabelWithNumbers": true,
   "eqNumInitial": 1,
   "hotkeys": {
    "equation": "Ctrl-E",
    "itemize": "Ctrl-I"
   },
   "labels_anchors": false,
   "latex_user_defs": false,
   "report_style_numbering": false,
   "user_envs_cfg": false
  },
  "toc": {
   "base_numbering": 1,
   "nav_menu": {},
   "number_sections": true,
   "sideBar": true,
   "skip_h1_title": true,
   "title_cell": "Table of Contents",
   "title_sidebar": "Contents",
   "toc_cell": false,
   "toc_position": {},
   "toc_section_display": true,
   "toc_window_display": false
  },
  "varInspector": {
   "cols": {
    "lenName": 16,
    "lenType": 16,
    "lenVar": 40
   },
   "kernels_config": {
    "python": {
     "delete_cmd_postfix": "",
     "delete_cmd_prefix": "del ",
     "library": "var_list.py",
     "varRefreshCmd": "print(var_dic_list())"
    },
    "r": {
     "delete_cmd_postfix": ") ",
     "delete_cmd_prefix": "rm(",
     "library": "var_list.r",
     "varRefreshCmd": "cat(var_dic_list()) "
    }
   },
   "types_to_exclude": [
    "module",
    "function",
    "builtin_function_or_method",
    "instance",
    "_Feature"
   ],
   "window_display": false
  },
  "vscode": {
   "interpreter": {
    "hash": "40d3a090f54c6569ab1632332b64b2c03c39dcf918b08424e98f38b5ae0af88f"
   }
  }
 },
 "nbformat": 4,
 "nbformat_minor": 2
}
